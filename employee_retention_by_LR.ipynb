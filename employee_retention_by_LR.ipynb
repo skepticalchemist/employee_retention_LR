{
 "cells": [
  {
   "cell_type": "markdown",
   "metadata": {},
   "source": [
    "# Predicting employee retention with logistic regression\n",
    "\n",
    "\n",
    "\n",
    "> [Dataset](https://www.kaggle.com/giripujar/hr-analytics/data)"
   ]
  },
  {
   "cell_type": "markdown",
   "metadata": {},
   "source": [
    "## Loading data"
   ]
  },
  {
   "cell_type": "code",
   "execution_count": 1,
   "metadata": {},
   "outputs": [],
   "source": [
    "# importing libraries\n",
    "import pandas as pd \n",
    "import numpy as np\n",
    "import seaborn as sns\n",
    "import matplotlib.pyplot as plt\n",
    "from pandas.plotting import scatter_matrix"
   ]
  },
  {
   "cell_type": "code",
   "execution_count": 2,
   "metadata": {},
   "outputs": [],
   "source": [
    "# loading dataset\n",
    "human_res = pd.read_csv('HR_comma_sep.csv')"
   ]
  },
  {
   "cell_type": "code",
   "execution_count": 3,
   "metadata": {},
   "outputs": [],
   "source": [
    "# show all the columns when using method df.head()\n",
    "pd.set_option('display.max_columns',50)"
   ]
  },
  {
   "cell_type": "markdown",
   "metadata": {},
   "source": [
    "## Exploratory data analysis"
   ]
  },
  {
   "cell_type": "code",
   "execution_count": 4,
   "metadata": {},
   "outputs": [
    {
     "data": {
      "text/html": [
       "<div>\n",
       "<style scoped>\n",
       "    .dataframe tbody tr th:only-of-type {\n",
       "        vertical-align: middle;\n",
       "    }\n",
       "\n",
       "    .dataframe tbody tr th {\n",
       "        vertical-align: top;\n",
       "    }\n",
       "\n",
       "    .dataframe thead th {\n",
       "        text-align: right;\n",
       "    }\n",
       "</style>\n",
       "<table border=\"1\" class=\"dataframe\">\n",
       "  <thead>\n",
       "    <tr style=\"text-align: right;\">\n",
       "      <th></th>\n",
       "      <th>satisfaction_level</th>\n",
       "      <th>last_evaluation</th>\n",
       "      <th>number_project</th>\n",
       "      <th>average_montly_hours</th>\n",
       "      <th>time_spend_company</th>\n",
       "      <th>Work_accident</th>\n",
       "      <th>left</th>\n",
       "      <th>promotion_last_5years</th>\n",
       "      <th>Department</th>\n",
       "      <th>salary</th>\n",
       "    </tr>\n",
       "  </thead>\n",
       "  <tbody>\n",
       "    <tr>\n",
       "      <th>8169</th>\n",
       "      <td>0.51</td>\n",
       "      <td>0.96</td>\n",
       "      <td>3</td>\n",
       "      <td>149</td>\n",
       "      <td>4</td>\n",
       "      <td>0</td>\n",
       "      <td>0</td>\n",
       "      <td>0</td>\n",
       "      <td>accounting</td>\n",
       "      <td>low</td>\n",
       "    </tr>\n",
       "    <tr>\n",
       "      <th>11881</th>\n",
       "      <td>0.66</td>\n",
       "      <td>0.66</td>\n",
       "      <td>4</td>\n",
       "      <td>273</td>\n",
       "      <td>4</td>\n",
       "      <td>1</td>\n",
       "      <td>0</td>\n",
       "      <td>0</td>\n",
       "      <td>IT</td>\n",
       "      <td>low</td>\n",
       "    </tr>\n",
       "    <tr>\n",
       "      <th>10274</th>\n",
       "      <td>0.61</td>\n",
       "      <td>0.52</td>\n",
       "      <td>5</td>\n",
       "      <td>255</td>\n",
       "      <td>3</td>\n",
       "      <td>0</td>\n",
       "      <td>0</td>\n",
       "      <td>0</td>\n",
       "      <td>support</td>\n",
       "      <td>medium</td>\n",
       "    </tr>\n",
       "    <tr>\n",
       "      <th>7326</th>\n",
       "      <td>0.81</td>\n",
       "      <td>0.56</td>\n",
       "      <td>4</td>\n",
       "      <td>262</td>\n",
       "      <td>3</td>\n",
       "      <td>0</td>\n",
       "      <td>0</td>\n",
       "      <td>0</td>\n",
       "      <td>RandD</td>\n",
       "      <td>medium</td>\n",
       "    </tr>\n",
       "    <tr>\n",
       "      <th>13686</th>\n",
       "      <td>0.67</td>\n",
       "      <td>0.65</td>\n",
       "      <td>3</td>\n",
       "      <td>265</td>\n",
       "      <td>3</td>\n",
       "      <td>0</td>\n",
       "      <td>0</td>\n",
       "      <td>0</td>\n",
       "      <td>product_mng</td>\n",
       "      <td>medium</td>\n",
       "    </tr>\n",
       "  </tbody>\n",
       "</table>\n",
       "</div>"
      ],
      "text/plain": [
       "       satisfaction_level  last_evaluation  number_project  \\\n",
       "8169                 0.51             0.96               3   \n",
       "11881                0.66             0.66               4   \n",
       "10274                0.61             0.52               5   \n",
       "7326                 0.81             0.56               4   \n",
       "13686                0.67             0.65               3   \n",
       "\n",
       "       average_montly_hours  time_spend_company  Work_accident  left  \\\n",
       "8169                    149                   4              0     0   \n",
       "11881                   273                   4              1     0   \n",
       "10274                   255                   3              0     0   \n",
       "7326                    262                   3              0     0   \n",
       "13686                   265                   3              0     0   \n",
       "\n",
       "       promotion_last_5years   Department  salary  \n",
       "8169                       0   accounting     low  \n",
       "11881                      0           IT     low  \n",
       "10274                      0      support  medium  \n",
       "7326                       0        RandD  medium  \n",
       "13686                      0  product_mng  medium  "
      ]
     },
     "execution_count": 4,
     "metadata": {},
     "output_type": "execute_result"
    }
   ],
   "source": [
    "# visualize 5 random rows of the dataset\n",
    "human_res.sample(5)"
   ]
  },
  {
   "cell_type": "code",
   "execution_count": 5,
   "metadata": {},
   "outputs": [
    {
     "name": "stdout",
     "output_type": "stream",
     "text": [
      "Number of rows: 14999\n",
      "Number of columns: 10\n"
     ]
    }
   ],
   "source": [
    "# dataset size\n",
    "print(f'Number of rows: {human_res.shape[0]}')\n",
    "print(f'Number of columns: {human_res.shape[1]}')"
   ]
  },
  {
   "cell_type": "code",
   "execution_count": 6,
   "metadata": {},
   "outputs": [
    {
     "name": "stdout",
     "output_type": "stream",
     "text": [
      "<class 'pandas.core.frame.DataFrame'>\n",
      "RangeIndex: 14999 entries, 0 to 14998\n",
      "Data columns (total 10 columns):\n",
      " #   Column                 Non-Null Count  Dtype  \n",
      "---  ------                 --------------  -----  \n",
      " 0   satisfaction_level     14999 non-null  float64\n",
      " 1   last_evaluation        14999 non-null  float64\n",
      " 2   number_project         14999 non-null  int64  \n",
      " 3   average_montly_hours   14999 non-null  int64  \n",
      " 4   time_spend_company     14999 non-null  int64  \n",
      " 5   Work_accident          14999 non-null  int64  \n",
      " 6   left                   14999 non-null  int64  \n",
      " 7   promotion_last_5years  14999 non-null  int64  \n",
      " 8   Department             14999 non-null  object \n",
      " 9   salary                 14999 non-null  object \n",
      "dtypes: float64(2), int64(6), object(2)\n",
      "memory usage: 1.1+ MB\n"
     ]
    }
   ],
   "source": [
    "# dataset summary\n",
    "human_res.info()"
   ]
  },
  {
   "cell_type": "code",
   "execution_count": 7,
   "metadata": {},
   "outputs": [
    {
     "data": {
      "text/html": [
       "<div>\n",
       "<style scoped>\n",
       "    .dataframe tbody tr th:only-of-type {\n",
       "        vertical-align: middle;\n",
       "    }\n",
       "\n",
       "    .dataframe tbody tr th {\n",
       "        vertical-align: top;\n",
       "    }\n",
       "\n",
       "    .dataframe thead th {\n",
       "        text-align: right;\n",
       "    }\n",
       "</style>\n",
       "<table border=\"1\" class=\"dataframe\">\n",
       "  <thead>\n",
       "    <tr style=\"text-align: right;\">\n",
       "      <th></th>\n",
       "      <th>satisfaction_level</th>\n",
       "      <th>last_evaluation</th>\n",
       "      <th>number_project</th>\n",
       "      <th>average_montly_hours</th>\n",
       "      <th>time_spend_company</th>\n",
       "      <th>Work_accident</th>\n",
       "      <th>left</th>\n",
       "      <th>promotion_last_5years</th>\n",
       "    </tr>\n",
       "  </thead>\n",
       "  <tbody>\n",
       "    <tr>\n",
       "      <th>count</th>\n",
       "      <td>14999.000000</td>\n",
       "      <td>14999.000000</td>\n",
       "      <td>14999.000000</td>\n",
       "      <td>14999.000000</td>\n",
       "      <td>14999.000000</td>\n",
       "      <td>14999.000000</td>\n",
       "      <td>14999.000000</td>\n",
       "      <td>14999.000000</td>\n",
       "    </tr>\n",
       "    <tr>\n",
       "      <th>mean</th>\n",
       "      <td>0.612834</td>\n",
       "      <td>0.716102</td>\n",
       "      <td>3.803054</td>\n",
       "      <td>201.050337</td>\n",
       "      <td>3.498233</td>\n",
       "      <td>0.144610</td>\n",
       "      <td>0.238083</td>\n",
       "      <td>0.021268</td>\n",
       "    </tr>\n",
       "    <tr>\n",
       "      <th>std</th>\n",
       "      <td>0.248631</td>\n",
       "      <td>0.171169</td>\n",
       "      <td>1.232592</td>\n",
       "      <td>49.943099</td>\n",
       "      <td>1.460136</td>\n",
       "      <td>0.351719</td>\n",
       "      <td>0.425924</td>\n",
       "      <td>0.144281</td>\n",
       "    </tr>\n",
       "    <tr>\n",
       "      <th>min</th>\n",
       "      <td>0.090000</td>\n",
       "      <td>0.360000</td>\n",
       "      <td>2.000000</td>\n",
       "      <td>96.000000</td>\n",
       "      <td>2.000000</td>\n",
       "      <td>0.000000</td>\n",
       "      <td>0.000000</td>\n",
       "      <td>0.000000</td>\n",
       "    </tr>\n",
       "    <tr>\n",
       "      <th>25%</th>\n",
       "      <td>0.440000</td>\n",
       "      <td>0.560000</td>\n",
       "      <td>3.000000</td>\n",
       "      <td>156.000000</td>\n",
       "      <td>3.000000</td>\n",
       "      <td>0.000000</td>\n",
       "      <td>0.000000</td>\n",
       "      <td>0.000000</td>\n",
       "    </tr>\n",
       "    <tr>\n",
       "      <th>50%</th>\n",
       "      <td>0.640000</td>\n",
       "      <td>0.720000</td>\n",
       "      <td>4.000000</td>\n",
       "      <td>200.000000</td>\n",
       "      <td>3.000000</td>\n",
       "      <td>0.000000</td>\n",
       "      <td>0.000000</td>\n",
       "      <td>0.000000</td>\n",
       "    </tr>\n",
       "    <tr>\n",
       "      <th>75%</th>\n",
       "      <td>0.820000</td>\n",
       "      <td>0.870000</td>\n",
       "      <td>5.000000</td>\n",
       "      <td>245.000000</td>\n",
       "      <td>4.000000</td>\n",
       "      <td>0.000000</td>\n",
       "      <td>0.000000</td>\n",
       "      <td>0.000000</td>\n",
       "    </tr>\n",
       "    <tr>\n",
       "      <th>max</th>\n",
       "      <td>1.000000</td>\n",
       "      <td>1.000000</td>\n",
       "      <td>7.000000</td>\n",
       "      <td>310.000000</td>\n",
       "      <td>10.000000</td>\n",
       "      <td>1.000000</td>\n",
       "      <td>1.000000</td>\n",
       "      <td>1.000000</td>\n",
       "    </tr>\n",
       "  </tbody>\n",
       "</table>\n",
       "</div>"
      ],
      "text/plain": [
       "       satisfaction_level  last_evaluation  number_project  \\\n",
       "count        14999.000000     14999.000000    14999.000000   \n",
       "mean             0.612834         0.716102        3.803054   \n",
       "std              0.248631         0.171169        1.232592   \n",
       "min              0.090000         0.360000        2.000000   \n",
       "25%              0.440000         0.560000        3.000000   \n",
       "50%              0.640000         0.720000        4.000000   \n",
       "75%              0.820000         0.870000        5.000000   \n",
       "max              1.000000         1.000000        7.000000   \n",
       "\n",
       "       average_montly_hours  time_spend_company  Work_accident          left  \\\n",
       "count          14999.000000        14999.000000   14999.000000  14999.000000   \n",
       "mean             201.050337            3.498233       0.144610      0.238083   \n",
       "std               49.943099            1.460136       0.351719      0.425924   \n",
       "min               96.000000            2.000000       0.000000      0.000000   \n",
       "25%              156.000000            3.000000       0.000000      0.000000   \n",
       "50%              200.000000            3.000000       0.000000      0.000000   \n",
       "75%              245.000000            4.000000       0.000000      0.000000   \n",
       "max              310.000000           10.000000       1.000000      1.000000   \n",
       "\n",
       "       promotion_last_5years  \n",
       "count           14999.000000  \n",
       "mean                0.021268  \n",
       "std                 0.144281  \n",
       "min                 0.000000  \n",
       "25%                 0.000000  \n",
       "50%                 0.000000  \n",
       "75%                 0.000000  \n",
       "max                 1.000000  "
      ]
     },
     "execution_count": 7,
     "metadata": {},
     "output_type": "execute_result"
    }
   ],
   "source": [
    "# descriptive statistics\n",
    "human_res.describe()"
   ]
  },
  {
   "cell_type": "code",
   "execution_count": 8,
   "metadata": {},
   "outputs": [
    {
     "data": {
      "text/plain": [
       "['satisfaction_level',\n",
       " 'last_evaluation',\n",
       " 'number_project',\n",
       " 'average_montly_hours',\n",
       " 'time_spend_company',\n",
       " 'Work_accident',\n",
       " 'left',\n",
       " 'promotion_last_5years',\n",
       " 'Department',\n",
       " 'salary']"
      ]
     },
     "execution_count": 8,
     "metadata": {},
     "output_type": "execute_result"
    }
   ],
   "source": [
    "# show column names\n",
    "list(human_res.columns)"
   ]
  },
  {
   "cell_type": "code",
   "execution_count": 9,
   "metadata": {},
   "outputs": [],
   "source": [
    "# convert column names to lowercase\n",
    "human_res.columns = map(str.lower, human_res.columns)"
   ]
  },
  {
   "cell_type": "code",
   "execution_count": 10,
   "metadata": {},
   "outputs": [
    {
     "data": {
      "text/html": [
       "<div>\n",
       "<style scoped>\n",
       "    .dataframe tbody tr th:only-of-type {\n",
       "        vertical-align: middle;\n",
       "    }\n",
       "\n",
       "    .dataframe tbody tr th {\n",
       "        vertical-align: top;\n",
       "    }\n",
       "\n",
       "    .dataframe thead th {\n",
       "        text-align: right;\n",
       "    }\n",
       "</style>\n",
       "<table border=\"1\" class=\"dataframe\">\n",
       "  <thead>\n",
       "    <tr style=\"text-align: right;\">\n",
       "      <th></th>\n",
       "      <th>satisfaction_level</th>\n",
       "      <th>last_evaluation</th>\n",
       "      <th>number_project</th>\n",
       "      <th>average_montly_hours</th>\n",
       "      <th>time_spend_company</th>\n",
       "      <th>work_accident</th>\n",
       "      <th>left</th>\n",
       "      <th>promotion_last_5years</th>\n",
       "      <th>department</th>\n",
       "      <th>salary</th>\n",
       "    </tr>\n",
       "  </thead>\n",
       "  <tbody>\n",
       "    <tr>\n",
       "      <th>13004</th>\n",
       "      <td>0.61</td>\n",
       "      <td>0.56</td>\n",
       "      <td>4</td>\n",
       "      <td>176</td>\n",
       "      <td>3</td>\n",
       "      <td>0</td>\n",
       "      <td>0</td>\n",
       "      <td>0</td>\n",
       "      <td>hr</td>\n",
       "      <td>medium</td>\n",
       "    </tr>\n",
       "    <tr>\n",
       "      <th>2233</th>\n",
       "      <td>0.70</td>\n",
       "      <td>0.89</td>\n",
       "      <td>6</td>\n",
       "      <td>214</td>\n",
       "      <td>2</td>\n",
       "      <td>0</td>\n",
       "      <td>0</td>\n",
       "      <td>0</td>\n",
       "      <td>sales</td>\n",
       "      <td>low</td>\n",
       "    </tr>\n",
       "  </tbody>\n",
       "</table>\n",
       "</div>"
      ],
      "text/plain": [
       "       satisfaction_level  last_evaluation  number_project  \\\n",
       "13004                0.61             0.56               4   \n",
       "2233                 0.70             0.89               6   \n",
       "\n",
       "       average_montly_hours  time_spend_company  work_accident  left  \\\n",
       "13004                   176                   3              0     0   \n",
       "2233                    214                   2              0     0   \n",
       "\n",
       "       promotion_last_5years department  salary  \n",
       "13004                      0         hr  medium  \n",
       "2233                       0      sales     low  "
      ]
     },
     "execution_count": 10,
     "metadata": {},
     "output_type": "execute_result"
    }
   ],
   "source": [
    "# visualize 2 random rows of the dataset with lowercase column names\n",
    "human_res.sample(2)"
   ]
  },
  {
   "cell_type": "code",
   "execution_count": 11,
   "metadata": {},
   "outputs": [
    {
     "name": "stdout",
     "output_type": "stream",
     "text": [
      "**************************************************\n",
      "Column name: satisfaction_level\n",
      "[0.38 0.8  0.11 0.72 0.37 0.41 0.1  0.92 0.89 0.42 0.45 0.84 0.36 0.78\n",
      " 0.76 0.09 0.46 0.4  0.82 0.87 0.57 0.43 0.13 0.44 0.39 0.85 0.81 0.9\n",
      " 0.74 0.79 0.17 0.24 0.91 0.71 0.86 0.14 0.75 0.7  0.31 0.73 0.83 0.32\n",
      " 0.54 0.27 0.77 0.88 0.48 0.19 0.6  0.12 0.61 0.33 0.56 0.47 0.28 0.55\n",
      " 0.53 0.59 0.66 0.25 0.34 0.58 0.51 0.35 0.64 0.5  0.23 0.15 0.49 0.3\n",
      " 0.63 0.21 0.62 0.29 0.2  0.16 0.65 0.68 0.67 0.22 0.26 0.99 0.98 1.\n",
      " 0.52 0.93 0.97 0.69 0.94 0.96 0.18 0.95]\n",
      "**************************************************\n",
      "Column name: last_evaluation\n",
      "[0.53 0.86 0.88 0.87 0.52 0.5  0.77 0.85 1.   0.54 0.81 0.92 0.55 0.56\n",
      " 0.47 0.99 0.51 0.89 0.83 0.95 0.57 0.49 0.46 0.62 0.94 0.48 0.8  0.74\n",
      " 0.7  0.78 0.91 0.93 0.98 0.97 0.79 0.59 0.84 0.45 0.96 0.68 0.82 0.9\n",
      " 0.71 0.6  0.65 0.58 0.72 0.67 0.75 0.73 0.63 0.61 0.76 0.66 0.69 0.37\n",
      " 0.64 0.39 0.41 0.43 0.44 0.36 0.38 0.4  0.42]\n",
      "**************************************************\n",
      "Column name: number_project\n",
      "[2 5 7 6 4 3]\n",
      "**************************************************\n",
      "Column name: average_montly_hours\n",
      "[157 262 272 223 159 153 247 259 224 142 135 305 234 148 137 143 160 255\n",
      " 282 147 304 139 158 242 239 128 132 294 134 145 140 246 126 306 152 269\n",
      " 127 281 276 182 273 307 309 225 226 308 244 286 161 264 277 275 149 295\n",
      " 151 249 291 232 130 129 155 265 279 284 221 154 150 267 257 177 144 289\n",
      " 258 263 251 133 216 300 138 260 183 250 292 283 245 256 278 240 136 301\n",
      " 243 296 274 164 146 261 285 141 297 156 287 219 254 228 131 252 236 270\n",
      " 298 192 248 266 238 229 233 268 231 253 302 271 290 235 293 241 218 199\n",
      " 180 195 237 227 172 206 181 217 310 214 198 211 222 213 202 184 204 288\n",
      " 220 299 303 212 196 179 205 230 203 280 169 188 178 175 166 163 168 165\n",
      " 189 162 215 193 176 191 174 201 208 171 111 104 106 100 194 209 185 200\n",
      " 207 187 210 186 167 108 122 110 115 197 102 109 190  99 101  97 173 121\n",
      " 170 105 118 119 117 114  96  98 107 123 116 125 113 120 112 124 103]\n",
      "**************************************************\n",
      "Column name: time_spend_company\n",
      "[ 3  6  4  5  2  8 10  7]\n",
      "**************************************************\n",
      "Column name: work_accident\n",
      "[0 1]\n",
      "**************************************************\n",
      "Column name: left\n",
      "[1 0]\n",
      "**************************************************\n",
      "Column name: promotion_last_5years\n",
      "[0 1]\n",
      "**************************************************\n",
      "Column name: department\n",
      "['sales' 'accounting' 'hr' 'technical' 'support' 'management' 'IT'\n",
      " 'product_mng' 'marketing' 'RandD']\n",
      "**************************************************\n",
      "Column name: salary\n",
      "['low' 'medium' 'high']\n"
     ]
    }
   ],
   "source": [
    "# show unique values for each variable in the dataset\n",
    "for col in human_res.columns:\n",
    "    print(50*'*')\n",
    "    print(f'Column name: {col}')\n",
    "    print(human_res[col].unique())"
   ]
  },
  {
   "cell_type": "markdown",
   "metadata": {},
   "source": [
    "As we can see, the variables:\n",
    "* `satisfaction_level`, `last_evaluation` and `average_montly_hours`  has a distribution of values;\n",
    "* `number_projet` and `time_spend_company` have less ten 10 unique values each one;\n",
    "* `work_acident`, `left` and `promotion_last_5years` are binary features (0 or 1);\n",
    "* `department` is a nominal variable and `salary` an ordinal one."
   ]
  },
  {
   "cell_type": "code",
   "execution_count": 12,
   "metadata": {},
   "outputs": [
    {
     "data": {
      "text/plain": [
       "0    0.86\n",
       "1    0.14\n",
       "Name: work_accident, dtype: float64"
      ]
     },
     "execution_count": 12,
     "metadata": {},
     "output_type": "execute_result"
    }
   ],
   "source": [
    "# variable work_accident \n",
    "np.around(human_res.work_accident.value_counts(normalize=True),2)"
   ]
  },
  {
   "cell_type": "code",
   "execution_count": 13,
   "metadata": {},
   "outputs": [
    {
     "data": {
      "text/plain": [
       "0    0.76\n",
       "1    0.24\n",
       "Name: left, dtype: float64"
      ]
     },
     "execution_count": 13,
     "metadata": {},
     "output_type": "execute_result"
    }
   ],
   "source": [
    "# variable left\n",
    "np.around(human_res.left.value_counts(normalize=True),2)"
   ]
  },
  {
   "cell_type": "code",
   "execution_count": 14,
   "metadata": {},
   "outputs": [
    {
     "data": {
      "text/plain": [
       "0    0.98\n",
       "1    0.02\n",
       "Name: promotion_last_5years, dtype: float64"
      ]
     },
     "execution_count": 14,
     "metadata": {},
     "output_type": "execute_result"
    }
   ],
   "source": [
    "# variable promotion_last_5years\n",
    "np.around(human_res.promotion_last_5years.value_counts(normalize=True),2)"
   ]
  },
  {
   "cell_type": "markdown",
   "metadata": {},
   "source": [
    "We can observe that the percentage of:\n",
    "* work accidents is 14%;\n",
    "* workers who left the job is 24%, and\n",
    "* promotions happening in the last five years is only 2%!"
   ]
  },
  {
   "cell_type": "code",
   "execution_count": 15,
   "metadata": {},
   "outputs": [
    {
     "data": {
      "image/png": "[encoded data removed]",
      "text/plain": [
       "<Figure size 576x432 with 1 Axes>"
      ]
     },
     "metadata": {
      "needs_background": "light"
     },
     "output_type": "display_data"
    }
   ],
   "source": [
    "# departments \n",
    "fig, ax = plt.subplots()\n",
    "plt.style.use('seaborn-deep')\n",
    "\n",
    "counts = human_res['department'].value_counts(normalize=True).sort_values()\n",
    "counts.plot.barh(width=0.5,fontsize=15, rot=0, figsize=(8,6), color='m')\n",
    "\n",
    "ax.set_ylabel('department', size=18)\n",
    "ax.set_xlabel('counts', size=18)\n",
    "plt.grid()\n",
    "plt.show()"
   ]
  },
  {
   "cell_type": "code",
   "execution_count": 16,
   "metadata": {},
   "outputs": [
    {
     "data": {
      "image/png": "[encoded data removed]",
      "text/plain": [
       "<Figure size 576x432 with 1 Axes>"
      ]
     },
     "metadata": {
      "needs_background": "light"
     },
     "output_type": "display_data"
    }
   ],
   "source": [
    "# salaries\n",
    "fig, ax = plt.subplots()\n",
    "plt.style.use('seaborn-deep')\n",
    "\n",
    "counts = human_res['salary'].value_counts(normalize=True).sort_values()\n",
    "counts.plot.barh(width=0.5,fontsize=15, rot=0, figsize=(8,6), color='g')\n",
    "\n",
    "ax.set_ylabel('department', size=18)\n",
    "ax.set_xlabel('counts', size=18)\n",
    "plt.grid()\n",
    "plt.show()"
   ]
  },
  {
   "cell_type": "code",
   "execution_count": 17,
   "metadata": {},
   "outputs": [],
   "source": [
    "# Return the first `n` rows with the largest values in `columns`\n",
    "## human_res.nlargest(5, 'promotion_last_5years')\n",
    "#Return the first `n` rows with the smallest values in `columns`\n",
    "## human_res.nsmallest(5, 'promotion_last_5years')"
   ]
  },
  {
   "cell_type": "code",
   "execution_count": 18,
   "metadata": {},
   "outputs": [],
   "source": [
    "# create a pairplot using seaborn to visualize relationships in the dataset\n",
    "\n",
    "#sns.set(style='ticks')\n",
    "#sns.set_context('notebook')\n",
    "\n",
    "#sns.pairplot(human_res, diag_kind='auto', markers='+')\n",
    "#sns.color_palette(\"bright\")\n",
    "#plt.suptitle(\"Human resource data\", y=1.05, size=30)\n",
    "#plt.show()"
   ]
  },
  {
   "cell_type": "code",
   "execution_count": 19,
   "metadata": {},
   "outputs": [],
   "source": [
    "#column_names = human_res.columns\n",
    "#n_cols = len(column_names)\n",
    "\n",
    "#num = 0\n",
    "\n",
    "#fig = plt.figure(figsize=(28,16))\n",
    "\n",
    "#for col in column_names:\n",
    "#    num += 1\n",
    "#    counts = human_res[col].value_counts().sort_index()\n",
    "#    ax = fig.add_subplot(5, 2, num)\n",
    "#    counts.plot.bar(width=0.5,fontsize=12)\n",
    "#    plt.grid()\n",
    "#fig.subplots_adjust(hspace=0.8, wspace=0.1)\n",
    "#plt.show()"
   ]
  },
  {
   "cell_type": "markdown",
   "metadata": {},
   "source": [
    "We can visualize how they the data is distributed and how the variables relate to each other in the scatter plot below."
   ]
  },
  {
   "cell_type": "code",
   "execution_count": 17,
   "metadata": {},
   "outputs": [
    {
     "data": {
      "image/png": "[encoded data removed]",
      "text/plain": [
       "<Figure size 1440x1296 with 64 Axes>"
      ]
     },
     "metadata": {
      "needs_background": "light"
     },
     "output_type": "display_data"
    }
   ],
   "source": [
    "# create a matrix plot using to visualize relationships in the dataset\n",
    "plt.style.use('seaborn-deep')\n",
    "scatter_matrix(human_res, diagonal='hist', range_padding=0.4, marker='+', figsize=(20,18))\n",
    "plt.show()"
   ]
  },
  {
   "cell_type": "code",
   "execution_count": 21,
   "metadata": {},
   "outputs": [],
   "source": [
    "#human_res['satisfaction_level'].value_counts().sort_index().plot.bar(width=0.5, figsize=(18,6),fontsize=12)\n",
    "#plt.grid()\n",
    "#fig.subplots_adjust(hspace=0.8, wspace=0.1)\n",
    "#plt.show()"
   ]
  },
  {
   "cell_type": "code",
   "execution_count": 22,
   "metadata": {},
   "outputs": [],
   "source": [
    "#human_res['last_evaluation'].value_counts().sort_index().plot.bar(width=0.5, figsize=(18,6),fontsize=12)\n",
    "#plt.grid()\n",
    "#fig.subplots_adjust(hspace=0.8, wspace=0.1)\n",
    "#plt.show()"
   ]
  },
  {
   "cell_type": "code",
   "execution_count": 18,
   "metadata": {},
   "outputs": [
    {
     "data": {
      "image/png": "[encoded data removed]",
      "text/plain": [
       "<Figure size 864x432 with 1 Axes>"
      ]
     },
     "metadata": {
      "needs_background": "light"
     },
     "output_type": "display_data"
    }
   ],
   "source": [
    "fig, ax = plt.subplots(figsize=(12,6))\n",
    "\n",
    "dist_sastif = human_res['satisfaction_level']\n",
    "dist_sastif.plot.kde(ax=ax, legend=False, title='Last evaluation')\n",
    "dist_sastif.plot.hist(density=True, ax=ax, fontsize=14)\n",
    "ax.set_ylabel('frequency',size=16)\n",
    "ax.set_xlabel('last_evaluation', size=16)\n",
    "plt.grid()\n",
    "\n",
    "plt.show()"
   ]
  },
  {
   "cell_type": "code",
   "execution_count": 19,
   "metadata": {},
   "outputs": [
    {
     "data": {
      "image/png": "[encoded data removed]",
      "text/plain": [
       "<Figure size 864x432 with 1 Axes>"
      ]
     },
     "metadata": {
      "needs_background": "light"
     },
     "output_type": "display_data"
    }
   ],
   "source": [
    "fig, ax = plt.subplots(figsize=(12,6))\n",
    "\n",
    "dist_last = human_res['last_evaluation']\n",
    "dist_last.plot.kde(ax=ax, legend=False, title='Last evaluation')\n",
    "dist_last.plot.hist(density=True, ax=ax, fontsize=14)\n",
    "ax.set_ylabel('frequency',size=16)\n",
    "ax.set_xlabel('last_evaluation', size=16)\n",
    "plt.grid()\n",
    "\n",
    "plt.show()"
   ]
  },
  {
   "cell_type": "code",
   "execution_count": 20,
   "metadata": {},
   "outputs": [
    {
     "data": {
      "image/png": "[encoded data removed]",
      "text/plain": [
       "<Figure size 864x432 with 1 Axes>"
      ]
     },
     "metadata": {
      "needs_background": "light"
     },
     "output_type": "display_data"
    }
   ],
   "source": [
    "fig, ax = plt.subplots(figsize=(12,6))\n",
    "\n",
    "dist_month = human_res['average_montly_hours']\n",
    "dist_month.plot.kde(ax=ax, legend=False, title='Average montly hours')\n",
    "dist_month.plot.hist(density=True, ax=ax, fontsize=14)\n",
    "ax.set_ylabel('frequency',size=16)\n",
    "ax.set_xlabel('average_montly_hours', size=16)\n",
    "plt.grid()\n",
    "\n",
    "plt.show()"
   ]
  },
  {
   "cell_type": "code",
   "execution_count": 21,
   "metadata": {},
   "outputs": [
    {
     "data": {
      "image/png": "[encoded data removed]",
      "text/plain": [
       "<Figure size 720x720 with 2 Axes>"
      ]
     },
     "metadata": {
      "needs_background": "light"
     },
     "output_type": "display_data"
    }
   ],
   "source": [
    "# Correlation matrix completely ignores any non-numeric column. \n",
    "fig, ax = plt.subplots(figsize=(10,10))\n",
    "\n",
    "matrix = np.triu(human_res.corr('spearman'))\n",
    "sns.set(font_scale=1.1)\n",
    "sns.heatmap(human_res.corr(method='spearman'), linewidth= 0.1, annot=True, cmap='Blues', cbar_kws={'label': 'correlation'}, mask=matrix)\n",
    "plt.xlabel(\"features\", size=20)\n",
    "plt.ylabel(\"features\", size=20)\n",
    "plt.title(\"Correlation Matrix\", size=24)\n",
    "plt.show()"
   ]
  },
  {
   "cell_type": "code",
   "execution_count": 22,
   "metadata": {},
   "outputs": [
    {
     "data": {
      "image/png": "[encoded data removed]",
      "text/plain": [
       "<Figure size 720x432 with 1 Axes>"
      ]
     },
     "metadata": {},
     "output_type": "display_data"
    }
   ],
   "source": [
    "human_res.groupby(['left', 'salary']).size().unstack().plot(kind='bar', width=0.4, stacked=False,figsize=(10,6))\n",
    "plt.legend(loc='center')\n",
    "plt.show()"
   ]
  },
  {
   "cell_type": "code",
   "execution_count": 23,
   "metadata": {},
   "outputs": [
    {
     "data": {
      "image/png": "[encoded data removed]",
      "text/plain": [
       "<Figure size 720x432 with 1 Axes>"
      ]
     },
     "metadata": {},
     "output_type": "display_data"
    }
   ],
   "source": [
    "human_res.groupby(['left', 'department']).size().unstack().plot(kind='bar', width=0.4, stacked=False,figsize=(10,6), position=0.5)\n",
    "plt.legend(loc='center')\n",
    "plt.show()"
   ]
  },
  {
   "cell_type": "code",
   "execution_count": 24,
   "metadata": {},
   "outputs": [
    {
     "data": {
      "text/html": [
       "<div>\n",
       "<style scoped>\n",
       "    .dataframe tbody tr th:only-of-type {\n",
       "        vertical-align: middle;\n",
       "    }\n",
       "\n",
       "    .dataframe tbody tr th {\n",
       "        vertical-align: top;\n",
       "    }\n",
       "\n",
       "    .dataframe thead th {\n",
       "        text-align: right;\n",
       "    }\n",
       "</style>\n",
       "<table border=\"1\" class=\"dataframe\">\n",
       "  <thead>\n",
       "    <tr style=\"text-align: right;\">\n",
       "      <th></th>\n",
       "      <th>left</th>\n",
       "    </tr>\n",
       "    <tr>\n",
       "      <th>salary</th>\n",
       "      <th></th>\n",
       "    </tr>\n",
       "  </thead>\n",
       "  <tbody>\n",
       "    <tr>\n",
       "      <th>high</th>\n",
       "      <td>0.066289</td>\n",
       "    </tr>\n",
       "    <tr>\n",
       "      <th>low</th>\n",
       "      <td>0.296884</td>\n",
       "    </tr>\n",
       "    <tr>\n",
       "      <th>medium</th>\n",
       "      <td>0.204313</td>\n",
       "    </tr>\n",
       "  </tbody>\n",
       "</table>\n",
       "</div>"
      ],
      "text/plain": [
       "            left\n",
       "salary          \n",
       "high    0.066289\n",
       "low     0.296884\n",
       "medium  0.204313"
      ]
     },
     "execution_count": 24,
     "metadata": {},
     "output_type": "execute_result"
    }
   ],
   "source": [
    "# creating a pivot table\n",
    "#human_res_pivot = pd.pivot_table(human_res, values=['left'], index=['department', 'salary'])\n",
    "human_res_pivot = pd.pivot_table(human_res, values=['left'], index=['salary'])\n",
    "human_res_pivot"
   ]
  },
  {
   "cell_type": "markdown",
   "metadata": {},
   "source": [
    "* In each department, about 30% of the workers with low salary left the company."
   ]
  },
  {
   "cell_type": "code",
   "execution_count": 25,
   "metadata": {},
   "outputs": [
    {
     "data": {
      "text/html": [
       "<div>\n",
       "<style scoped>\n",
       "    .dataframe tbody tr th:only-of-type {\n",
       "        vertical-align: middle;\n",
       "    }\n",
       "\n",
       "    .dataframe tbody tr th {\n",
       "        vertical-align: top;\n",
       "    }\n",
       "\n",
       "    .dataframe thead th {\n",
       "        text-align: right;\n",
       "    }\n",
       "</style>\n",
       "<table border=\"1\" class=\"dataframe\">\n",
       "  <thead>\n",
       "    <tr style=\"text-align: right;\">\n",
       "      <th></th>\n",
       "      <th>left</th>\n",
       "    </tr>\n",
       "    <tr>\n",
       "      <th>time_spend_company</th>\n",
       "      <th></th>\n",
       "    </tr>\n",
       "  </thead>\n",
       "  <tbody>\n",
       "    <tr>\n",
       "      <th>2</th>\n",
       "      <td>0.016338</td>\n",
       "    </tr>\n",
       "    <tr>\n",
       "      <th>3</th>\n",
       "      <td>0.246159</td>\n",
       "    </tr>\n",
       "    <tr>\n",
       "      <th>4</th>\n",
       "      <td>0.348064</td>\n",
       "    </tr>\n",
       "    <tr>\n",
       "      <th>5</th>\n",
       "      <td>0.565513</td>\n",
       "    </tr>\n",
       "    <tr>\n",
       "      <th>6</th>\n",
       "      <td>0.291086</td>\n",
       "    </tr>\n",
       "    <tr>\n",
       "      <th>7</th>\n",
       "      <td>0.000000</td>\n",
       "    </tr>\n",
       "    <tr>\n",
       "      <th>8</th>\n",
       "      <td>0.000000</td>\n",
       "    </tr>\n",
       "    <tr>\n",
       "      <th>10</th>\n",
       "      <td>0.000000</td>\n",
       "    </tr>\n",
       "  </tbody>\n",
       "</table>\n",
       "</div>"
      ],
      "text/plain": [
       "                        left\n",
       "time_spend_company          \n",
       "2                   0.016338\n",
       "3                   0.246159\n",
       "4                   0.348064\n",
       "5                   0.565513\n",
       "6                   0.291086\n",
       "7                   0.000000\n",
       "8                   0.000000\n",
       "10                  0.000000"
      ]
     },
     "execution_count": 25,
     "metadata": {},
     "output_type": "execute_result"
    }
   ],
   "source": [
    "# creating a pivot table\n",
    "human_res_pivot = pd.pivot_table(human_res, values=['left'], index=['time_spend_company'])\n",
    "human_res_pivot"
   ]
  },
  {
   "cell_type": "markdown",
   "metadata": {},
   "source": [
    "* Workers leave mostly after five years at the company."
   ]
  },
  {
   "cell_type": "markdown",
   "metadata": {},
   "source": [
    "## Converting categorical data"
   ]
  },
  {
   "cell_type": "code",
   "execution_count": 26,
   "metadata": {},
   "outputs": [],
   "source": [
    "# use one-hot enconding for region to create a new dataset from the original\n",
    "#metrop_areas_dummy = pd.get_dummies(data=metrop_areas, columns=['region'], prefix='region', prefix_sep='_')\n",
    "#metrop_areas_dummy.head(3)\n",
    "\n",
    "human_res_dummies = pd.get_dummies(data = human_res, columns=['salary'], prefix='salary', prefix_sep = '_')\n",
    "human_res_dummies = pd.get_dummies(data = human_res, columns=['salary','department'], prefix=['salary','dept'], prefix_sep = '_')"
   ]
  },
  {
   "cell_type": "code",
   "execution_count": 27,
   "metadata": {},
   "outputs": [
    {
     "data": {
      "text/html": [
       "<div>\n",
       "<style scoped>\n",
       "    .dataframe tbody tr th:only-of-type {\n",
       "        vertical-align: middle;\n",
       "    }\n",
       "\n",
       "    .dataframe tbody tr th {\n",
       "        vertical-align: top;\n",
       "    }\n",
       "\n",
       "    .dataframe thead th {\n",
       "        text-align: right;\n",
       "    }\n",
       "</style>\n",
       "<table border=\"1\" class=\"dataframe\">\n",
       "  <thead>\n",
       "    <tr style=\"text-align: right;\">\n",
       "      <th></th>\n",
       "      <th>satisfaction_level</th>\n",
       "      <th>last_evaluation</th>\n",
       "      <th>number_project</th>\n",
       "      <th>average_montly_hours</th>\n",
       "      <th>time_spend_company</th>\n",
       "      <th>work_accident</th>\n",
       "      <th>left</th>\n",
       "      <th>promotion_last_5years</th>\n",
       "      <th>salary_high</th>\n",
       "      <th>salary_low</th>\n",
       "      <th>salary_medium</th>\n",
       "      <th>dept_IT</th>\n",
       "      <th>dept_RandD</th>\n",
       "      <th>dept_accounting</th>\n",
       "      <th>dept_hr</th>\n",
       "      <th>dept_management</th>\n",
       "      <th>dept_marketing</th>\n",
       "      <th>dept_product_mng</th>\n",
       "      <th>dept_sales</th>\n",
       "      <th>dept_support</th>\n",
       "      <th>dept_technical</th>\n",
       "    </tr>\n",
       "  </thead>\n",
       "  <tbody>\n",
       "    <tr>\n",
       "      <th>0</th>\n",
       "      <td>0.38</td>\n",
       "      <td>0.53</td>\n",
       "      <td>2</td>\n",
       "      <td>157</td>\n",
       "      <td>3</td>\n",
       "      <td>0</td>\n",
       "      <td>1</td>\n",
       "      <td>0</td>\n",
       "      <td>0</td>\n",
       "      <td>1</td>\n",
       "      <td>0</td>\n",
       "      <td>0</td>\n",
       "      <td>0</td>\n",
       "      <td>0</td>\n",
       "      <td>0</td>\n",
       "      <td>0</td>\n",
       "      <td>0</td>\n",
       "      <td>0</td>\n",
       "      <td>1</td>\n",
       "      <td>0</td>\n",
       "      <td>0</td>\n",
       "    </tr>\n",
       "    <tr>\n",
       "      <th>1</th>\n",
       "      <td>0.80</td>\n",
       "      <td>0.86</td>\n",
       "      <td>5</td>\n",
       "      <td>262</td>\n",
       "      <td>6</td>\n",
       "      <td>0</td>\n",
       "      <td>1</td>\n",
       "      <td>0</td>\n",
       "      <td>0</td>\n",
       "      <td>0</td>\n",
       "      <td>1</td>\n",
       "      <td>0</td>\n",
       "      <td>0</td>\n",
       "      <td>0</td>\n",
       "      <td>0</td>\n",
       "      <td>0</td>\n",
       "      <td>0</td>\n",
       "      <td>0</td>\n",
       "      <td>1</td>\n",
       "      <td>0</td>\n",
       "      <td>0</td>\n",
       "    </tr>\n",
       "    <tr>\n",
       "      <th>2</th>\n",
       "      <td>0.11</td>\n",
       "      <td>0.88</td>\n",
       "      <td>7</td>\n",
       "      <td>272</td>\n",
       "      <td>4</td>\n",
       "      <td>0</td>\n",
       "      <td>1</td>\n",
       "      <td>0</td>\n",
       "      <td>0</td>\n",
       "      <td>0</td>\n",
       "      <td>1</td>\n",
       "      <td>0</td>\n",
       "      <td>0</td>\n",
       "      <td>0</td>\n",
       "      <td>0</td>\n",
       "      <td>0</td>\n",
       "      <td>0</td>\n",
       "      <td>0</td>\n",
       "      <td>1</td>\n",
       "      <td>0</td>\n",
       "      <td>0</td>\n",
       "    </tr>\n",
       "    <tr>\n",
       "      <th>3</th>\n",
       "      <td>0.72</td>\n",
       "      <td>0.87</td>\n",
       "      <td>5</td>\n",
       "      <td>223</td>\n",
       "      <td>5</td>\n",
       "      <td>0</td>\n",
       "      <td>1</td>\n",
       "      <td>0</td>\n",
       "      <td>0</td>\n",
       "      <td>1</td>\n",
       "      <td>0</td>\n",
       "      <td>0</td>\n",
       "      <td>0</td>\n",
       "      <td>0</td>\n",
       "      <td>0</td>\n",
       "      <td>0</td>\n",
       "      <td>0</td>\n",
       "      <td>0</td>\n",
       "      <td>1</td>\n",
       "      <td>0</td>\n",
       "      <td>0</td>\n",
       "    </tr>\n",
       "    <tr>\n",
       "      <th>4</th>\n",
       "      <td>0.37</td>\n",
       "      <td>0.52</td>\n",
       "      <td>2</td>\n",
       "      <td>159</td>\n",
       "      <td>3</td>\n",
       "      <td>0</td>\n",
       "      <td>1</td>\n",
       "      <td>0</td>\n",
       "      <td>0</td>\n",
       "      <td>1</td>\n",
       "      <td>0</td>\n",
       "      <td>0</td>\n",
       "      <td>0</td>\n",
       "      <td>0</td>\n",
       "      <td>0</td>\n",
       "      <td>0</td>\n",
       "      <td>0</td>\n",
       "      <td>0</td>\n",
       "      <td>1</td>\n",
       "      <td>0</td>\n",
       "      <td>0</td>\n",
       "    </tr>\n",
       "  </tbody>\n",
       "</table>\n",
       "</div>"
      ],
      "text/plain": [
       "   satisfaction_level  last_evaluation  number_project  average_montly_hours  \\\n",
       "0                0.38             0.53               2                   157   \n",
       "1                0.80             0.86               5                   262   \n",
       "2                0.11             0.88               7                   272   \n",
       "3                0.72             0.87               5                   223   \n",
       "4                0.37             0.52               2                   159   \n",
       "\n",
       "   time_spend_company  work_accident  left  promotion_last_5years  \\\n",
       "0                   3              0     1                      0   \n",
       "1                   6              0     1                      0   \n",
       "2                   4              0     1                      0   \n",
       "3                   5              0     1                      0   \n",
       "4                   3              0     1                      0   \n",
       "\n",
       "   salary_high  salary_low  salary_medium  dept_IT  dept_RandD  \\\n",
       "0            0           1              0        0           0   \n",
       "1            0           0              1        0           0   \n",
       "2            0           0              1        0           0   \n",
       "3            0           1              0        0           0   \n",
       "4            0           1              0        0           0   \n",
       "\n",
       "   dept_accounting  dept_hr  dept_management  dept_marketing  \\\n",
       "0                0        0                0               0   \n",
       "1                0        0                0               0   \n",
       "2                0        0                0               0   \n",
       "3                0        0                0               0   \n",
       "4                0        0                0               0   \n",
       "\n",
       "   dept_product_mng  dept_sales  dept_support  dept_technical  \n",
       "0                 0           1             0               0  \n",
       "1                 0           1             0               0  \n",
       "2                 0           1             0               0  \n",
       "3                 0           1             0               0  \n",
       "4                 0           1             0               0  "
      ]
     },
     "execution_count": 27,
     "metadata": {},
     "output_type": "execute_result"
    }
   ],
   "source": [
    "human_res_dummies.head()"
   ]
  },
  {
   "cell_type": "markdown",
   "metadata": {},
   "source": [
    "## Separating features and target variables"
   ]
  },
  {
   "cell_type": "code",
   "execution_count": 28,
   "metadata": {},
   "outputs": [],
   "source": [
    "# matrix of features\n",
    "X = human_res_dummies.drop('left', axis = 1)\n",
    "# target variable vector\n",
    "y = human_res_dummies['left']"
   ]
  },
  {
   "cell_type": "code",
   "execution_count": 29,
   "metadata": {},
   "outputs": [
    {
     "data": {
      "text/html": [
       "<div>\n",
       "<style scoped>\n",
       "    .dataframe tbody tr th:only-of-type {\n",
       "        vertical-align: middle;\n",
       "    }\n",
       "\n",
       "    .dataframe tbody tr th {\n",
       "        vertical-align: top;\n",
       "    }\n",
       "\n",
       "    .dataframe thead th {\n",
       "        text-align: right;\n",
       "    }\n",
       "</style>\n",
       "<table border=\"1\" class=\"dataframe\">\n",
       "  <thead>\n",
       "    <tr style=\"text-align: right;\">\n",
       "      <th></th>\n",
       "      <th>satisfaction_level</th>\n",
       "      <th>last_evaluation</th>\n",
       "      <th>number_project</th>\n",
       "      <th>average_montly_hours</th>\n",
       "      <th>time_spend_company</th>\n",
       "      <th>work_accident</th>\n",
       "      <th>promotion_last_5years</th>\n",
       "      <th>salary_high</th>\n",
       "      <th>salary_low</th>\n",
       "      <th>salary_medium</th>\n",
       "      <th>dept_IT</th>\n",
       "      <th>dept_RandD</th>\n",
       "      <th>dept_accounting</th>\n",
       "      <th>dept_hr</th>\n",
       "      <th>dept_management</th>\n",
       "      <th>dept_marketing</th>\n",
       "      <th>dept_product_mng</th>\n",
       "      <th>dept_sales</th>\n",
       "      <th>dept_support</th>\n",
       "      <th>dept_technical</th>\n",
       "    </tr>\n",
       "  </thead>\n",
       "  <tbody>\n",
       "    <tr>\n",
       "      <th>0</th>\n",
       "      <td>0.38</td>\n",
       "      <td>0.53</td>\n",
       "      <td>2</td>\n",
       "      <td>157</td>\n",
       "      <td>3</td>\n",
       "      <td>0</td>\n",
       "      <td>0</td>\n",
       "      <td>0</td>\n",
       "      <td>1</td>\n",
       "      <td>0</td>\n",
       "      <td>0</td>\n",
       "      <td>0</td>\n",
       "      <td>0</td>\n",
       "      <td>0</td>\n",
       "      <td>0</td>\n",
       "      <td>0</td>\n",
       "      <td>0</td>\n",
       "      <td>1</td>\n",
       "      <td>0</td>\n",
       "      <td>0</td>\n",
       "    </tr>\n",
       "    <tr>\n",
       "      <th>1</th>\n",
       "      <td>0.80</td>\n",
       "      <td>0.86</td>\n",
       "      <td>5</td>\n",
       "      <td>262</td>\n",
       "      <td>6</td>\n",
       "      <td>0</td>\n",
       "      <td>0</td>\n",
       "      <td>0</td>\n",
       "      <td>0</td>\n",
       "      <td>1</td>\n",
       "      <td>0</td>\n",
       "      <td>0</td>\n",
       "      <td>0</td>\n",
       "      <td>0</td>\n",
       "      <td>0</td>\n",
       "      <td>0</td>\n",
       "      <td>0</td>\n",
       "      <td>1</td>\n",
       "      <td>0</td>\n",
       "      <td>0</td>\n",
       "    </tr>\n",
       "  </tbody>\n",
       "</table>\n",
       "</div>"
      ],
      "text/plain": [
       "   satisfaction_level  last_evaluation  number_project  average_montly_hours  \\\n",
       "0                0.38             0.53               2                   157   \n",
       "1                0.80             0.86               5                   262   \n",
       "\n",
       "   time_spend_company  work_accident  promotion_last_5years  salary_high  \\\n",
       "0                   3              0                      0            0   \n",
       "1                   6              0                      0            0   \n",
       "\n",
       "   salary_low  salary_medium  dept_IT  dept_RandD  dept_accounting  dept_hr  \\\n",
       "0           1              0        0           0                0        0   \n",
       "1           0              1        0           0                0        0   \n",
       "\n",
       "   dept_management  dept_marketing  dept_product_mng  dept_sales  \\\n",
       "0                0               0                 0           1   \n",
       "1                0               0                 0           1   \n",
       "\n",
       "   dept_support  dept_technical  \n",
       "0             0               0  \n",
       "1             0               0  "
      ]
     },
     "execution_count": 29,
     "metadata": {},
     "output_type": "execute_result"
    }
   ],
   "source": [
    "X.head(2)"
   ]
  },
  {
   "cell_type": "code",
   "execution_count": 30,
   "metadata": {},
   "outputs": [
    {
     "data": {
      "text/plain": [
       "0    1\n",
       "1    1\n",
       "Name: left, dtype: int64"
      ]
     },
     "execution_count": 30,
     "metadata": {},
     "output_type": "execute_result"
    }
   ],
   "source": [
    "y.head(2)"
   ]
  },
  {
   "cell_type": "code",
   "execution_count": 31,
   "metadata": {},
   "outputs": [
    {
     "name": "stdout",
     "output_type": "stream",
     "text": [
      "Feature matrix: size: (14999, 20) >>> dimension 2\n",
      "Target variable vector: size: (14999,) >>> dimension 1\n"
     ]
    }
   ],
   "source": [
    "print(f'Feature matrix: size: {X.shape} >>> dimension {X.ndim}')\n",
    "print(f'Target variable vector: size: {y.shape} >>> dimension {y.ndim}')"
   ]
  },
  {
   "cell_type": "markdown",
   "metadata": {},
   "source": [
    "## Splitting the data into training and test set"
   ]
  },
  {
   "cell_type": "code",
   "execution_count": 32,
   "metadata": {},
   "outputs": [],
   "source": [
    "# import train_test_split\n",
    "from sklearn.model_selection import train_test_split"
   ]
  },
  {
   "cell_type": "code",
   "execution_count": 33,
   "metadata": {},
   "outputs": [],
   "source": [
    "# split the data\n",
    "X_train, X_test, y_train, y_test = train_test_split(X, y, test_size = 0.20, random_state = 22)"
   ]
  },
  {
   "cell_type": "markdown",
   "metadata": {},
   "source": [
    "## Model building"
   ]
  },
  {
   "cell_type": "code",
   "execution_count": 34,
   "metadata": {},
   "outputs": [
    {
     "data": {
      "text/plain": [
       "LogisticRegression(max_iter=1000, n_jobs=-1, random_state=22)"
      ]
     },
     "execution_count": 34,
     "metadata": {},
     "output_type": "execute_result"
    }
   ],
   "source": [
    "# import LogisticRegression\n",
    "from sklearn.linear_model import LogisticRegression\n",
    "\n",
    "# build the logistic regression model\n",
    "model_logreg = LogisticRegression(max_iter = 1000, n_jobs = -1, random_state = 22)\n",
    "\n",
    "# fit the model\n",
    "model_logreg.fit(X_train, y_train)"
   ]
  },
  {
   "cell_type": "markdown",
   "metadata": {},
   "source": [
    "## Prediction"
   ]
  },
  {
   "cell_type": "code",
   "execution_count": 35,
   "metadata": {},
   "outputs": [],
   "source": [
    "# predictions\n",
    "y_pred = model_logreg.predict(X_test)"
   ]
  },
  {
   "cell_type": "markdown",
   "metadata": {},
   "source": [
    "## Model performance"
   ]
  },
  {
   "cell_type": "markdown",
   "metadata": {},
   "source": [
    "### Confusion matrix"
   ]
  },
  {
   "cell_type": "code",
   "execution_count": 36,
   "metadata": {},
   "outputs": [
    {
     "name": "stdout",
     "output_type": "stream",
     "text": [
      "Confusion matrix:\n",
      "[[2105  153]\n",
      " [ 461  281]]\n"
     ]
    }
   ],
   "source": [
    "from sklearn.metrics import confusion_matrix\n",
    "\n",
    "confusion = confusion_matrix(y_test, y_pred)\n",
    "print('Confusion matrix:\\n{}'.format(confusion))"
   ]
  },
  {
   "cell_type": "code",
   "execution_count": 37,
   "metadata": {},
   "outputs": [
    {
     "name": "stdout",
     "output_type": "stream",
     "text": [
      "True Positive:  281\n",
      "True Negative:  2105\n",
      "False Positive:  153\n",
      "False Negative:  461\n"
     ]
    }
   ],
   "source": [
    "tn, fp, fn, tp = confusion_matrix(y_test, y_pred).ravel()\n",
    "\n",
    "print('True Positive: ', tp )\n",
    "print('True Negative: ', tn )\n",
    "print('False Positive: ', fp )\n",
    "print('False Negative: ', fn )"
   ]
  },
  {
   "cell_type": "markdown",
   "metadata": {},
   "source": [
    "### Accuracy\n",
    "\n",
    "\\begin{align}\n",
    "accuracy = \\frac{TP+TN}{TP+TN+FN+FP}\n",
    "\\end{align}\n",
    "\n",
    "* Accuracy is the number of correct predictions (TP and TN) divided by the number of all samples (all entries of the confusion matrix summed up)"
   ]
  },
  {
   "cell_type": "code",
   "execution_count": 38,
   "metadata": {},
   "outputs": [
    {
     "name": "stdout",
     "output_type": "stream",
     "text": [
      "Accuracy:  0.7953333333333333\n"
     ]
    }
   ],
   "source": [
    "from sklearn.metrics import accuracy_score\n",
    "\n",
    "print('Accuracy: ',accuracy_score(y_test, y_pred))"
   ]
  },
  {
   "cell_type": "markdown",
   "metadata": {},
   "source": [
    "### Recall (Sensitivity): true positive rate\n",
    "\\begin{align}\n",
    "sensitivity = \\frac{TP}{TP+FN}\n",
    "\\end{align}\n",
    "\n",
    "* Recall measures how many of the positive samples are captured by the positive predictions.\n",
    "* Recall is used as performance metric when we need to identify all positive samples. \n",
    "* Other names for recall are sensitivity, hit rate, or true positive rate (TPR).\n",
    "* Lower sensitivity: higher false negative rate (type II errors)"
   ]
  },
  {
   "cell_type": "code",
   "execution_count": 39,
   "metadata": {},
   "outputs": [
    {
     "name": "stdout",
     "output_type": "stream",
     "text": [
      "Recall/Sensitivity:  0.37870619946091644\n"
     ]
    }
   ],
   "source": [
    "from sklearn.metrics import recall_score\n",
    "\n",
    "print('Recall/Sensitivity: ', recall_score(y_test, y_pred))"
   ]
  },
  {
   "cell_type": "markdown",
   "metadata": {},
   "source": [
    "### Precision\n",
    "\n",
    "\\begin{align}\n",
    "Precision = \\frac{TP}{TP+FP}\n",
    "\\end{align}\n",
    "\n",
    "* Precision measures how many of the samples predicted as positive are actually positive.\n",
    "* Precision is used as a performance metric when the goal is to limit the number of false positives."
   ]
  },
  {
   "cell_type": "code",
   "execution_count": 40,
   "metadata": {},
   "outputs": [
    {
     "name": "stdout",
     "output_type": "stream",
     "text": [
      "Precision:  0.6474654377880185\n"
     ]
    }
   ],
   "source": [
    "from sklearn.metrics import precision_score\n",
    "\n",
    "print('Precision: ',precision_score(y_test, y_pred))"
   ]
  },
  {
   "cell_type": "markdown",
   "metadata": {},
   "source": [
    "### Specificity: true negative rate\n",
    "* `sklearn` does not have an inbuild function for Specificity.\n",
    "* But by adding parameter `pos_label = 0` to the `recall_score()` function, we treat that as the positive class, and hence gives the correct output\n",
    "* Lower specificity: higher false positive rate (type I error)\n",
    "\n",
    "\\begin{align}\n",
    "specificity = \\frac{TN}{TN+FP}\n",
    "\\end{align}"
   ]
  },
  {
   "cell_type": "code",
   "execution_count": 41,
   "metadata": {},
   "outputs": [
    {
     "name": "stdout",
     "output_type": "stream",
     "text": [
      "Specificity with recall pos label=0:  0.9322409211691762\n"
     ]
    }
   ],
   "source": [
    "print(\"Specificity with recall pos label=0: \",recall_score(y_test, y_pred, pos_label=0))"
   ]
  },
  {
   "cell_type": "code",
   "execution_count": 42,
   "metadata": {},
   "outputs": [
    {
     "name": "stdout",
     "output_type": "stream",
     "text": [
      "Specificity with Formulas:  0.9322409211691762\n"
     ]
    }
   ],
   "source": [
    "print(\"Specificity with Formulas: \", tn/(tn+fp))"
   ]
  },
  {
   "cell_type": "markdown",
   "metadata": {},
   "source": [
    "### F1 Score\n",
    "* It is the harmonic mean of precision and recall\n",
    "* This particular variant is also known as the f-score or f-measure. \n",
    "* As it takes precision and recall into account, it can be a better measure than accuracy on imbalanced binary classification datasets.\n",
    "* Using the f-score for evaluation, we summarized the predictive performance again in one number. However, the f-score seems to capture our intuition of what makes a good model much better than accuracy did. \n",
    "* A disadvantage of the f-score, however, is that it is harder to interpret and explain than accuracy\n",
    "\n",
    "\\begin{align}\n",
    "precision = \\frac{2 \\cdot precision \\cdot recall}{precision+recall}\n",
    "\\end{align}"
   ]
  },
  {
   "cell_type": "code",
   "execution_count": 43,
   "metadata": {},
   "outputs": [
    {
     "name": "stdout",
     "output_type": "stream",
     "text": [
      "F1 Score:  0.47789115646258506\n"
     ]
    }
   ],
   "source": [
    "from sklearn.metrics import f1_score\n",
    "\n",
    "print(\"F1 Score: \", f1_score(y_test, y_pred))"
   ]
  },
  {
   "cell_type": "markdown",
   "metadata": {},
   "source": [
    "### Matthews Correlation Coefficient\n",
    "* It is used as a measure of the quality of binary (two-class) classifications.\n",
    "* The coefficient takes into account true and false positives and negatives and is generally regarded as a balanced measure which can be used even if the classes are of very different sizes\n",
    "* The MCC is in essence a correlation coefficient between the observed and predicted binary classifications; it returns a value between −1 and +1. A coefficient of +1 represents a perfect prediction, 0 no better than random prediction and −1 indicates total disagreement between prediction and observation.\n",
    "\n",
    "\\begin{align}\n",
    "MCC = \\frac{(TP \\cdot TN)-(FP \\cdot FN)}{\\sqrt{\\; (TP+FP)\\; (TP+FN)\\; (TN+FP)\\; (TN+FN)}}\n",
    "\\end{align}"
   ]
  },
  {
   "cell_type": "code",
   "execution_count": 44,
   "metadata": {},
   "outputs": [
    {
     "name": "stdout",
     "output_type": "stream",
     "text": [
      "MCC Score:  0.38139699790880244\n"
     ]
    }
   ],
   "source": [
    "from sklearn.metrics import matthews_corrcoef\n",
    "\n",
    "print(\"MCC Score: \", matthews_corrcoef(y_test, y_pred))"
   ]
  },
  {
   "cell_type": "code",
   "execution_count": 45,
   "metadata": {},
   "outputs": [
    {
     "name": "stdout",
     "output_type": "stream",
     "text": [
      "              precision    recall  f1-score   support\n",
      "\n",
      "    not left       0.82      0.93      0.87      2258\n",
      "        left       0.65      0.38      0.48       742\n",
      "\n",
      "    accuracy                           0.80      3000\n",
      "   macro avg       0.73      0.66      0.68      3000\n",
      "weighted avg       0.78      0.80      0.78      3000\n",
      "\n"
     ]
    }
   ],
   "source": [
    "from sklearn.metrics import classification_report\n",
    "\n",
    "# comprehensive summary of precision, recall, and f1-score\n",
    "print(classification_report(y_test, y_pred, target_names=[\"not left\", \"left\"]))"
   ]
  },
  {
   "cell_type": "markdown",
   "metadata": {},
   "source": [
    "### Receiver operating characteristics (ROC) and area under the curve (AUC)\n",
    "\n",
    "#### ROC\n",
    "* It is commonly used to analyze the behavior of classifiers at different thresholds \n",
    "* The ROC curve considers all possible thresholds for a given classifier, and shows the false positive rate (FPR) against the true positive rate (TPR).\n",
    "* The ROC curve shows the trade-off between sensitivity (or TPR) and specificity (1 – FPR) (any increase in sensitivity will be accompanied by a decrease in specificity).\n",
    "* Classifiers that give curves closer to the top-left corner indicate a better performance. \n",
    "* As a baseline, a random classifier is expected to give points lying along the diagonal (FPR = TPR). \n",
    "* The closer the curve comes to the 45-degree diagonal of the ROC space, the less accurate the test.\n",
    "* Note that the ROC does not depend on the class distribution. This makes it useful for evaluating classifiers predicting rare events such as diseases or disasters. In contrast, evaluating performance using accuracy (TP + TN)/(TP + TN + FN + FP) would favor classifiers that always predict a negative outcome for rare events.\n",
    "\n",
    "#### AUC\n",
    "* To compare different classifiers, it can be useful to summarize the performance of each classifier into a single measure. \n",
    "* One common approach is to calculate the area under the ROC curve, which is abbreviated to AUC. \n",
    "* It is equivalent to the probability that a randomly chosen positive instance is ranked higher than a randomly chosen negative instance, i.e. it is equivalent to the two sample Wilcoxon rank-sum statistic.\n",
    "* A classifier with high AUC can occassionally score worse in a specific region than another classifier with lower AUC. But in practice, the AUC performs well as a general measure of predictive accuracy.\n",
    "* The best possible AUC is 1 while the worst is 0.5 (the 45 degrees random line). \n",
    "* Any value less than 0.5 means we can simply do the exact opposite of what the model recommends to get the value back above 0.5."
   ]
  },
  {
   "cell_type": "code",
   "execution_count": 53,
   "metadata": {},
   "outputs": [],
   "source": [
    "#from sklearn.metrics import plot_roc_curve\n",
    "\n",
    "#plot_roc_curve(model_logreg, X_test, y_test)\n",
    "#plt.plot([0, 1], [0, 1],'r--')\n",
    "#plt.show()"
   ]
  },
  {
   "cell_type": "code",
   "execution_count": 46,
   "metadata": {},
   "outputs": [
    {
     "data": {
      "image/png": "[encoded data removed]",
      "text/plain": [
       "<Figure size 720x576 with 1 Axes>"
      ]
     },
     "metadata": {},
     "output_type": "display_data"
    }
   ],
   "source": [
    "import sklearn.metrics as metrics\n",
    "\n",
    "# calculate the fpr and tpr for all thresholds of the classification\n",
    "probs = model_logreg.predict_proba(X_test)\n",
    "preds = probs[:,1]\n",
    "fpr, tpr, threshold = metrics.roc_curve(y_test, preds)\n",
    "roc_auc = metrics.auc(fpr, tpr)\n",
    "\n",
    "# method: plt\n",
    "\n",
    "plt.figure(figsize=(10,8))\n",
    "plt.title('Receiver Operating Characteristic (ROC)', size=20)\n",
    "plt.plot(fpr, tpr, 'b', label = 'AUC = %0.2f' % roc_auc)\n",
    "plt.legend(loc = 'lower right')\n",
    "plt.plot([0, 1], [0, 1],'r--')\n",
    "plt.xlim([0, 1])\n",
    "plt.ylim([0, 1])\n",
    "plt.ylabel('True Positive Rate (Sensitivity)', size=18)\n",
    "plt.xlabel('False Positive Rate (1 - Specificity)', size=18)\n",
    "plt.show()"
   ]
  },
  {
   "cell_type": "markdown",
   "metadata": {},
   "source": [
    "### Probability distribution of classes"
   ]
  },
  {
   "cell_type": "code",
   "execution_count": 47,
   "metadata": {},
   "outputs": [
    {
     "data": {
      "text/plain": [
       "((3000,), (3000,))"
      ]
     },
     "execution_count": 47,
     "metadata": {},
     "output_type": "execute_result"
    }
   ],
   "source": [
    "y_test.shape, preds.shape"
   ]
  },
  {
   "cell_type": "code",
   "execution_count": 48,
   "metadata": {},
   "outputs": [
    {
     "data": {
      "image/png": "[encoded data removed]",
      "text/plain": [
       "<Figure size 1080x504 with 1 Axes>"
      ]
     },
     "metadata": {},
     "output_type": "display_data"
    }
   ],
   "source": [
    "# predicted probabilities\n",
    "\n",
    "plt.figure(figsize=(15,7))\n",
    "plt.hist(preds[y_test == 0], bins=50, label='Negatives: not left the work')\n",
    "plt.hist(preds[y_test == 1], bins=50, label='Positives: left the work', alpha=0.7, color='r')\n",
    "plt.xlabel('Probability of being Positive Class', fontsize=25)\n",
    "plt.ylabel('Number of records in each bucket', fontsize=25)\n",
    "plt.legend(fontsize=15)\n",
    "plt.tick_params(axis='both', labelsize=25, pad=5)\n",
    "plt.show() "
   ]
  },
  {
   "cell_type": "markdown",
   "metadata": {},
   "source": [
    "## Hiperparameter tuning with `RandomizedSearchCV()`"
   ]
  },
  {
   "cell_type": "code",
   "execution_count": 57,
   "metadata": {},
   "outputs": [
    {
     "name": "stdout",
     "output_type": "stream",
     "text": [
      "Parameter currently in use:\n",
      "\n",
      "{'C': 1.0,\n",
      " 'class_weight': None,\n",
      " 'dual': False,\n",
      " 'fit_intercept': True,\n",
      " 'intercept_scaling': 1,\n",
      " 'l1_ratio': None,\n",
      " 'max_iter': 100,\n",
      " 'multi_class': 'auto',\n",
      " 'n_jobs': None,\n",
      " 'penalty': 'l2',\n",
      " 'random_state': None,\n",
      " 'solver': 'lbfgs',\n",
      " 'tol': 0.0001,\n",
      " 'verbose': 0,\n",
      " 'warm_start': False}\n"
     ]
    }
   ],
   "source": [
    "from pprint import pprint\n",
    "\n",
    "# show used parameters for LogisticRegression()\n",
    "logreg = LogisticRegression()\n",
    "print('Parameter currently in use:\\n')\n",
    "pprint(logreg.get_params())"
   ]
  },
  {
   "cell_type": "code",
   "execution_count": 64,
   "metadata": {},
   "outputs": [
    {
     "name": "stderr",
     "output_type": "stream",
     "text": [
      "C:\\Users\\vechi\\anaconda3\\lib\\site-packages\\sklearn\\model_selection\\_search.py:281: UserWarning: The total space of parameters 840 is smaller than n_iter=1000. Running 840 iterations. For exhaustive searches, use GridSearchCV.\n",
      "  % (grid_size, self.n_iter, grid_size), UserWarning)\n",
      "[Parallel(n_jobs=-1)]: Using backend LokyBackend with 8 concurrent workers.\n"
     ]
    },
    {
     "name": "stdout",
     "output_type": "stream",
     "text": [
      "Fitting 5 folds for each of 840 candidates, totalling 4200 fits\n"
     ]
    },
    {
     "name": "stderr",
     "output_type": "stream",
     "text": [
      "[Parallel(n_jobs=-1)]: Done  25 tasks      | elapsed:    4.1s\n",
      "[Parallel(n_jobs=-1)]: Done 146 tasks      | elapsed:   41.6s\n",
      "[Parallel(n_jobs=-1)]: Done 349 tasks      | elapsed:  1.1min\n",
      "[Parallel(n_jobs=-1)]: Done 632 tasks      | elapsed:  1.8min\n",
      "[Parallel(n_jobs=-1)]: Done 997 tasks      | elapsed:  3.9min\n",
      "[Parallel(n_jobs=-1)]: Done 1442 tasks      | elapsed:  6.1min\n",
      "[Parallel(n_jobs=-1)]: Done 1969 tasks      | elapsed:  8.7min\n",
      "[Parallel(n_jobs=-1)]: Done 2576 tasks      | elapsed: 11.7min\n",
      "[Parallel(n_jobs=-1)]: Done 3265 tasks      | elapsed: 15.3min\n",
      "[Parallel(n_jobs=-1)]: Done 4034 tasks      | elapsed: 19.2min\n",
      "[Parallel(n_jobs=-1)]: Done 4200 out of 4200 | elapsed: 20.2min finished\n"
     ]
    },
    {
     "data": {
      "text/plain": [
       "RandomizedSearchCV(cv=5, error_score=nan,\n",
       "                   estimator=LogisticRegression(C=1.0, class_weight=None,\n",
       "                                                dual=False, fit_intercept=True,\n",
       "                                                intercept_scaling=1,\n",
       "                                                l1_ratio=None, max_iter=100,\n",
       "                                                multi_class='auto', n_jobs=None,\n",
       "                                                penalty='l2', random_state=None,\n",
       "                                                solver='lbfgs', tol=0.0001,\n",
       "                                                verbose=0, warm_start=False),\n",
       "                   iid='deprecated', n_iter=1000, n_jobs=-1,\n",
       "                   param_distributions={'C': [0.001, 0.01, 0.1, 1, 10, 100,\n",
       "                                              1000],\n",
       "                                        'class_weight': ['weight', 'balanced'],\n",
       "                                        'fit_intercept': [True, False],\n",
       "                                        'intercept_scaling': [0.1, 0.4, 0.8],\n",
       "                                        'max_iter': [1000],\n",
       "                                        'penalty': ['l1', 'l2'],\n",
       "                                        'solver': ['newton-cg', 'lbfgs',\n",
       "                                                   'liblinear', 'sag',\n",
       "                                                   'saga']},\n",
       "                   pre_dispatch='2*n_jobs', random_state=22, refit=True,\n",
       "                   return_train_score=False, scoring=None, verbose=2)"
      ]
     },
     "execution_count": 64,
     "metadata": {},
     "output_type": "execute_result"
    }
   ],
   "source": [
    "from sklearn.model_selection import RandomizedSearchCV\n",
    "\n",
    "# create hyperparameters space\n",
    "c = [0.001, 0.01, 0.1, 1, 10, 100, 1000]\n",
    "class_weight = ['weight', 'balanced']\n",
    "fit_intercept = [True, False]\n",
    "intercept_scaling = [0.1, 0.4, 0.8]\n",
    "max_iter = [1000]\n",
    "penalty = ['l1', 'l2']\n",
    "solver =['newton-cg', 'lbfgs', 'liblinear', 'sag', 'saga']\n",
    "\n",
    "# # Create hyperparameter options\n",
    "hyperparameters = {'C': c,\n",
    "                   'class_weight': class_weight,\n",
    "                   'fit_intercept': fit_intercept,\n",
    "                   'intercept_scaling': intercept_scaling,\n",
    "                   'max_iter': max_iter,\n",
    "                   'penalty': penalty,\n",
    "                   'solver': solver}\n",
    "\n",
    "logreg_random = RandomizedSearchCV(estimator = logreg, \n",
    "                               param_distributions = hyperparameters, \n",
    "                               n_iter = 1000, cv = 5, \n",
    "                               verbose = 2, \n",
    "                               random_state = 22, n_jobs = -1)\n",
    "\n",
    "logreg_random.fit(X_train, y_train)"
   ]
  },
  {
   "cell_type": "code",
   "execution_count": 66,
   "metadata": {},
   "outputs": [
    {
     "data": {
      "text/plain": [
       "{'solver': 'lbfgs',\n",
       " 'penalty': 'l2',\n",
       " 'max_iter': 1000,\n",
       " 'intercept_scaling': 0.1,\n",
       " 'fit_intercept': True,\n",
       " 'class_weight': 'weight',\n",
       " 'C': 100}"
      ]
     },
     "execution_count": 66,
     "metadata": {},
     "output_type": "execute_result"
    }
   ],
   "source": [
    "logreg_random.best_params_"
   ]
  },
  {
   "cell_type": "markdown",
   "metadata": {},
   "source": [
    "### Model building (tuned model)"
   ]
  },
  {
   "cell_type": "code",
   "execution_count": 69,
   "metadata": {},
   "outputs": [
    {
     "data": {
      "text/plain": [
       "LogisticRegression(C=100, class_weight='weight', dual=False, fit_intercept=True,\n",
       "                   intercept_scaling=0.1, l1_ratio=None, max_iter=1000,\n",
       "                   multi_class='auto', n_jobs=-1, penalty='l2', random_state=22,\n",
       "                   solver='lbfgs', tol=0.0001, verbose=0, warm_start=False)"
      ]
     },
     "execution_count": 69,
     "metadata": {},
     "output_type": "execute_result"
    }
   ],
   "source": [
    "tuned_model_logreg = LogisticRegression(max_iter = 1000, intercept_scaling = 0.1, class_weight = 'weight', C = 100, n_jobs = -1, random_state = 22)\n",
    "    \n",
    "# fit the model\n",
    "tuned_model_logreg.fit(X_train, y_train)"
   ]
  },
  {
   "cell_type": "markdown",
   "metadata": {},
   "source": [
    "### Prediction"
   ]
  },
  {
   "cell_type": "code",
   "execution_count": 70,
   "metadata": {},
   "outputs": [],
   "source": [
    "y_pred_tuned = tuned_model_logreg.predict(X_test)"
   ]
  },
  {
   "cell_type": "markdown",
   "metadata": {},
   "source": [
    "### Model performance"
   ]
  },
  {
   "cell_type": "code",
   "execution_count": 71,
   "metadata": {},
   "outputs": [
    {
     "name": "stdout",
     "output_type": "stream",
     "text": [
      "Confusion matrix:\n",
      "[[2104  154]\n",
      " [ 459  283]]\n"
     ]
    }
   ],
   "source": [
    "confusion = confusion_matrix(y_test, y_pred_tuned)\n",
    "print('Confusion matrix:\\n{}'.format(confusion))"
   ]
  },
  {
   "cell_type": "code",
   "execution_count": 187,
   "metadata": {},
   "outputs": [
    {
     "name": "stdout",
     "output_type": "stream",
     "text": [
      "Comparing logistic regression models\n",
      "                        Tunned     Default\n",
      "Accuracy:               0.7957     0.7953\n",
      "Sensitivity:            0.3814     0.3787\n",
      "Precision:              0.6476     0.6475\n",
      "Specificity:            0.9318     0.9322\n",
      "F1 Score:               0.4801     0.4779\n",
      "MCC Score:              0.3831     0.3814\n"
     ]
    }
   ],
   "source": [
    "print('Comparing logistic regression models')\n",
    "print(f'                        Tunned     Default')\n",
    "print(f'Accuracy: {np.around(accuracy_score(y_test, y_pred_tuned),4):20} {np.around(accuracy_score(y_test, y_pred),4):10}')\n",
    "print(f'Sensitivity:  {np.around(recall_score(y_test, y_pred_tuned),4):16} {np.around(recall_score(y_test, y_pred),4):10}')\n",
    "print(f'Precision:  {np.around(precision_score(y_test, y_pred_tuned),4):18} {np.around(precision_score(y_test, y_pred),4):10}')\n",
    "print(f'Specificity: {np.around(recall_score(y_test, y_pred_tuned, pos_label=0),4):17} {np.around(recall_score(y_test, y_pred, pos_label=0),4):10}')\n",
    "print(f'F1 Score:  {np.around(f1_score(y_test, y_pred_tuned),4):19} {np.around(f1_score(y_test, y_pred),4):10}')\n",
    "print(f'MCC Score: {np.around(matthews_corrcoef(y_test, y_pred_tuned), 4):19} {np.around(matthews_corrcoef(y_test, y_pred), 4):10}')"
   ]
  },
  {
   "cell_type": "markdown",
   "metadata": {},
   "source": [
    "### ROC curve and AUC"
   ]
  },
  {
   "cell_type": "code",
   "execution_count": 81,
   "metadata": {},
   "outputs": [
    {
     "data": {
      "image/png": "[encoded data removed]",
      "text/plain": [
       "<Figure size 720x576 with 1 Axes>"
      ]
     },
     "metadata": {},
     "output_type": "display_data"
    }
   ],
   "source": [
    "# calculate the fpr and tpr for all thresholds of the classification\n",
    "probs = tuned_model_logreg.predict_proba(X_test)\n",
    "preds = probs[:,1]\n",
    "fpr2, tpr2, threshold2 = metrics.roc_curve(y_test, preds)\n",
    "roc_auc2 = metrics.auc(fpr2, tpr2)\n",
    "\n",
    "# method: plt\n",
    "\n",
    "plt.figure(figsize=(10,8))\n",
    "plt.title('Receiver Operating Characteristic (ROC)', size=20)\n",
    "plt.plot(fpr2, tpr2, 'b', label = 'AUC = %0.2f' % roc_auc2)\n",
    "plt.legend(loc = 'lower right')\n",
    "plt.plot([0, 1], [0, 1],'r--')\n",
    "plt.xlim([0, 1])\n",
    "plt.ylim([0, 1])\n",
    "plt.ylabel('True Positive Rate (Sensitivity)', size=18)\n",
    "plt.xlabel('False Positive Rate (1 - Specificity)', size=18)\n",
    "plt.show()"
   ]
  },
  {
   "cell_type": "markdown",
   "metadata": {},
   "source": [
    "## Hiperparameter tuning with `GridSearchCV()`"
   ]
  },
  {
   "cell_type": "code",
   "execution_count": 189,
   "metadata": {},
   "outputs": [
    {
     "name": "stdout",
     "output_type": "stream",
     "text": [
      "Fitting 5 folds for each of 840 candidates, totalling 4200 fits\n"
     ]
    },
    {
     "name": "stderr",
     "output_type": "stream",
     "text": [
      "[Parallel(n_jobs=-1)]: Using backend LokyBackend with 8 concurrent workers.\n",
      "[Parallel(n_jobs=-1)]: Done  25 tasks      | elapsed:   20.5s\n",
      "[Parallel(n_jobs=-1)]: Done 146 tasks      | elapsed:   39.2s\n",
      "[Parallel(n_jobs=-1)]: Done 369 tasks      | elapsed:   55.0s\n",
      "[Parallel(n_jobs=-1)]: Done 712 tasks      | elapsed:  1.6min\n",
      "[Parallel(n_jobs=-1)]: Done 1077 tasks      | elapsed:  2.9min\n",
      "[Parallel(n_jobs=-1)]: Done 1522 tasks      | elapsed:  4.9min\n",
      "[Parallel(n_jobs=-1)]: Done 2049 tasks      | elapsed:  7.6min\n",
      "[Parallel(n_jobs=-1)]: Done 2656 tasks      | elapsed: 10.6min\n",
      "[Parallel(n_jobs=-1)]: Done 3345 tasks      | elapsed: 14.2min\n",
      "[Parallel(n_jobs=-1)]: Done 4114 tasks      | elapsed: 18.1min\n",
      "[Parallel(n_jobs=-1)]: Done 4200 out of 4200 | elapsed: 18.7min finished\n"
     ]
    },
    {
     "data": {
      "text/plain": [
       "GridSearchCV(cv=5, error_score=nan,\n",
       "             estimator=LogisticRegression(C=1.0, class_weight=None, dual=False,\n",
       "                                          fit_intercept=True,\n",
       "                                          intercept_scaling=1, l1_ratio=None,\n",
       "                                          max_iter=100, multi_class='auto',\n",
       "                                          n_jobs=None, penalty='l2',\n",
       "                                          random_state=None, solver='lbfgs',\n",
       "                                          tol=0.0001, verbose=0,\n",
       "                                          warm_start=False),\n",
       "             iid='deprecated', n_jobs=-1,\n",
       "             param_grid={'C': [0.001, 0.01, 0.1, 1, 10, 10, 1000],\n",
       "                         'class_weight': ['weight', 'balanced'],\n",
       "                         'fit_intercept': [True, False],\n",
       "                         'intercept_scaling': [0.1, 0.4, 0.8],\n",
       "                         'max_iter': [1000], 'penalty': ['l1', 'l2'],\n",
       "                         'solver': ['newton-cg', 'lbfgs', 'liblinear', 'sag',\n",
       "                                    'saga']},\n",
       "             pre_dispatch='2*n_jobs', refit=True, return_train_score=False,\n",
       "             scoring=None, verbose=2)"
      ]
     },
     "execution_count": 189,
     "metadata": {},
     "output_type": "execute_result"
    }
   ],
   "source": [
    "from sklearn.model_selection import GridSearchCV\n",
    "\n",
    "# create hyperparameters space\n",
    "c = [0.001, 0.01, 0.1, 1, 10, 10, 1000]\n",
    "class_weight = ['weight', 'balanced']\n",
    "fit_intercept = [True, False]\n",
    "intercept_scaling = [0.1, 0.4, 0.8]\n",
    "max_iter = [1000]\n",
    "penalty = ['l1', 'l2']\n",
    "solver =['newton-cg', 'lbfgs', 'liblinear', 'sag', 'saga']\n",
    "\n",
    "# # Create hyperparameter options\n",
    "hyperparameters = {'C': c,\n",
    "                   'class_weight': class_weight,\n",
    "                   'fit_intercept': fit_intercept,\n",
    "                   'intercept_scaling': intercept_scaling,\n",
    "                   'max_iter': max_iter,\n",
    "                   'penalty': penalty,\n",
    "                   'solver': solver}\n",
    "\n",
    "logreg_grid = GridSearchCV(estimator = logreg, \n",
    "                               param_grid = hyperparameters, \n",
    "                               cv = 5, \n",
    "                               verbose = 2, \n",
    "                               n_jobs = -1)\n",
    "\n",
    "logreg_grid.fit(X_train, y_train)"
   ]
  },
  {
   "cell_type": "code",
   "execution_count": 194,
   "metadata": {},
   "outputs": [
    {
     "data": {
      "text/plain": [
       "{'C': 10,\n",
       " 'class_weight': 'weight',\n",
       " 'fit_intercept': False,\n",
       " 'intercept_scaling': 0.1,\n",
       " 'max_iter': 1000,\n",
       " 'penalty': 'l2',\n",
       " 'solver': 'lbfgs'}"
      ]
     },
     "execution_count": 194,
     "metadata": {},
     "output_type": "execute_result"
    }
   ],
   "source": [
    "logreg_grid.best_params_"
   ]
  },
  {
   "cell_type": "markdown",
   "metadata": {},
   "source": [
    "`RandomizedSearchCV()` $\\times$ `GridSearchCV()`"
   ]
  },
  {
   "cell_type": "code",
   "execution_count": 195,
   "metadata": {},
   "outputs": [
    {
     "data": {
      "text/plain": [
       "LogisticRegression(C=10, class_weight='weight', dual=False, fit_intercept=True,\n",
       "                   intercept_scaling=0.1, l1_ratio=None, max_iter=1000,\n",
       "                   multi_class='auto', n_jobs=-1, penalty='l2', random_state=22,\n",
       "                   solver='lbfgs', tol=0.0001, verbose=0, warm_start=False)"
      ]
     },
     "execution_count": 195,
     "metadata": {},
     "output_type": "execute_result"
    }
   ],
   "source": [
    "tuned_model_logreg_2 = LogisticRegression(max_iter = 1000, intercept_scaling = 0.1, class_weight = 'weight', C = 10, n_jobs = -1, random_state = 22)\n",
    "    \n",
    "# fit the model\n",
    "tuned_model_logreg_2.fit(X_train, y_train)"
   ]
  },
  {
   "cell_type": "code",
   "execution_count": 196,
   "metadata": {},
   "outputs": [],
   "source": [
    "y_pred_tuned = tuned_model_logreg.predict(X_test)"
   ]
  },
  {
   "cell_type": "code",
   "execution_count": 197,
   "metadata": {},
   "outputs": [
    {
     "name": "stdout",
     "output_type": "stream",
     "text": [
      "Confusion matrix:\n",
      "[[2104  154]\n",
      " [ 459  283]]\n"
     ]
    }
   ],
   "source": [
    "confusion = confusion_matrix(y_test, y_pred_tuned)\n",
    "print('Confusion matrix:\\n{}'.format(confusion))"
   ]
  },
  {
   "cell_type": "code",
   "execution_count": 198,
   "metadata": {},
   "outputs": [
    {
     "name": "stdout",
     "output_type": "stream",
     "text": [
      "Comparing logistic regression models\n",
      "                        Tunned     Default\n",
      "Accuracy:               0.7957     0.7953\n",
      "Sensitivity:            0.3814     0.3787\n",
      "Precision:              0.6476     0.6475\n",
      "Specificity:            0.9318     0.9322\n",
      "F1 Score:               0.4801     0.4779\n",
      "MCC Score:              0.3831     0.3814\n"
     ]
    }
   ],
   "source": [
    "print('Comparing logistic regression models')\n",
    "print(f'                        Tunned     Default')\n",
    "print(f'Accuracy: {np.around(accuracy_score(y_test, y_pred_tuned),4):20} {np.around(accuracy_score(y_test, y_pred),4):10}')\n",
    "print(f'Sensitivity:  {np.around(recall_score(y_test, y_pred_tuned),4):16} {np.around(recall_score(y_test, y_pred),4):10}')\n",
    "print(f'Precision:  {np.around(precision_score(y_test, y_pred_tuned),4):18} {np.around(precision_score(y_test, y_pred),4):10}')\n",
    "print(f'Specificity: {np.around(recall_score(y_test, y_pred_tuned, pos_label=0),4):17} {np.around(recall_score(y_test, y_pred, pos_label=0),4):10}')\n",
    "print(f'F1 Score:  {np.around(f1_score(y_test, y_pred_tuned),4):19} {np.around(f1_score(y_test, y_pred),4):10}')\n",
    "print(f'MCC Score: {np.around(matthews_corrcoef(y_test, y_pred_tuned), 4):19} {np.around(matthews_corrcoef(y_test, y_pred), 4):10}')"
   ]
  },
  {
   "cell_type": "markdown",
   "metadata": {},
   "source": [
    "## Regression tree model"
   ]
  },
  {
   "cell_type": "code",
   "execution_count": 55,
   "metadata": {},
   "outputs": [
    {
     "name": "stdout",
     "output_type": "stream",
     "text": [
      "Parameter currently in use:\n",
      "\n",
      "{'ccp_alpha': 0.0,\n",
      " 'class_weight': None,\n",
      " 'criterion': 'gini',\n",
      " 'max_depth': None,\n",
      " 'max_features': None,\n",
      " 'max_leaf_nodes': None,\n",
      " 'min_impurity_decrease': 0.0,\n",
      " 'min_impurity_split': None,\n",
      " 'min_samples_leaf': 1,\n",
      " 'min_samples_split': 2,\n",
      " 'min_weight_fraction_leaf': 0.0,\n",
      " 'presort': 'deprecated',\n",
      " 'random_state': None,\n",
      " 'splitter': 'best'}\n"
     ]
    }
   ],
   "source": [
    "# build the decision tree \n",
    "from sklearn.tree import DecisionTreeClassifier\n",
    "from pprint import pprint\n",
    "\n",
    "# show used parameters for DecisionTreeClassifier()\n",
    "model_tree = DecisionTreeClassifier()\n",
    "print('Parameter currently in use:\\n')\n",
    "pprint(model_tree.get_params())"
   ]
  },
  {
   "cell_type": "code",
   "execution_count": 57,
   "metadata": {},
   "outputs": [
    {
     "name": "stdout",
     "output_type": "stream",
     "text": [
      "Fitting 5 folds for each of 1320 candidates, totalling 6600 fits\n"
     ]
    },
    {
     "name": "stderr",
     "output_type": "stream",
     "text": [
      "[Parallel(n_jobs=-1)]: Using backend LokyBackend with 8 concurrent workers.\n",
      "[Parallel(n_jobs=-1)]: Done  25 tasks      | elapsed:    2.1s\n",
      "[Parallel(n_jobs=-1)]: Done 1072 tasks      | elapsed:    4.7s\n",
      "[Parallel(n_jobs=-1)]: Done 4320 tasks      | elapsed:   12.5s\n",
      "[Parallel(n_jobs=-1)]: Done 6600 out of 6600 | elapsed:   20.6s finished\n"
     ]
    },
    {
     "data": {
      "text/plain": [
       "GridSearchCV(cv=5, estimator=DecisionTreeClassifier(), n_jobs=-1,\n",
       "             param_grid={'class_weight': ['weight', 'balanced'],\n",
       "                         'criterion': ['gini', 'entropy'],\n",
       "                         'max_depth': [1, 2, 3, 4, 5, 6, 7, 8, 9, 10, 11, 12,\n",
       "                                       13, 14, 15],\n",
       "                         'min_impurity_decrease': [0.0005, 0.001, 0.002, 0.005,\n",
       "                                                   0.01, 0.02, 0.05, 0.1, 0.15,\n",
       "                                                   0.2, 0.4],\n",
       "                         'splitter': ['best', 'random']},\n",
       "             verbose=2)"
      ]
     },
     "execution_count": 57,
     "metadata": {},
     "output_type": "execute_result"
    }
   ],
   "source": [
    "from sklearn.model_selection import GridSearchCV\n",
    "\n",
    "# create hyperparameters space\n",
    "max_depth = [int(x) for x in np.linspace(start=1, stop=15, num=15)]\n",
    "criterion = ['gini', 'entropy']\n",
    "splitter = ['best', 'random']\n",
    "class_weight = ['weight', 'balanced']\n",
    "min_impurity_decrease = [0.0005, 0.001, 0.002, 0.005, 0.01, 0.02, 0.05, 0.1, 0.15, 0.2, 0.4]\n",
    "\n",
    "\n",
    "# # Create hyperparameter options\n",
    "hyperparameters = {'max_depth': max_depth,\n",
    "                   'criterion': criterion,\n",
    "                   'splitter': spliter,\n",
    "                   'class_weight': class_weight,\n",
    "                   'min_impurity_decrease': min_impurity_decrease}\n",
    "\n",
    "model_tree_grid = GridSearchCV(estimator = model_tree, \n",
    "                               param_grid = hyperparameters, \n",
    "                               cv = 5, \n",
    "                               verbose = 2, \n",
    "                               n_jobs = -1)\n",
    "\n",
    "#model_tree_grid = RandomizedSearchCV(estimator = model_tree, \n",
    "#                               param_distributions = hyperparameters, \n",
    "#                               n_iter = 2000, cv = 5, \n",
    "#                               verbose = 2, \n",
    "#                               random_state = 22, n_jobs = -1)\n",
    "\n",
    "\n",
    "model_tree_grid.fit(X_train, y_train)"
   ]
  },
  {
   "cell_type": "code",
   "execution_count": 58,
   "metadata": {},
   "outputs": [
    {
     "data": {
      "text/plain": [
       "{'class_weight': 'balanced',\n",
       " 'criterion': 'gini',\n",
       " 'max_depth': 10,\n",
       " 'min_impurity_decrease': 0.0005,\n",
       " 'splitter': 'best'}"
      ]
     },
     "execution_count": 58,
     "metadata": {},
     "output_type": "execute_result"
    }
   ],
   "source": [
    "#import sklearn\n",
    "# sklearn.__version__\n",
    "\n",
    "model_tree_grid.best_params_"
   ]
  },
  {
   "cell_type": "code",
   "execution_count": 60,
   "metadata": {},
   "outputs": [
    {
     "data": {
      "text/plain": [
       "DecisionTreeClassifier(class_weight='balanced', max_depth=10,\n",
       "                       min_impurity_decrease=0.0005)"
      ]
     },
     "execution_count": 60,
     "metadata": {},
     "output_type": "execute_result"
    }
   ],
   "source": [
    "# show used parameters for DecisionTreeClassifier()\n",
    "model_tree_tuned = DecisionTreeClassifier(class_weight='balanced', criterion='gini', max_depth=10, min_impurity_decrease=0.0005, splitter='best')\n",
    "\n",
    "# fit the model\n",
    "model_tree_tuned.fit(X_train, y_train)"
   ]
  },
  {
   "cell_type": "code",
   "execution_count": 62,
   "metadata": {},
   "outputs": [],
   "source": [
    "y_pred_tuned = model_tree_tuned.predict(X_test)"
   ]
  },
  {
   "cell_type": "code",
   "execution_count": 63,
   "metadata": {},
   "outputs": [
    {
     "name": "stdout",
     "output_type": "stream",
     "text": [
      "Confusion matrix:\n",
      "[[2234   24]\n",
      " [  46  696]]\n"
     ]
    }
   ],
   "source": [
    "confusion = confusion_matrix(y_test, y_pred_tuned)\n",
    "print('Confusion matrix:\\n{}'.format(confusion))"
   ]
  },
  {
   "cell_type": "code",
   "execution_count": 64,
   "metadata": {},
   "outputs": [
    {
     "name": "stdout",
     "output_type": "stream",
     "text": [
      "Comparing logistic regression models\n",
      "                        Tunned     Default\n",
      "Accuracy:               0.9767     0.7953\n",
      "Sensitivity:             0.938     0.3787\n",
      "Precision:              0.9667     0.6475\n",
      "Specificity:            0.9894     0.9322\n",
      "F1 Score:               0.9521     0.4779\n",
      "MCC Score:              0.9369     0.3814\n"
     ]
    }
   ],
   "source": [
    "print('Comparing logistic regression models')\n",
    "print(f'                        Tunned     Default')\n",
    "print(f'Accuracy: {np.around(accuracy_score(y_test, y_pred_tuned),4):20} {np.around(accuracy_score(y_test, y_pred),4):10}')\n",
    "print(f'Sensitivity:  {np.around(recall_score(y_test, y_pred_tuned),4):16} {np.around(recall_score(y_test, y_pred),4):10}')\n",
    "print(f'Precision:  {np.around(precision_score(y_test, y_pred_tuned),4):18} {np.around(precision_score(y_test, y_pred),4):10}')\n",
    "print(f'Specificity: {np.around(recall_score(y_test, y_pred_tuned, pos_label=0),4):17} {np.around(recall_score(y_test, y_pred, pos_label=0),4):10}')\n",
    "print(f'F1 Score:  {np.around(f1_score(y_test, y_pred_tuned),4):19} {np.around(f1_score(y_test, y_pred),4):10}')\n",
    "print(f'MCC Score: {np.around(matthews_corrcoef(y_test, y_pred_tuned), 4):19} {np.around(matthews_corrcoef(y_test, y_pred), 4):10}')"
   ]
  },
  {
   "cell_type": "code",
   "execution_count": 66,
   "metadata": {},
   "outputs": [
    {
     "data": {
      "image/png": "[encoded data removed]",
      "text/plain": [
       "<Figure size 720x576 with 1 Axes>"
      ]
     },
     "metadata": {},
     "output_type": "display_data"
    }
   ],
   "source": [
    "# calculate the fpr and tpr for all thresholds of the classification\n",
    "probs = model_tree_tuned.predict_proba(X_test)\n",
    "preds = probs[:,1]\n",
    "fpr3, tpr3, threshold3 = metrics.roc_curve(y_test, preds)\n",
    "roc_auc3 = metrics.auc(fpr3, tpr3)\n",
    "\n",
    "# method: plt\n",
    "\n",
    "plt.figure(figsize=(10,8))\n",
    "plt.title('Receiver Operating Characteristic (ROC)', size=20)\n",
    "plt.plot(fpr3, tpr3, 'b', label = 'AUC = %0.2f' % roc_auc3)\n",
    "plt.legend(loc = 'lower right')\n",
    "plt.plot([0, 1], [0, 1],'r--')\n",
    "plt.xlim([0, 1])\n",
    "plt.ylim([0, 1])\n",
    "plt.ylabel('True Positive Rate (Sensitivity)', size=18)\n",
    "plt.xlabel('False Positive Rate (1 - Specificity)', size=18)\n",
    "plt.show()"
   ]
  },
  {
   "cell_type": "code",
   "execution_count": 67,
   "metadata": {},
   "outputs": [],
   "source": [
    "from sklearn.tree import export_graphviz\n",
    "import graphviz\n",
    "\n",
    "# generate the graph for the tree\n",
    "dot_data= export_graphviz(model_tree_tuned, out_file='model_tree_tuned.dot', \n",
    "                          feature_names=X_test.columns,  \n",
    "#                          class_names=['0', '1'],  \n",
    "                          class_names=['no left', 'left'],\n",
    "                          filled=True, rounded=True,  \n",
    "                          special_characters=True) "
   ]
  },
  {
   "cell_type": "code",
   "execution_count": 68,
   "metadata": {},
   "outputs": [
    {
     "data": {
      "image/svg+xml": [
       "<?xml version=\"1.0\" encoding=\"UTF-8\" standalone=\"no\"?>\r\n",
       "<!DOCTYPE svg PUBLIC \"-//W3C//DTD SVG 1.1//EN\"\r\n",
       " \"http://www.w3.org/Graphics/SVG/1.1/DTD/svg11.dtd\">\r\n",
       "<!-- Generated by graphviz version 2.38.0 (20140413.2041)\r\n",
       " -->\r\n",
       "<!-- Title: Tree Pages: 1 -->\r\n",
       "<svg width=\"3094pt\" height=\"1266pt\"\r\n",
       " viewBox=\"0.00 0.00 3093.50 1266.00\" xmlns=\"http://www.w3.org/2000/svg\" xmlns:xlink=\"http://www.w3.org/1999/xlink\">\r\n",
       "<g id=\"graph0\" class=\"graph\" transform=\"scale(1 1) rotate(0) translate(4 1262)\">\r\n",
       "<title>Tree</title>\r\n",
       "<polygon fill=\"white\" stroke=\"none\" points=\"-4,4 -4,-1262 3089.5,-1262 3089.5,4 -4,4\"/>\r\n",
       "<!-- 0 -->\r\n",
       "<g id=\"node1\" class=\"node\"><title>0</title>\r\n",
       "<path fill=\"#ffffff\" stroke=\"black\" d=\"M1338.5,-1258C1338.5,-1258 1185.5,-1258 1185.5,-1258 1179.5,-1258 1173.5,-1252 1173.5,-1246 1173.5,-1246 1173.5,-1187 1173.5,-1187 1173.5,-1181 1179.5,-1175 1185.5,-1175 1185.5,-1175 1338.5,-1175 1338.5,-1175 1344.5,-1175 1350.5,-1181 1350.5,-1187 1350.5,-1187 1350.5,-1246 1350.5,-1246 1350.5,-1252 1344.5,-1258 1338.5,-1258\"/>\r\n",
       "<text text-anchor=\"start\" x=\"1181.5\" y=\"-1242.8\" font-family=\"Helvetica,sans-Serif\" font-size=\"14.00\">satisfaction_level ≤ 0.465</text>\r\n",
       "<text text-anchor=\"start\" x=\"1233\" y=\"-1227.8\" font-family=\"Helvetica,sans-Serif\" font-size=\"14.00\">gini = 0.5</text>\r\n",
       "<text text-anchor=\"start\" x=\"1206\" y=\"-1212.8\" font-family=\"Helvetica,sans-Serif\" font-size=\"14.00\">samples = 11999</text>\r\n",
       "<text text-anchor=\"start\" x=\"1185\" y=\"-1197.8\" font-family=\"Helvetica,sans-Serif\" font-size=\"14.00\">value = [5999.5, 5999.5]</text>\r\n",
       "<text text-anchor=\"start\" x=\"1227.5\" y=\"-1182.8\" font-family=\"Helvetica,sans-Serif\" font-size=\"14.00\">class = left</text>\r\n",
       "</g>\r\n",
       "<!-- 1 -->\r\n",
       "<g id=\"node2\" class=\"node\"><title>1</title>\r\n",
       "<path fill=\"#61b1ea\" stroke=\"black\" d=\"M1030.5,-1139C1030.5,-1139 859.5,-1139 859.5,-1139 853.5,-1139 847.5,-1133 847.5,-1127 847.5,-1127 847.5,-1068 847.5,-1068 847.5,-1062 853.5,-1056 859.5,-1056 859.5,-1056 1030.5,-1056 1030.5,-1056 1036.5,-1056 1042.5,-1062 1042.5,-1068 1042.5,-1068 1042.5,-1127 1042.5,-1127 1042.5,-1133 1036.5,-1139 1030.5,-1139\"/>\r\n",
       "<text text-anchor=\"start\" x=\"856.5\" y=\"-1123.8\" font-family=\"Helvetica,sans-Serif\" font-size=\"14.00\">time_spend_company ≤ 4.5</text>\r\n",
       "<text text-anchor=\"start\" x=\"907.5\" y=\"-1108.8\" font-family=\"Helvetica,sans-Serif\" font-size=\"14.00\">gini = 0.281</text>\r\n",
       "<text text-anchor=\"start\" x=\"893.5\" y=\"-1093.8\" font-family=\"Helvetica,sans-Serif\" font-size=\"14.00\">samples = 3333</text>\r\n",
       "<text text-anchor=\"start\" x=\"855.5\" y=\"-1078.8\" font-family=\"Helvetica,sans-Serif\" font-size=\"14.00\">value = [866.231, 4260.514]</text>\r\n",
       "<text text-anchor=\"start\" x=\"910.5\" y=\"-1063.8\" font-family=\"Helvetica,sans-Serif\" font-size=\"14.00\">class = left</text>\r\n",
       "</g>\r\n",
       "<!-- 0&#45;&gt;1 -->\r\n",
       "<g id=\"edge1\" class=\"edge\"><title>0&#45;&gt;1</title>\r\n",
       "<path fill=\"none\" stroke=\"black\" d=\"M1173.28,-1182.75C1135.63,-1168.86 1091.43,-1152.54 1051.99,-1137.99\"/>\r\n",
       "<polygon fill=\"black\" stroke=\"black\" points=\"1053.2,-1134.7 1042.61,-1134.53 1050.78,-1141.27 1053.2,-1134.7\"/>\r\n",
       "<text text-anchor=\"middle\" x=\"1053.07\" y=\"-1153.53\" font-family=\"Helvetica,sans-Serif\" font-size=\"14.00\">True</text>\r\n",
       "</g>\r\n",
       "<!-- 42 -->\r\n",
       "<g id=\"node43\" class=\"node\"><title>42</title>\r\n",
       "<path fill=\"#eeac7c\" stroke=\"black\" d=\"M1668.5,-1139C1668.5,-1139 1489.5,-1139 1489.5,-1139 1483.5,-1139 1477.5,-1133 1477.5,-1127 1477.5,-1127 1477.5,-1068 1477.5,-1068 1477.5,-1062 1483.5,-1056 1489.5,-1056 1489.5,-1056 1668.5,-1056 1668.5,-1056 1674.5,-1056 1680.5,-1062 1680.5,-1068 1680.5,-1068 1680.5,-1127 1680.5,-1127 1680.5,-1133 1674.5,-1139 1668.5,-1139\"/>\r\n",
       "<text text-anchor=\"start\" x=\"1490.5\" y=\"-1123.8\" font-family=\"Helvetica,sans-Serif\" font-size=\"14.00\">time_spend_company ≤ 4.5</text>\r\n",
       "<text text-anchor=\"start\" x=\"1541.5\" y=\"-1108.8\" font-family=\"Helvetica,sans-Serif\" font-size=\"14.00\">gini = 0.378</text>\r\n",
       "<text text-anchor=\"start\" x=\"1527.5\" y=\"-1093.8\" font-family=\"Helvetica,sans-Serif\" font-size=\"14.00\">samples = 8666</text>\r\n",
       "<text text-anchor=\"start\" x=\"1485.5\" y=\"-1078.8\" font-family=\"Helvetica,sans-Serif\" font-size=\"14.00\">value = [5133.269, 1738.986]</text>\r\n",
       "<text text-anchor=\"start\" x=\"1535\" y=\"-1063.8\" font-family=\"Helvetica,sans-Serif\" font-size=\"14.00\">class = no left</text>\r\n",
       "</g>\r\n",
       "<!-- 0&#45;&gt;42 -->\r\n",
       "<g id=\"edge42\" class=\"edge\"><title>0&#45;&gt;42</title>\r\n",
       "<path fill=\"none\" stroke=\"black\" d=\"M1350.72,-1182.75C1387.03,-1169.35 1429.43,-1153.7 1467.78,-1139.55\"/>\r\n",
       "<polygon fill=\"black\" stroke=\"black\" points=\"1469.26,-1142.73 1477.43,-1135.99 1466.84,-1136.17 1469.26,-1142.73\"/>\r\n",
       "<text text-anchor=\"middle\" x=\"1466.97\" y=\"-1154.99\" font-family=\"Helvetica,sans-Serif\" font-size=\"14.00\">False</text>\r\n",
       "</g>\r\n",
       "<!-- 2 -->\r\n",
       "<g id=\"node3\" class=\"node\"><title>2</title>\r\n",
       "<path fill=\"#53aae8\" stroke=\"black\" d=\"M677.5,-1020C677.5,-1020 506.5,-1020 506.5,-1020 500.5,-1020 494.5,-1014 494.5,-1008 494.5,-1008 494.5,-949 494.5,-949 494.5,-943 500.5,-937 506.5,-937 506.5,-937 677.5,-937 677.5,-937 683.5,-937 689.5,-943 689.5,-949 689.5,-949 689.5,-1008 689.5,-1008 689.5,-1014 683.5,-1020 677.5,-1020\"/>\r\n",
       "<text text-anchor=\"start\" x=\"503.5\" y=\"-1004.8\" font-family=\"Helvetica,sans-Serif\" font-size=\"14.00\">time_spend_company ≤ 2.5</text>\r\n",
       "<text text-anchor=\"start\" x=\"554.5\" y=\"-989.8\" font-family=\"Helvetica,sans-Serif\" font-size=\"14.00\">gini = 0.204</text>\r\n",
       "<text text-anchor=\"start\" x=\"540.5\" y=\"-974.8\" font-family=\"Helvetica,sans-Serif\" font-size=\"14.00\">samples = 2718</text>\r\n",
       "<text text-anchor=\"start\" x=\"502.5\" y=\"-959.8\" font-family=\"Helvetica,sans-Serif\" font-size=\"14.00\">value = [527.328, 4054.805]</text>\r\n",
       "<text text-anchor=\"start\" x=\"557.5\" y=\"-944.8\" font-family=\"Helvetica,sans-Serif\" font-size=\"14.00\">class = left</text>\r\n",
       "</g>\r\n",
       "<!-- 1&#45;&gt;2 -->\r\n",
       "<g id=\"edge2\" class=\"edge\"><title>1&#45;&gt;2</title>\r\n",
       "<path fill=\"none\" stroke=\"black\" d=\"M847.139,-1064.06C801.23,-1048.85 746.399,-1030.67 699.353,-1015.08\"/>\r\n",
       "<polygon fill=\"black\" stroke=\"black\" points=\"700.339,-1011.72 689.746,-1011.9 698.137,-1018.37 700.339,-1011.72\"/>\r\n",
       "</g>\r\n",
       "<!-- 29 -->\r\n",
       "<g id=\"node30\" class=\"node\"><title>29</title>\r\n",
       "<path fill=\"#f5cdb1\" stroke=\"black\" d=\"M1026.5,-1020C1026.5,-1020 863.5,-1020 863.5,-1020 857.5,-1020 851.5,-1014 851.5,-1008 851.5,-1008 851.5,-949 851.5,-949 851.5,-943 857.5,-937 863.5,-937 863.5,-937 1026.5,-937 1026.5,-937 1032.5,-937 1038.5,-943 1038.5,-949 1038.5,-949 1038.5,-1008 1038.5,-1008 1038.5,-1014 1032.5,-1020 1026.5,-1020\"/>\r\n",
       "<text text-anchor=\"start\" x=\"864.5\" y=\"-1004.8\" font-family=\"Helvetica,sans-Serif\" font-size=\"14.00\">satisfaction_level ≤ 0.115</text>\r\n",
       "<text text-anchor=\"start\" x=\"911.5\" y=\"-989.8\" font-family=\"Helvetica,sans-Serif\" font-size=\"14.00\">gini = 0.47</text>\r\n",
       "<text text-anchor=\"start\" x=\"897.5\" y=\"-974.8\" font-family=\"Helvetica,sans-Serif\" font-size=\"14.00\">samples = 615</text>\r\n",
       "<text text-anchor=\"start\" x=\"859.5\" y=\"-959.8\" font-family=\"Helvetica,sans-Serif\" font-size=\"14.00\">value = [338.903, 205.709]</text>\r\n",
       "<text text-anchor=\"start\" x=\"901\" y=\"-944.8\" font-family=\"Helvetica,sans-Serif\" font-size=\"14.00\">class = no left</text>\r\n",
       "</g>\r\n",
       "<!-- 1&#45;&gt;29 -->\r\n",
       "<g id=\"edge29\" class=\"edge\"><title>1&#45;&gt;29</title>\r\n",
       "<path fill=\"none\" stroke=\"black\" d=\"M945,-1055.91C945,-1047.65 945,-1038.86 945,-1030.3\"/>\r\n",
       "<polygon fill=\"black\" stroke=\"black\" points=\"948.5,-1030.02 945,-1020.02 941.5,-1030.02 948.5,-1030.02\"/>\r\n",
       "</g>\r\n",
       "<!-- 3 -->\r\n",
       "<g id=\"node4\" class=\"node\"><title>3</title>\r\n",
       "<path fill=\"#eb9f68\" stroke=\"black\" d=\"M363.5,-901C363.5,-901 208.5,-901 208.5,-901 202.5,-901 196.5,-895 196.5,-889 196.5,-889 196.5,-830 196.5,-830 196.5,-824 202.5,-818 208.5,-818 208.5,-818 363.5,-818 363.5,-818 369.5,-818 375.5,-824 375.5,-830 375.5,-830 375.5,-889 375.5,-889 375.5,-895 369.5,-901 363.5,-901\"/>\r\n",
       "<text text-anchor=\"start\" x=\"209.5\" y=\"-885.8\" font-family=\"Helvetica,sans-Serif\" font-size=\"14.00\">satisfaction_level ≤ 0.14</text>\r\n",
       "<text text-anchor=\"start\" x=\"248.5\" y=\"-870.8\" font-family=\"Helvetica,sans-Serif\" font-size=\"14.00\">gini = 0.309</text>\r\n",
       "<text text-anchor=\"start\" x=\"238.5\" y=\"-855.8\" font-family=\"Helvetica,sans-Serif\" font-size=\"14.00\">samples = 221</text>\r\n",
       "<text text-anchor=\"start\" x=\"204.5\" y=\"-840.8\" font-family=\"Helvetica,sans-Serif\" font-size=\"14.00\">value = [134.776, 31.811]</text>\r\n",
       "<text text-anchor=\"start\" x=\"242\" y=\"-825.8\" font-family=\"Helvetica,sans-Serif\" font-size=\"14.00\">class = no left</text>\r\n",
       "</g>\r\n",
       "<!-- 2&#45;&gt;3 -->\r\n",
       "<g id=\"edge3\" class=\"edge\"><title>2&#45;&gt;3</title>\r\n",
       "<path fill=\"none\" stroke=\"black\" d=\"M494.338,-940.159C459.565,-926.863 420.384,-911.882 385.462,-898.53\"/>\r\n",
       "<polygon fill=\"black\" stroke=\"black\" points=\"386.323,-895.112 375.732,-894.809 383.823,-901.65 386.323,-895.112\"/>\r\n",
       "</g>\r\n",
       "<!-- 10 -->\r\n",
       "<g id=\"node11\" class=\"node\"><title>10</title>\r\n",
       "<path fill=\"#4ca7e8\" stroke=\"black\" d=\"M686,-901C686,-901 498,-901 498,-901 492,-901 486,-895 486,-889 486,-889 486,-830 486,-830 486,-824 492,-818 498,-818 498,-818 686,-818 686,-818 692,-818 698,-824 698,-830 698,-830 698,-889 698,-889 698,-895 692,-901 686,-901\"/>\r\n",
       "<text text-anchor=\"start\" x=\"494\" y=\"-885.8\" font-family=\"Helvetica,sans-Serif\" font-size=\"14.00\">average_montly_hours ≤ 125.5</text>\r\n",
       "<text text-anchor=\"start\" x=\"554.5\" y=\"-870.8\" font-family=\"Helvetica,sans-Serif\" font-size=\"14.00\">gini = 0.162</text>\r\n",
       "<text text-anchor=\"start\" x=\"540.5\" y=\"-855.8\" font-family=\"Helvetica,sans-Serif\" font-size=\"14.00\">samples = 2497</text>\r\n",
       "<text text-anchor=\"start\" x=\"502.5\" y=\"-840.8\" font-family=\"Helvetica,sans-Serif\" font-size=\"14.00\">value = [392.552, 4022.995]</text>\r\n",
       "<text text-anchor=\"start\" x=\"557.5\" y=\"-825.8\" font-family=\"Helvetica,sans-Serif\" font-size=\"14.00\">class = left</text>\r\n",
       "</g>\r\n",
       "<!-- 2&#45;&gt;10 -->\r\n",
       "<g id=\"edge10\" class=\"edge\"><title>2&#45;&gt;10</title>\r\n",
       "<path fill=\"none\" stroke=\"black\" d=\"M592,-936.907C592,-928.649 592,-919.864 592,-911.302\"/>\r\n",
       "<polygon fill=\"black\" stroke=\"black\" points=\"595.5,-911.021 592,-901.021 588.5,-911.021 595.5,-911.021\"/>\r\n",
       "</g>\r\n",
       "<!-- 4 -->\r\n",
       "<g id=\"node5\" class=\"node\"><title>4</title>\r\n",
       "<path fill=\"#6ab5eb\" stroke=\"black\" d=\"M150,-774.5C150,-774.5 12,-774.5 12,-774.5 6,-774.5 0,-768.5 0,-762.5 0,-762.5 0,-718.5 0,-718.5 0,-712.5 6,-706.5 12,-706.5 12,-706.5 150,-706.5 150,-706.5 156,-706.5 162,-712.5 162,-718.5 162,-718.5 162,-762.5 162,-762.5 162,-768.5 156,-774.5 150,-774.5\"/>\r\n",
       "<text text-anchor=\"start\" x=\"43.5\" y=\"-759.3\" font-family=\"Helvetica,sans-Serif\" font-size=\"14.00\">gini = 0.318</text>\r\n",
       "<text text-anchor=\"start\" x=\"41.5\" y=\"-744.3\" font-family=\"Helvetica,sans-Serif\" font-size=\"14.00\">samples = 9</text>\r\n",
       "<text text-anchor=\"start\" x=\"8\" y=\"-729.3\" font-family=\"Helvetica,sans-Serif\" font-size=\"14.00\">value = [2.617, 10.604]</text>\r\n",
       "<text text-anchor=\"start\" x=\"46.5\" y=\"-714.3\" font-family=\"Helvetica,sans-Serif\" font-size=\"14.00\">class = left</text>\r\n",
       "</g>\r\n",
       "<!-- 3&#45;&gt;4 -->\r\n",
       "<g id=\"edge4\" class=\"edge\"><title>3&#45;&gt;4</title>\r\n",
       "<path fill=\"none\" stroke=\"black\" d=\"M214.876,-817.907C193.126,-805.494 169.289,-791.889 147.834,-779.644\"/>\r\n",
       "<polygon fill=\"black\" stroke=\"black\" points=\"149.533,-776.584 139.113,-774.667 146.063,-782.664 149.533,-776.584\"/>\r\n",
       "</g>\r\n",
       "<!-- 5 -->\r\n",
       "<g id=\"node6\" class=\"node\"><title>5</title>\r\n",
       "<path fill=\"#e99559\" stroke=\"black\" d=\"M380,-782C380,-782 192,-782 192,-782 186,-782 180,-776 180,-770 180,-770 180,-711 180,-711 180,-705 186,-699 192,-699 192,-699 380,-699 380,-699 386,-699 392,-705 392,-711 392,-711 392,-770 392,-770 392,-776 386,-782 380,-782\"/>\r\n",
       "<text text-anchor=\"start\" x=\"188\" y=\"-766.8\" font-family=\"Helvetica,sans-Serif\" font-size=\"14.00\">average_montly_hours ≤ 236.5</text>\r\n",
       "<text text-anchor=\"start\" x=\"248.5\" y=\"-751.8\" font-family=\"Helvetica,sans-Serif\" font-size=\"14.00\">gini = 0.238</text>\r\n",
       "<text text-anchor=\"start\" x=\"238.5\" y=\"-736.8\" font-family=\"Helvetica,sans-Serif\" font-size=\"14.00\">samples = 212</text>\r\n",
       "<text text-anchor=\"start\" x=\"204.5\" y=\"-721.8\" font-family=\"Helvetica,sans-Serif\" font-size=\"14.00\">value = [132.159, 21.207]</text>\r\n",
       "<text text-anchor=\"start\" x=\"242\" y=\"-706.8\" font-family=\"Helvetica,sans-Serif\" font-size=\"14.00\">class = no left</text>\r\n",
       "</g>\r\n",
       "<!-- 3&#45;&gt;5 -->\r\n",
       "<g id=\"edge5\" class=\"edge\"><title>3&#45;&gt;5</title>\r\n",
       "<path fill=\"none\" stroke=\"black\" d=\"M286,-817.907C286,-809.649 286,-800.864 286,-792.302\"/>\r\n",
       "<polygon fill=\"black\" stroke=\"black\" points=\"289.5,-792.021 286,-782.021 282.5,-792.021 289.5,-792.021\"/>\r\n",
       "</g>\r\n",
       "<!-- 6 -->\r\n",
       "<g id=\"node7\" class=\"node\"><title>6</title>\r\n",
       "<path fill=\"#e68844\" stroke=\"black\" d=\"M175,-655.5C175,-655.5 29,-655.5 29,-655.5 23,-655.5 17,-649.5 17,-643.5 17,-643.5 17,-599.5 17,-599.5 17,-593.5 23,-587.5 29,-587.5 29,-587.5 175,-587.5 175,-587.5 181,-587.5 187,-593.5 187,-599.5 187,-599.5 187,-643.5 187,-643.5 187,-649.5 181,-655.5 175,-655.5\"/>\r\n",
       "<text text-anchor=\"start\" x=\"64.5\" y=\"-640.3\" font-family=\"Helvetica,sans-Serif\" font-size=\"14.00\">gini = 0.103</text>\r\n",
       "<text text-anchor=\"start\" x=\"54.5\" y=\"-625.3\" font-family=\"Helvetica,sans-Serif\" font-size=\"14.00\">samples = 172</text>\r\n",
       "<text text-anchor=\"start\" x=\"25\" y=\"-610.3\" font-family=\"Helvetica,sans-Serif\" font-size=\"14.00\">value = [110.569, 6.362]</text>\r\n",
       "<text text-anchor=\"start\" x=\"58\" y=\"-595.3\" font-family=\"Helvetica,sans-Serif\" font-size=\"14.00\">class = no left</text>\r\n",
       "</g>\r\n",
       "<!-- 5&#45;&gt;6 -->\r\n",
       "<g id=\"edge6\" class=\"edge\"><title>5&#45;&gt;6</title>\r\n",
       "<path fill=\"none\" stroke=\"black\" d=\"M222.162,-698.907C202.9,-686.659 181.815,-673.252 162.759,-661.135\"/>\r\n",
       "<polygon fill=\"black\" stroke=\"black\" points=\"164.477,-658.079 154.16,-655.667 160.72,-663.986 164.477,-658.079\"/>\r\n",
       "</g>\r\n",
       "<!-- 7 -->\r\n",
       "<g id=\"node8\" class=\"node\"><title>7</title>\r\n",
       "<path fill=\"#f7d8c1\" stroke=\"black\" d=\"M355,-663C355,-663 217,-663 217,-663 211,-663 205,-657 205,-651 205,-651 205,-592 205,-592 205,-586 211,-580 217,-580 217,-580 355,-580 355,-580 361,-580 367,-586 367,-592 367,-592 367,-651 367,-651 367,-657 361,-663 355,-663\"/>\r\n",
       "<text text-anchor=\"start\" x=\"220\" y=\"-647.8\" font-family=\"Helvetica,sans-Serif\" font-size=\"14.00\">salary_medium ≤ 0.5</text>\r\n",
       "<text text-anchor=\"start\" x=\"248.5\" y=\"-632.8\" font-family=\"Helvetica,sans-Serif\" font-size=\"14.00\">gini = 0.483</text>\r\n",
       "<text text-anchor=\"start\" x=\"242.5\" y=\"-617.8\" font-family=\"Helvetica,sans-Serif\" font-size=\"14.00\">samples = 40</text>\r\n",
       "<text text-anchor=\"start\" x=\"213\" y=\"-602.8\" font-family=\"Helvetica,sans-Serif\" font-size=\"14.00\">value = [21.59, 14.845]</text>\r\n",
       "<text text-anchor=\"start\" x=\"242\" y=\"-587.8\" font-family=\"Helvetica,sans-Serif\" font-size=\"14.00\">class = no left</text>\r\n",
       "</g>\r\n",
       "<!-- 5&#45;&gt;7 -->\r\n",
       "<g id=\"edge7\" class=\"edge\"><title>5&#45;&gt;7</title>\r\n",
       "<path fill=\"none\" stroke=\"black\" d=\"M286,-698.907C286,-690.649 286,-681.864 286,-673.302\"/>\r\n",
       "<polygon fill=\"black\" stroke=\"black\" points=\"289.5,-673.021 286,-663.021 282.5,-673.021 289.5,-673.021\"/>\r\n",
       "</g>\r\n",
       "<!-- 8 -->\r\n",
       "<g id=\"node9\" class=\"node\"><title>8</title>\r\n",
       "<path fill=\"#e58139\" stroke=\"black\" d=\"M175,-536.5C175,-536.5 53,-536.5 53,-536.5 47,-536.5 41,-530.5 41,-524.5 41,-524.5 41,-480.5 41,-480.5 41,-474.5 47,-468.5 53,-468.5 53,-468.5 175,-468.5 175,-468.5 181,-468.5 187,-474.5 187,-480.5 187,-480.5 187,-524.5 187,-524.5 187,-530.5 181,-536.5 175,-536.5\"/>\r\n",
       "<text text-anchor=\"start\" x=\"85\" y=\"-521.3\" font-family=\"Helvetica,sans-Serif\" font-size=\"14.00\">gini = 0.0</text>\r\n",
       "<text text-anchor=\"start\" x=\"70.5\" y=\"-506.3\" font-family=\"Helvetica,sans-Serif\" font-size=\"14.00\">samples = 20</text>\r\n",
       "<text text-anchor=\"start\" x=\"49\" y=\"-491.3\" font-family=\"Helvetica,sans-Serif\" font-size=\"14.00\">value = [13.085, 0.0]</text>\r\n",
       "<text text-anchor=\"start\" x=\"70\" y=\"-476.3\" font-family=\"Helvetica,sans-Serif\" font-size=\"14.00\">class = no left</text>\r\n",
       "</g>\r\n",
       "<!-- 7&#45;&gt;8 -->\r\n",
       "<g id=\"edge8\" class=\"edge\"><title>7&#45;&gt;8</title>\r\n",
       "<path fill=\"none\" stroke=\"black\" d=\"M226.325,-579.907C208.482,-567.769 188.964,-554.493 171.278,-542.462\"/>\r\n",
       "<polygon fill=\"black\" stroke=\"black\" points=\"172.995,-539.397 162.758,-536.667 169.058,-545.185 172.995,-539.397\"/>\r\n",
       "</g>\r\n",
       "<!-- 9 -->\r\n",
       "<g id=\"node10\" class=\"node\"><title>9</title>\r\n",
       "<path fill=\"#aad5f4\" stroke=\"black\" d=\"M355,-536.5C355,-536.5 217,-536.5 217,-536.5 211,-536.5 205,-530.5 205,-524.5 205,-524.5 205,-480.5 205,-480.5 205,-474.5 211,-468.5 217,-468.5 217,-468.5 355,-468.5 355,-468.5 361,-468.5 367,-474.5 367,-480.5 367,-480.5 367,-524.5 367,-524.5 367,-530.5 361,-536.5 355,-536.5\"/>\r\n",
       "<text text-anchor=\"start\" x=\"248.5\" y=\"-521.3\" font-family=\"Helvetica,sans-Serif\" font-size=\"14.00\">gini = 0.463</text>\r\n",
       "<text text-anchor=\"start\" x=\"242.5\" y=\"-506.3\" font-family=\"Helvetica,sans-Serif\" font-size=\"14.00\">samples = 20</text>\r\n",
       "<text text-anchor=\"start\" x=\"213\" y=\"-491.3\" font-family=\"Helvetica,sans-Serif\" font-size=\"14.00\">value = [8.505, 14.845]</text>\r\n",
       "<text text-anchor=\"start\" x=\"251.5\" y=\"-476.3\" font-family=\"Helvetica,sans-Serif\" font-size=\"14.00\">class = left</text>\r\n",
       "</g>\r\n",
       "<!-- 7&#45;&gt;9 -->\r\n",
       "<g id=\"edge9\" class=\"edge\"><title>7&#45;&gt;9</title>\r\n",
       "<path fill=\"none\" stroke=\"black\" d=\"M286,-579.907C286,-569.204 286,-557.615 286,-546.776\"/>\r\n",
       "<polygon fill=\"black\" stroke=\"black\" points=\"289.5,-546.667 286,-536.667 282.5,-546.667 289.5,-546.667\"/>\r\n",
       "</g>\r\n",
       "<!-- 11 -->\r\n",
       "<g id=\"node12\" class=\"node\"><title>11</title>\r\n",
       "<path fill=\"#e58139\" stroke=\"black\" d=\"M550,-774.5C550,-774.5 428,-774.5 428,-774.5 422,-774.5 416,-768.5 416,-762.5 416,-762.5 416,-718.5 416,-718.5 416,-712.5 422,-706.5 428,-706.5 428,-706.5 550,-706.5 550,-706.5 556,-706.5 562,-712.5 562,-718.5 562,-718.5 562,-762.5 562,-762.5 562,-768.5 556,-774.5 550,-774.5\"/>\r\n",
       "<text text-anchor=\"start\" x=\"460\" y=\"-759.3\" font-family=\"Helvetica,sans-Serif\" font-size=\"14.00\">gini = 0.0</text>\r\n",
       "<text text-anchor=\"start\" x=\"445.5\" y=\"-744.3\" font-family=\"Helvetica,sans-Serif\" font-size=\"14.00\">samples = 79</text>\r\n",
       "<text text-anchor=\"start\" x=\"424\" y=\"-729.3\" font-family=\"Helvetica,sans-Serif\" font-size=\"14.00\">value = [51.686, 0.0]</text>\r\n",
       "<text text-anchor=\"start\" x=\"445\" y=\"-714.3\" font-family=\"Helvetica,sans-Serif\" font-size=\"14.00\">class = no left</text>\r\n",
       "</g>\r\n",
       "<!-- 10&#45;&gt;11 -->\r\n",
       "<g id=\"edge11\" class=\"edge\"><title>10&#45;&gt;11</title>\r\n",
       "<path fill=\"none\" stroke=\"black\" d=\"M556.265,-817.907C546.162,-806.432 535.164,-793.938 525.043,-782.442\"/>\r\n",
       "<polygon fill=\"black\" stroke=\"black\" points=\"527.433,-779.86 518.198,-774.667 522.179,-784.486 527.433,-779.86\"/>\r\n",
       "</g>\r\n",
       "<!-- 12 -->\r\n",
       "<g id=\"node13\" class=\"node\"><title>12</title>\r\n",
       "<path fill=\"#4aa5e7\" stroke=\"black\" d=\"M763.5,-782C763.5,-782 592.5,-782 592.5,-782 586.5,-782 580.5,-776 580.5,-770 580.5,-770 580.5,-711 580.5,-711 580.5,-705 586.5,-699 592.5,-699 592.5,-699 763.5,-699 763.5,-699 769.5,-699 775.5,-705 775.5,-711 775.5,-711 775.5,-770 775.5,-770 775.5,-776 769.5,-782 763.5,-782\"/>\r\n",
       "<text text-anchor=\"start\" x=\"605.5\" y=\"-766.8\" font-family=\"Helvetica,sans-Serif\" font-size=\"14.00\">last_evaluation ≤ 0.445</text>\r\n",
       "<text text-anchor=\"start\" x=\"640.5\" y=\"-751.8\" font-family=\"Helvetica,sans-Serif\" font-size=\"14.00\">gini = 0.144</text>\r\n",
       "<text text-anchor=\"start\" x=\"626.5\" y=\"-736.8\" font-family=\"Helvetica,sans-Serif\" font-size=\"14.00\">samples = 2418</text>\r\n",
       "<text text-anchor=\"start\" x=\"588.5\" y=\"-721.8\" font-family=\"Helvetica,sans-Serif\" font-size=\"14.00\">value = [340.866, 4022.995]</text>\r\n",
       "<text text-anchor=\"start\" x=\"643.5\" y=\"-706.8\" font-family=\"Helvetica,sans-Serif\" font-size=\"14.00\">class = left</text>\r\n",
       "</g>\r\n",
       "<!-- 10&#45;&gt;12 -->\r\n",
       "<g id=\"edge12\" class=\"edge\"><title>10&#45;&gt;12</title>\r\n",
       "<path fill=\"none\" stroke=\"black\" d=\"M621.837,-817.907C628.374,-809.014 635.361,-799.509 642.107,-790.331\"/>\r\n",
       "<polygon fill=\"black\" stroke=\"black\" points=\"645.113,-792.151 648.215,-782.021 639.473,-788.005 645.113,-792.151\"/>\r\n",
       "</g>\r\n",
       "<!-- 13 -->\r\n",
       "<g id=\"node14\" class=\"node\"><title>13</title>\r\n",
       "<path fill=\"#e58139\" stroke=\"black\" d=\"M553,-655.5C553,-655.5 431,-655.5 431,-655.5 425,-655.5 419,-649.5 419,-643.5 419,-643.5 419,-599.5 419,-599.5 419,-593.5 425,-587.5 431,-587.5 431,-587.5 553,-587.5 553,-587.5 559,-587.5 565,-593.5 565,-599.5 565,-599.5 565,-643.5 565,-643.5 565,-649.5 559,-655.5 553,-655.5\"/>\r\n",
       "<text text-anchor=\"start\" x=\"463\" y=\"-640.3\" font-family=\"Helvetica,sans-Serif\" font-size=\"14.00\">gini = 0.0</text>\r\n",
       "<text text-anchor=\"start\" x=\"448.5\" y=\"-625.3\" font-family=\"Helvetica,sans-Serif\" font-size=\"14.00\">samples = 60</text>\r\n",
       "<text text-anchor=\"start\" x=\"427\" y=\"-610.3\" font-family=\"Helvetica,sans-Serif\" font-size=\"14.00\">value = [39.255, 0.0]</text>\r\n",
       "<text text-anchor=\"start\" x=\"448\" y=\"-595.3\" font-family=\"Helvetica,sans-Serif\" font-size=\"14.00\">class = no left</text>\r\n",
       "</g>\r\n",
       "<!-- 12&#45;&gt;13 -->\r\n",
       "<g id=\"edge13\" class=\"edge\"><title>12&#45;&gt;13</title>\r\n",
       "<path fill=\"none\" stroke=\"black\" d=\"M613.468,-698.907C593.997,-686.659 572.682,-673.252 553.419,-661.135\"/>\r\n",
       "<polygon fill=\"black\" stroke=\"black\" points=\"555.055,-658.029 544.727,-655.667 551.328,-663.954 555.055,-658.029\"/>\r\n",
       "</g>\r\n",
       "<!-- 14 -->\r\n",
       "<g id=\"node15\" class=\"node\"><title>14</title>\r\n",
       "<path fill=\"#48a4e7\" stroke=\"black\" d=\"M766.5,-663C766.5,-663 595.5,-663 595.5,-663 589.5,-663 583.5,-657 583.5,-651 583.5,-651 583.5,-592 583.5,-592 583.5,-586 589.5,-580 595.5,-580 595.5,-580 766.5,-580 766.5,-580 772.5,-580 778.5,-586 778.5,-592 778.5,-592 778.5,-651 778.5,-651 778.5,-657 772.5,-663 766.5,-663\"/>\r\n",
       "<text text-anchor=\"start\" x=\"613\" y=\"-647.8\" font-family=\"Helvetica,sans-Serif\" font-size=\"14.00\">number_project ≤ 2.5</text>\r\n",
       "<text text-anchor=\"start\" x=\"647.5\" y=\"-632.8\" font-family=\"Helvetica,sans-Serif\" font-size=\"14.00\">gini = 0.13</text>\r\n",
       "<text text-anchor=\"start\" x=\"629.5\" y=\"-617.8\" font-family=\"Helvetica,sans-Serif\" font-size=\"14.00\">samples = 2358</text>\r\n",
       "<text text-anchor=\"start\" x=\"591.5\" y=\"-602.8\" font-family=\"Helvetica,sans-Serif\" font-size=\"14.00\">value = [301.611, 4022.995]</text>\r\n",
       "<text text-anchor=\"start\" x=\"646.5\" y=\"-587.8\" font-family=\"Helvetica,sans-Serif\" font-size=\"14.00\">class = left</text>\r\n",
       "</g>\r\n",
       "<!-- 12&#45;&gt;14 -->\r\n",
       "<g id=\"edge14\" class=\"edge\"><title>12&#45;&gt;14</title>\r\n",
       "<path fill=\"none\" stroke=\"black\" d=\"M679.041,-698.907C679.255,-690.558 679.483,-681.671 679.705,-673.02\"/>\r\n",
       "<polygon fill=\"black\" stroke=\"black\" points=\"683.203,-673.107 679.961,-663.021 676.206,-672.928 683.203,-673.107\"/>\r\n",
       "</g>\r\n",
       "<!-- 15 -->\r\n",
       "<g id=\"node16\" class=\"node\"><title>15</title>\r\n",
       "<path fill=\"#3c9fe5\" stroke=\"black\" d=\"M560.5,-544C560.5,-544 397.5,-544 397.5,-544 391.5,-544 385.5,-538 385.5,-532 385.5,-532 385.5,-473 385.5,-473 385.5,-467 391.5,-461 397.5,-461 397.5,-461 560.5,-461 560.5,-461 566.5,-461 572.5,-467 572.5,-473 572.5,-473 572.5,-532 572.5,-532 572.5,-538 566.5,-544 560.5,-544\"/>\r\n",
       "<text text-anchor=\"start\" x=\"406.5\" y=\"-528.8\" font-family=\"Helvetica,sans-Serif\" font-size=\"14.00\">last_evaluation ≤ 0.575</text>\r\n",
       "<text text-anchor=\"start\" x=\"441.5\" y=\"-513.8\" font-family=\"Helvetica,sans-Serif\" font-size=\"14.00\">gini = 0.032</text>\r\n",
       "<text text-anchor=\"start\" x=\"427.5\" y=\"-498.8\" font-family=\"Helvetica,sans-Serif\" font-size=\"14.00\">samples = 1286</text>\r\n",
       "<text text-anchor=\"start\" x=\"393.5\" y=\"-483.8\" font-family=\"Helvetica,sans-Serif\" font-size=\"14.00\">value = [43.181, 2587.271]</text>\r\n",
       "<text text-anchor=\"start\" x=\"444.5\" y=\"-468.8\" font-family=\"Helvetica,sans-Serif\" font-size=\"14.00\">class = left</text>\r\n",
       "</g>\r\n",
       "<!-- 14&#45;&gt;15 -->\r\n",
       "<g id=\"edge15\" class=\"edge\"><title>14&#45;&gt;15</title>\r\n",
       "<path fill=\"none\" stroke=\"black\" d=\"M610.917,-579.907C593.839,-570.016 575.455,-559.368 557.994,-549.254\"/>\r\n",
       "<polygon fill=\"black\" stroke=\"black\" points=\"559.367,-546.004 548.959,-544.021 555.858,-552.062 559.367,-546.004\"/>\r\n",
       "</g>\r\n",
       "<!-- 20 -->\r\n",
       "<g id=\"node21\" class=\"node\"><title>20</title>\r\n",
       "<path fill=\"#5dafea\" stroke=\"black\" d=\"M765.5,-544C765.5,-544 602.5,-544 602.5,-544 596.5,-544 590.5,-538 590.5,-532 590.5,-532 590.5,-473 590.5,-473 590.5,-467 596.5,-461 602.5,-461 602.5,-461 765.5,-461 765.5,-461 771.5,-461 777.5,-467 777.5,-473 777.5,-473 777.5,-532 777.5,-532 777.5,-538 771.5,-544 765.5,-544\"/>\r\n",
       "<text text-anchor=\"start\" x=\"603.5\" y=\"-528.8\" font-family=\"Helvetica,sans-Serif\" font-size=\"14.00\">satisfaction_level ≤ 0.115</text>\r\n",
       "<text text-anchor=\"start\" x=\"646.5\" y=\"-513.8\" font-family=\"Helvetica,sans-Serif\" font-size=\"14.00\">gini = 0.259</text>\r\n",
       "<text text-anchor=\"start\" x=\"632.5\" y=\"-498.8\" font-family=\"Helvetica,sans-Serif\" font-size=\"14.00\">samples = 1072</text>\r\n",
       "<text text-anchor=\"start\" x=\"598.5\" y=\"-483.8\" font-family=\"Helvetica,sans-Serif\" font-size=\"14.00\">value = [258.43, 1435.723]</text>\r\n",
       "<text text-anchor=\"start\" x=\"649.5\" y=\"-468.8\" font-family=\"Helvetica,sans-Serif\" font-size=\"14.00\">class = left</text>\r\n",
       "</g>\r\n",
       "<!-- 14&#45;&gt;20 -->\r\n",
       "<g id=\"edge20\" class=\"edge\"><title>14&#45;&gt;20</title>\r\n",
       "<path fill=\"none\" stroke=\"black\" d=\"M682.041,-579.907C682.255,-571.558 682.483,-562.671 682.705,-554.02\"/>\r\n",
       "<polygon fill=\"black\" stroke=\"black\" points=\"686.203,-554.107 682.961,-544.021 679.206,-553.928 686.203,-554.107\"/>\r\n",
       "</g>\r\n",
       "<!-- 16 -->\r\n",
       "<g id=\"node17\" class=\"node\"><title>16</title>\r\n",
       "<path fill=\"#3a9de5\" stroke=\"black\" d=\"M363.5,-417.5C363.5,-417.5 200.5,-417.5 200.5,-417.5 194.5,-417.5 188.5,-411.5 188.5,-405.5 188.5,-405.5 188.5,-361.5 188.5,-361.5 188.5,-355.5 194.5,-349.5 200.5,-349.5 200.5,-349.5 363.5,-349.5 363.5,-349.5 369.5,-349.5 375.5,-355.5 375.5,-361.5 375.5,-361.5 375.5,-405.5 375.5,-405.5 375.5,-411.5 369.5,-417.5 363.5,-417.5\"/>\r\n",
       "<text text-anchor=\"start\" x=\"244.5\" y=\"-402.3\" font-family=\"Helvetica,sans-Serif\" font-size=\"14.00\">gini = 0.008</text>\r\n",
       "<text text-anchor=\"start\" x=\"230.5\" y=\"-387.3\" font-family=\"Helvetica,sans-Serif\" font-size=\"14.00\">samples = 1231</text>\r\n",
       "<text text-anchor=\"start\" x=\"196.5\" y=\"-372.3\" font-family=\"Helvetica,sans-Serif\" font-size=\"14.00\">value = [10.468, 2576.668]</text>\r\n",
       "<text text-anchor=\"start\" x=\"247.5\" y=\"-357.3\" font-family=\"Helvetica,sans-Serif\" font-size=\"14.00\">class = left</text>\r\n",
       "</g>\r\n",
       "<!-- 15&#45;&gt;16 -->\r\n",
       "<g id=\"edge16\" class=\"edge\"><title>15&#45;&gt;16</title>\r\n",
       "<path fill=\"none\" stroke=\"black\" d=\"M410.652,-460.907C389.843,-448.549 367.047,-435.01 346.501,-422.807\"/>\r\n",
       "<polygon fill=\"black\" stroke=\"black\" points=\"348.23,-419.764 337.845,-417.667 344.656,-425.783 348.23,-419.764\"/>\r\n",
       "</g>\r\n",
       "<!-- 17 -->\r\n",
       "<g id=\"node18\" class=\"node\"><title>17</title>\r\n",
       "<path fill=\"#edaa79\" stroke=\"black\" d=\"M552,-425C552,-425 406,-425 406,-425 400,-425 394,-419 394,-413 394,-413 394,-354 394,-354 394,-348 400,-342 406,-342 406,-342 552,-342 552,-342 558,-342 564,-348 564,-354 564,-354 564,-413 564,-413 564,-419 558,-425 552,-425\"/>\r\n",
       "<text text-anchor=\"start\" x=\"415\" y=\"-409.8\" font-family=\"Helvetica,sans-Serif\" font-size=\"14.00\">dept_technical ≤ 0.5</text>\r\n",
       "<text text-anchor=\"start\" x=\"445.5\" y=\"-394.8\" font-family=\"Helvetica,sans-Serif\" font-size=\"14.00\">gini = 0.37</text>\r\n",
       "<text text-anchor=\"start\" x=\"435.5\" y=\"-379.8\" font-family=\"Helvetica,sans-Serif\" font-size=\"14.00\">samples = 55</text>\r\n",
       "<text text-anchor=\"start\" x=\"402\" y=\"-364.8\" font-family=\"Helvetica,sans-Serif\" font-size=\"14.00\">value = [32.713, 10.604]</text>\r\n",
       "<text text-anchor=\"start\" x=\"435\" y=\"-349.8\" font-family=\"Helvetica,sans-Serif\" font-size=\"14.00\">class = no left</text>\r\n",
       "</g>\r\n",
       "<!-- 15&#45;&gt;17 -->\r\n",
       "<g id=\"edge17\" class=\"edge\"><title>15&#45;&gt;17</title>\r\n",
       "<path fill=\"none\" stroke=\"black\" d=\"M479,-460.907C479,-452.649 479,-443.864 479,-435.302\"/>\r\n",
       "<polygon fill=\"black\" stroke=\"black\" points=\"482.5,-435.021 479,-425.021 475.5,-435.021 482.5,-435.021\"/>\r\n",
       "</g>\r\n",
       "<!-- 18 -->\r\n",
       "<g id=\"node19\" class=\"node\"><title>18</title>\r\n",
       "<path fill=\"#e78a48\" stroke=\"black\" d=\"M394,-298.5C394,-298.5 256,-298.5 256,-298.5 250,-298.5 244,-292.5 244,-286.5 244,-286.5 244,-242.5 244,-242.5 244,-236.5 250,-230.5 256,-230.5 256,-230.5 394,-230.5 394,-230.5 400,-230.5 406,-236.5 406,-242.5 406,-242.5 406,-286.5 406,-286.5 406,-292.5 400,-298.5 394,-298.5\"/>\r\n",
       "<text text-anchor=\"start\" x=\"291.5\" y=\"-283.3\" font-family=\"Helvetica,sans-Serif\" font-size=\"14.00\">gini = 0.13</text>\r\n",
       "<text text-anchor=\"start\" x=\"281.5\" y=\"-268.3\" font-family=\"Helvetica,sans-Serif\" font-size=\"14.00\">samples = 44</text>\r\n",
       "<text text-anchor=\"start\" x=\"252\" y=\"-253.3\" font-family=\"Helvetica,sans-Serif\" font-size=\"14.00\">value = [28.133, 2.121]</text>\r\n",
       "<text text-anchor=\"start\" x=\"281\" y=\"-238.3\" font-family=\"Helvetica,sans-Serif\" font-size=\"14.00\">class = no left</text>\r\n",
       "</g>\r\n",
       "<!-- 17&#45;&gt;18 -->\r\n",
       "<g id=\"edge18\" class=\"edge\"><title>17&#45;&gt;18</title>\r\n",
       "<path fill=\"none\" stroke=\"black\" d=\"M425.57,-341.907C409.739,-329.88 392.437,-316.735 376.716,-304.791\"/>\r\n",
       "<polygon fill=\"black\" stroke=\"black\" points=\"378.736,-301.93 368.656,-298.667 374.501,-307.503 378.736,-301.93\"/>\r\n",
       "</g>\r\n",
       "<!-- 19 -->\r\n",
       "<g id=\"node20\" class=\"node\"><title>19</title>\r\n",
       "<path fill=\"#a4d2f3\" stroke=\"black\" d=\"M558,-298.5C558,-298.5 436,-298.5 436,-298.5 430,-298.5 424,-292.5 424,-286.5 424,-286.5 424,-242.5 424,-242.5 424,-236.5 430,-230.5 436,-230.5 436,-230.5 558,-230.5 558,-230.5 564,-230.5 570,-236.5 570,-242.5 570,-242.5 570,-286.5 570,-286.5 570,-292.5 564,-298.5 558,-298.5\"/>\r\n",
       "<text text-anchor=\"start\" x=\"459.5\" y=\"-283.3\" font-family=\"Helvetica,sans-Serif\" font-size=\"14.00\">gini = 0.455</text>\r\n",
       "<text text-anchor=\"start\" x=\"453.5\" y=\"-268.3\" font-family=\"Helvetica,sans-Serif\" font-size=\"14.00\">samples = 11</text>\r\n",
       "<text text-anchor=\"start\" x=\"432\" y=\"-253.3\" font-family=\"Helvetica,sans-Serif\" font-size=\"14.00\">value = [4.58, 8.483]</text>\r\n",
       "<text text-anchor=\"start\" x=\"462.5\" y=\"-238.3\" font-family=\"Helvetica,sans-Serif\" font-size=\"14.00\">class = left</text>\r\n",
       "</g>\r\n",
       "<!-- 17&#45;&gt;19 -->\r\n",
       "<g id=\"edge19\" class=\"edge\"><title>17&#45;&gt;19</title>\r\n",
       "<path fill=\"none\" stroke=\"black\" d=\"M485.245,-341.907C486.892,-331.204 488.675,-319.615 490.342,-308.776\"/>\r\n",
       "<polygon fill=\"black\" stroke=\"black\" points=\"493.836,-309.083 491.897,-298.667 486.917,-308.018 493.836,-309.083\"/>\r\n",
       "</g>\r\n",
       "<!-- 21 -->\r\n",
       "<g id=\"node22\" class=\"node\"><title>21</title>\r\n",
       "<path fill=\"#399de5\" stroke=\"black\" d=\"M732,-417.5C732,-417.5 594,-417.5 594,-417.5 588,-417.5 582,-411.5 582,-405.5 582,-405.5 582,-361.5 582,-361.5 582,-355.5 588,-349.5 594,-349.5 594,-349.5 732,-349.5 732,-349.5 738,-349.5 744,-355.5 744,-361.5 744,-361.5 744,-405.5 744,-405.5 744,-411.5 738,-417.5 732,-417.5\"/>\r\n",
       "<text text-anchor=\"start\" x=\"634\" y=\"-402.3\" font-family=\"Helvetica,sans-Serif\" font-size=\"14.00\">gini = 0.0</text>\r\n",
       "<text text-anchor=\"start\" x=\"615.5\" y=\"-387.3\" font-family=\"Helvetica,sans-Serif\" font-size=\"14.00\">samples = 627</text>\r\n",
       "<text text-anchor=\"start\" x=\"590\" y=\"-372.3\" font-family=\"Helvetica,sans-Serif\" font-size=\"14.00\">value = [0.0, 1329.688]</text>\r\n",
       "<text text-anchor=\"start\" x=\"628.5\" y=\"-357.3\" font-family=\"Helvetica,sans-Serif\" font-size=\"14.00\">class = left</text>\r\n",
       "</g>\r\n",
       "<!-- 20&#45;&gt;21 -->\r\n",
       "<g id=\"edge21\" class=\"edge\"><title>20&#45;&gt;21</title>\r\n",
       "<path fill=\"none\" stroke=\"black\" d=\"M676.714,-460.907C674.793,-450.204 672.713,-438.615 670.768,-427.776\"/>\r\n",
       "<polygon fill=\"black\" stroke=\"black\" points=\"674.165,-426.891 668.953,-417.667 667.275,-428.128 674.165,-426.891\"/>\r\n",
       "</g>\r\n",
       "<!-- 22 -->\r\n",
       "<g id=\"node23\" class=\"node\"><title>22</title>\r\n",
       "<path fill=\"#f0b58a\" stroke=\"black\" d=\"M962,-425C962,-425 774,-425 774,-425 768,-425 762,-419 762,-413 762,-413 762,-354 762,-354 762,-348 768,-342 774,-342 774,-342 962,-342 962,-342 968,-342 974,-348 974,-354 974,-354 974,-413 974,-413 974,-419 968,-425 962,-425\"/>\r\n",
       "<text text-anchor=\"start\" x=\"770\" y=\"-409.8\" font-family=\"Helvetica,sans-Serif\" font-size=\"14.00\">average_montly_hours ≤ 290.5</text>\r\n",
       "<text text-anchor=\"start\" x=\"830.5\" y=\"-394.8\" font-family=\"Helvetica,sans-Serif\" font-size=\"14.00\">gini = 0.413</text>\r\n",
       "<text text-anchor=\"start\" x=\"820.5\" y=\"-379.8\" font-family=\"Helvetica,sans-Serif\" font-size=\"14.00\">samples = 445</text>\r\n",
       "<text text-anchor=\"start\" x=\"786.5\" y=\"-364.8\" font-family=\"Helvetica,sans-Serif\" font-size=\"14.00\">value = [258.43, 106.036]</text>\r\n",
       "<text text-anchor=\"start\" x=\"824\" y=\"-349.8\" font-family=\"Helvetica,sans-Serif\" font-size=\"14.00\">class = no left</text>\r\n",
       "</g>\r\n",
       "<!-- 20&#45;&gt;22 -->\r\n",
       "<g id=\"edge22\" class=\"edge\"><title>20&#45;&gt;22</title>\r\n",
       "<path fill=\"none\" stroke=\"black\" d=\"M747.838,-460.907C763.252,-451.106 779.833,-440.563 795.607,-430.533\"/>\r\n",
       "<polygon fill=\"black\" stroke=\"black\" points=\"797.714,-433.34 804.275,-425.021 793.958,-427.433 797.714,-433.34\"/>\r\n",
       "</g>\r\n",
       "<!-- 23 -->\r\n",
       "<g id=\"node24\" class=\"node\"><title>23</title>\r\n",
       "<path fill=\"#eead7f\" stroke=\"black\" d=\"M777,-306C777,-306 631,-306 631,-306 625,-306 619,-300 619,-294 619,-294 619,-235 619,-235 619,-229 625,-223 631,-223 631,-223 777,-223 777,-223 783,-223 789,-229 789,-235 789,-235 789,-294 789,-294 789,-300 783,-306 777,-306\"/>\r\n",
       "<text text-anchor=\"start\" x=\"631.5\" y=\"-290.8\" font-family=\"Helvetica,sans-Serif\" font-size=\"14.00\">last_evaluation ≤ 0.985</text>\r\n",
       "<text text-anchor=\"start\" x=\"666.5\" y=\"-275.8\" font-family=\"Helvetica,sans-Serif\" font-size=\"14.00\">gini = 0.386</text>\r\n",
       "<text text-anchor=\"start\" x=\"656.5\" y=\"-260.8\" font-family=\"Helvetica,sans-Serif\" font-size=\"14.00\">samples = 438</text>\r\n",
       "<text text-anchor=\"start\" x=\"627\" y=\"-245.8\" font-family=\"Helvetica,sans-Serif\" font-size=\"14.00\">value = [258.43, 91.191]</text>\r\n",
       "<text text-anchor=\"start\" x=\"660\" y=\"-230.8\" font-family=\"Helvetica,sans-Serif\" font-size=\"14.00\">class = no left</text>\r\n",
       "</g>\r\n",
       "<!-- 22&#45;&gt;23 -->\r\n",
       "<g id=\"edge23\" class=\"edge\"><title>22&#45;&gt;23</title>\r\n",
       "<path fill=\"none\" stroke=\"black\" d=\"M811.101,-341.907C797.617,-332.288 783.131,-321.953 769.306,-312.09\"/>\r\n",
       "<polygon fill=\"black\" stroke=\"black\" points=\"770.972,-308.979 760.798,-306.021 766.906,-314.678 770.972,-308.979\"/>\r\n",
       "</g>\r\n",
       "<!-- 28 -->\r\n",
       "<g id=\"node29\" class=\"node\"><title>28</title>\r\n",
       "<path fill=\"#399de5\" stroke=\"black\" d=\"M941,-298.5C941,-298.5 819,-298.5 819,-298.5 813,-298.5 807,-292.5 807,-286.5 807,-286.5 807,-242.5 807,-242.5 807,-236.5 813,-230.5 819,-230.5 819,-230.5 941,-230.5 941,-230.5 947,-230.5 953,-236.5 953,-242.5 953,-242.5 953,-286.5 953,-286.5 953,-292.5 947,-298.5 941,-298.5\"/>\r\n",
       "<text text-anchor=\"start\" x=\"848.5\" y=\"-283.3\" font-family=\"Helvetica,sans-Serif\" font-size=\"14.00\">gini = &#45;0.0</text>\r\n",
       "<text text-anchor=\"start\" x=\"840.5\" y=\"-268.3\" font-family=\"Helvetica,sans-Serif\" font-size=\"14.00\">samples = 7</text>\r\n",
       "<text text-anchor=\"start\" x=\"815\" y=\"-253.3\" font-family=\"Helvetica,sans-Serif\" font-size=\"14.00\">value = [0.0, 14.845]</text>\r\n",
       "<text text-anchor=\"start\" x=\"845.5\" y=\"-238.3\" font-family=\"Helvetica,sans-Serif\" font-size=\"14.00\">class = left</text>\r\n",
       "</g>\r\n",
       "<!-- 22&#45;&gt;28 -->\r\n",
       "<g id=\"edge28\" class=\"edge\"><title>22&#45;&gt;28</title>\r\n",
       "<path fill=\"none\" stroke=\"black\" d=\"M872.163,-341.907C873.261,-331.204 874.45,-319.615 875.561,-308.776\"/>\r\n",
       "<polygon fill=\"black\" stroke=\"black\" points=\"879.06,-308.972 876.598,-298.667 872.096,-308.258 879.06,-308.972\"/>\r\n",
       "</g>\r\n",
       "<!-- 24 -->\r\n",
       "<g id=\"node25\" class=\"node\"><title>24</title>\r\n",
       "<path fill=\"#eca470\" stroke=\"black\" d=\"M686.5,-187C686.5,-187 531.5,-187 531.5,-187 525.5,-187 519.5,-181 519.5,-175 519.5,-175 519.5,-116 519.5,-116 519.5,-110 525.5,-104 531.5,-104 531.5,-104 686.5,-104 686.5,-104 692.5,-104 698.5,-110 698.5,-116 698.5,-116 698.5,-175 698.5,-175 698.5,-181 692.5,-187 686.5,-187\"/>\r\n",
       "<text text-anchor=\"start\" x=\"541\" y=\"-171.8\" font-family=\"Helvetica,sans-Serif\" font-size=\"14.00\">number_project ≤ 6.5</text>\r\n",
       "<text text-anchor=\"start\" x=\"571.5\" y=\"-156.8\" font-family=\"Helvetica,sans-Serif\" font-size=\"14.00\">gini = 0.339</text>\r\n",
       "<text text-anchor=\"start\" x=\"561.5\" y=\"-141.8\" font-family=\"Helvetica,sans-Serif\" font-size=\"14.00\">samples = 420</text>\r\n",
       "<text text-anchor=\"start\" x=\"527.5\" y=\"-126.8\" font-family=\"Helvetica,sans-Serif\" font-size=\"14.00\">value = [253.196, 69.984]</text>\r\n",
       "<text text-anchor=\"start\" x=\"565\" y=\"-111.8\" font-family=\"Helvetica,sans-Serif\" font-size=\"14.00\">class = no left</text>\r\n",
       "</g>\r\n",
       "<!-- 23&#45;&gt;24 -->\r\n",
       "<g id=\"edge24\" class=\"edge\"><title>23&#45;&gt;24</title>\r\n",
       "<path fill=\"none\" stroke=\"black\" d=\"M671.04,-222.907C663.745,-213.923 655.944,-204.315 648.421,-195.05\"/>\r\n",
       "<polygon fill=\"black\" stroke=\"black\" points=\"650.922,-192.578 641.902,-187.021 645.488,-196.99 650.922,-192.578\"/>\r\n",
       "</g>\r\n",
       "<!-- 27 -->\r\n",
       "<g id=\"node28\" class=\"node\"><title>27</title>\r\n",
       "<path fill=\"#6ab5eb\" stroke=\"black\" d=\"M867,-179.5C867,-179.5 729,-179.5 729,-179.5 723,-179.5 717,-173.5 717,-167.5 717,-167.5 717,-123.5 717,-123.5 717,-117.5 723,-111.5 729,-111.5 729,-111.5 867,-111.5 867,-111.5 873,-111.5 879,-117.5 879,-123.5 879,-123.5 879,-167.5 879,-167.5 879,-173.5 873,-179.5 867,-179.5\"/>\r\n",
       "<text text-anchor=\"start\" x=\"760.5\" y=\"-164.3\" font-family=\"Helvetica,sans-Serif\" font-size=\"14.00\">gini = 0.318</text>\r\n",
       "<text text-anchor=\"start\" x=\"754.5\" y=\"-149.3\" font-family=\"Helvetica,sans-Serif\" font-size=\"14.00\">samples = 18</text>\r\n",
       "<text text-anchor=\"start\" x=\"725\" y=\"-134.3\" font-family=\"Helvetica,sans-Serif\" font-size=\"14.00\">value = [5.234, 21.207]</text>\r\n",
       "<text text-anchor=\"start\" x=\"763.5\" y=\"-119.3\" font-family=\"Helvetica,sans-Serif\" font-size=\"14.00\">class = left</text>\r\n",
       "</g>\r\n",
       "<!-- 23&#45;&gt;27 -->\r\n",
       "<g id=\"edge27\" class=\"edge\"><title>23&#45;&gt;27</title>\r\n",
       "<path fill=\"none\" stroke=\"black\" d=\"M736.613,-222.907C745.744,-211.542 755.677,-199.178 764.84,-187.774\"/>\r\n",
       "<polygon fill=\"black\" stroke=\"black\" points=\"767.818,-189.655 771.353,-179.667 762.361,-185.271 767.818,-189.655\"/>\r\n",
       "</g>\r\n",
       "<!-- 25 -->\r\n",
       "<g id=\"node26\" class=\"node\"><title>25</title>\r\n",
       "<path fill=\"#eb9d66\" stroke=\"black\" d=\"M596.5,-68C596.5,-68 441.5,-68 441.5,-68 435.5,-68 429.5,-62 429.5,-56 429.5,-56 429.5,-12 429.5,-12 429.5,-6 435.5,-0 441.5,-0 441.5,-0 596.5,-0 596.5,-0 602.5,-0 608.5,-6 608.5,-12 608.5,-12 608.5,-56 608.5,-56 608.5,-62 602.5,-68 596.5,-68\"/>\r\n",
       "<text text-anchor=\"start\" x=\"481.5\" y=\"-52.8\" font-family=\"Helvetica,sans-Serif\" font-size=\"14.00\">gini = 0.301</text>\r\n",
       "<text text-anchor=\"start\" x=\"471.5\" y=\"-37.8\" font-family=\"Helvetica,sans-Serif\" font-size=\"14.00\">samples = 414</text>\r\n",
       "<text text-anchor=\"start\" x=\"437.5\" y=\"-22.8\" font-family=\"Helvetica,sans-Serif\" font-size=\"14.00\">value = [253.196, 57.259]</text>\r\n",
       "<text text-anchor=\"start\" x=\"475\" y=\"-7.8\" font-family=\"Helvetica,sans-Serif\" font-size=\"14.00\">class = no left</text>\r\n",
       "</g>\r\n",
       "<!-- 24&#45;&gt;25 -->\r\n",
       "<g id=\"edge25\" class=\"edge\"><title>24&#45;&gt;25</title>\r\n",
       "<path fill=\"none\" stroke=\"black\" d=\"M575.487,-103.726C568.066,-94.6966 560.197,-85.1235 552.766,-76.0816\"/>\r\n",
       "<polygon fill=\"black\" stroke=\"black\" points=\"555.423,-73.8026 546.37,-68.2996 550.015,-78.2474 555.423,-73.8026\"/>\r\n",
       "</g>\r\n",
       "<!-- 26 -->\r\n",
       "<g id=\"node27\" class=\"node\"><title>26</title>\r\n",
       "<path fill=\"#399de5\" stroke=\"black\" d=\"M761,-68C761,-68 639,-68 639,-68 633,-68 627,-62 627,-56 627,-56 627,-12 627,-12 627,-6 633,-0 639,-0 639,-0 761,-0 761,-0 767,-0 773,-6 773,-12 773,-12 773,-56 773,-56 773,-62 767,-68 761,-68\"/>\r\n",
       "<text text-anchor=\"start\" x=\"668.5\" y=\"-52.8\" font-family=\"Helvetica,sans-Serif\" font-size=\"14.00\">gini = &#45;0.0</text>\r\n",
       "<text text-anchor=\"start\" x=\"660.5\" y=\"-37.8\" font-family=\"Helvetica,sans-Serif\" font-size=\"14.00\">samples = 6</text>\r\n",
       "<text text-anchor=\"start\" x=\"635\" y=\"-22.8\" font-family=\"Helvetica,sans-Serif\" font-size=\"14.00\">value = [0.0, 12.724]</text>\r\n",
       "<text text-anchor=\"start\" x=\"665.5\" y=\"-7.8\" font-family=\"Helvetica,sans-Serif\" font-size=\"14.00\">class = left</text>\r\n",
       "</g>\r\n",
       "<!-- 24&#45;&gt;26 -->\r\n",
       "<g id=\"edge26\" class=\"edge\"><title>24&#45;&gt;26</title>\r\n",
       "<path fill=\"none\" stroke=\"black\" d=\"M642.885,-103.726C650.389,-94.6966 658.345,-85.1235 665.859,-76.0816\"/>\r\n",
       "<polygon fill=\"black\" stroke=\"black\" points=\"668.627,-78.2275 672.326,-68.2996 663.243,-73.7534 668.627,-78.2275\"/>\r\n",
       "</g>\r\n",
       "<!-- 30 -->\r\n",
       "<g id=\"node31\" class=\"node\"><title>30</title>\r\n",
       "<path fill=\"#399de5\" stroke=\"black\" d=\"M917,-893.5C917,-893.5 787,-893.5 787,-893.5 781,-893.5 775,-887.5 775,-881.5 775,-881.5 775,-837.5 775,-837.5 775,-831.5 781,-825.5 787,-825.5 787,-825.5 917,-825.5 917,-825.5 923,-825.5 929,-831.5 929,-837.5 929,-837.5 929,-881.5 929,-881.5 929,-887.5 923,-893.5 917,-893.5\"/>\r\n",
       "<text text-anchor=\"start\" x=\"823\" y=\"-878.3\" font-family=\"Helvetica,sans-Serif\" font-size=\"14.00\">gini = 0.0</text>\r\n",
       "<text text-anchor=\"start\" x=\"808.5\" y=\"-863.3\" font-family=\"Helvetica,sans-Serif\" font-size=\"14.00\">samples = 67</text>\r\n",
       "<text text-anchor=\"start\" x=\"783\" y=\"-848.3\" font-family=\"Helvetica,sans-Serif\" font-size=\"14.00\">value = [0.0, 142.088]</text>\r\n",
       "<text text-anchor=\"start\" x=\"817.5\" y=\"-833.3\" font-family=\"Helvetica,sans-Serif\" font-size=\"14.00\">class = left</text>\r\n",
       "</g>\r\n",
       "<!-- 29&#45;&gt;30 -->\r\n",
       "<g id=\"edge30\" class=\"edge\"><title>29&#45;&gt;30</title>\r\n",
       "<path fill=\"none\" stroke=\"black\" d=\"M912.734,-936.907C903.7,-925.542 893.873,-913.178 884.807,-901.774\"/>\r\n",
       "<polygon fill=\"black\" stroke=\"black\" points=\"887.326,-899.317 878.363,-893.667 881.846,-903.673 887.326,-899.317\"/>\r\n",
       "</g>\r\n",
       "<!-- 31 -->\r\n",
       "<g id=\"node32\" class=\"node\"><title>31</title>\r\n",
       "<path fill=\"#ea995e\" stroke=\"black\" d=\"M1114.5,-901C1114.5,-901 959.5,-901 959.5,-901 953.5,-901 947.5,-895 947.5,-889 947.5,-889 947.5,-830 947.5,-830 947.5,-824 953.5,-818 959.5,-818 959.5,-818 1114.5,-818 1114.5,-818 1120.5,-818 1126.5,-824 1126.5,-830 1126.5,-830 1126.5,-889 1126.5,-889 1126.5,-895 1120.5,-901 1114.5,-901\"/>\r\n",
       "<text text-anchor=\"start\" x=\"969\" y=\"-885.8\" font-family=\"Helvetica,sans-Serif\" font-size=\"14.00\">number_project ≤ 6.5</text>\r\n",
       "<text text-anchor=\"start\" x=\"999.5\" y=\"-870.8\" font-family=\"Helvetica,sans-Serif\" font-size=\"14.00\">gini = 0.266</text>\r\n",
       "<text text-anchor=\"start\" x=\"989.5\" y=\"-855.8\" font-family=\"Helvetica,sans-Serif\" font-size=\"14.00\">samples = 548</text>\r\n",
       "<text text-anchor=\"start\" x=\"955.5\" y=\"-840.8\" font-family=\"Helvetica,sans-Serif\" font-size=\"14.00\">value = [338.903, 63.621]</text>\r\n",
       "<text text-anchor=\"start\" x=\"993\" y=\"-825.8\" font-family=\"Helvetica,sans-Serif\" font-size=\"14.00\">class = no left</text>\r\n",
       "</g>\r\n",
       "<!-- 29&#45;&gt;31 -->\r\n",
       "<g id=\"edge31\" class=\"edge\"><title>29&#45;&gt;31</title>\r\n",
       "<path fill=\"none\" stroke=\"black\" d=\"M976.919,-936.907C983.984,-927.923 991.539,-918.315 998.824,-909.05\"/>\r\n",
       "<polygon fill=\"black\" stroke=\"black\" points=\"1001.71,-911.045 1005.14,-901.021 996.205,-906.718 1001.71,-911.045\"/>\r\n",
       "</g>\r\n",
       "<!-- 32 -->\r\n",
       "<g id=\"node33\" class=\"node\"><title>32</title>\r\n",
       "<path fill=\"#e99558\" stroke=\"black\" d=\"M991.5,-782C991.5,-782 836.5,-782 836.5,-782 830.5,-782 824.5,-776 824.5,-770 824.5,-770 824.5,-711 824.5,-711 824.5,-705 830.5,-699 836.5,-699 836.5,-699 991.5,-699 991.5,-699 997.5,-699 1003.5,-705 1003.5,-711 1003.5,-711 1003.5,-770 1003.5,-770 1003.5,-776 997.5,-782 991.5,-782\"/>\r\n",
       "<text text-anchor=\"start\" x=\"833.5\" y=\"-766.8\" font-family=\"Helvetica,sans-Serif\" font-size=\"14.00\">satisfaction_level ≤ 0.295</text>\r\n",
       "<text text-anchor=\"start\" x=\"876.5\" y=\"-751.8\" font-family=\"Helvetica,sans-Serif\" font-size=\"14.00\">gini = 0.234</text>\r\n",
       "<text text-anchor=\"start\" x=\"866.5\" y=\"-736.8\" font-family=\"Helvetica,sans-Serif\" font-size=\"14.00\">samples = 543</text>\r\n",
       "<text text-anchor=\"start\" x=\"832.5\" y=\"-721.8\" font-family=\"Helvetica,sans-Serif\" font-size=\"14.00\">value = [338.903, 53.018]</text>\r\n",
       "<text text-anchor=\"start\" x=\"870\" y=\"-706.8\" font-family=\"Helvetica,sans-Serif\" font-size=\"14.00\">class = no left</text>\r\n",
       "</g>\r\n",
       "<!-- 31&#45;&gt;32 -->\r\n",
       "<g id=\"edge32\" class=\"edge\"><title>31&#45;&gt;32</title>\r\n",
       "<path fill=\"none\" stroke=\"black\" d=\"M994.326,-817.907C984.499,-808.56 973.963,-798.538 963.861,-788.929\"/>\r\n",
       "<polygon fill=\"black\" stroke=\"black\" points=\"966.257,-786.377 956.599,-782.021 961.432,-791.449 966.257,-786.377\"/>\r\n",
       "</g>\r\n",
       "<!-- 41 -->\r\n",
       "<g id=\"node42\" class=\"node\"><title>41</title>\r\n",
       "<path fill=\"#399de5\" stroke=\"black\" d=\"M1156,-774.5C1156,-774.5 1034,-774.5 1034,-774.5 1028,-774.5 1022,-768.5 1022,-762.5 1022,-762.5 1022,-718.5 1022,-718.5 1022,-712.5 1028,-706.5 1034,-706.5 1034,-706.5 1156,-706.5 1156,-706.5 1162,-706.5 1168,-712.5 1168,-718.5 1168,-718.5 1168,-762.5 1168,-762.5 1168,-768.5 1162,-774.5 1156,-774.5\"/>\r\n",
       "<text text-anchor=\"start\" x=\"1063.5\" y=\"-759.3\" font-family=\"Helvetica,sans-Serif\" font-size=\"14.00\">gini = &#45;0.0</text>\r\n",
       "<text text-anchor=\"start\" x=\"1055.5\" y=\"-744.3\" font-family=\"Helvetica,sans-Serif\" font-size=\"14.00\">samples = 5</text>\r\n",
       "<text text-anchor=\"start\" x=\"1030\" y=\"-729.3\" font-family=\"Helvetica,sans-Serif\" font-size=\"14.00\">value = [0.0, 10.604]</text>\r\n",
       "<text text-anchor=\"start\" x=\"1060.5\" y=\"-714.3\" font-family=\"Helvetica,sans-Serif\" font-size=\"14.00\">class = left</text>\r\n",
       "</g>\r\n",
       "<!-- 31&#45;&gt;41 -->\r\n",
       "<g id=\"edge41\" class=\"edge\"><title>31&#45;&gt;41</title>\r\n",
       "<path fill=\"none\" stroke=\"black\" d=\"M1057.12,-817.907C1062.59,-806.873 1068.53,-794.898 1074.04,-783.773\"/>\r\n",
       "<polygon fill=\"black\" stroke=\"black\" points=\"1077.25,-785.181 1078.56,-774.667 1070.98,-782.072 1077.25,-785.181\"/>\r\n",
       "</g>\r\n",
       "<!-- 33 -->\r\n",
       "<g id=\"node34\" class=\"node\"><title>33</title>\r\n",
       "<path fill=\"#e68743\" stroke=\"black\" d=\"M970.5,-655.5C970.5,-655.5 815.5,-655.5 815.5,-655.5 809.5,-655.5 803.5,-649.5 803.5,-643.5 803.5,-643.5 803.5,-599.5 803.5,-599.5 803.5,-593.5 809.5,-587.5 815.5,-587.5 815.5,-587.5 970.5,-587.5 970.5,-587.5 976.5,-587.5 982.5,-593.5 982.5,-599.5 982.5,-599.5 982.5,-643.5 982.5,-643.5 982.5,-649.5 976.5,-655.5 970.5,-655.5\"/>\r\n",
       "<text text-anchor=\"start\" x=\"855.5\" y=\"-640.3\" font-family=\"Helvetica,sans-Serif\" font-size=\"14.00\">gini = 0.092</text>\r\n",
       "<text text-anchor=\"start\" x=\"845.5\" y=\"-625.3\" font-family=\"Helvetica,sans-Serif\" font-size=\"14.00\">samples = 389</text>\r\n",
       "<text text-anchor=\"start\" x=\"811.5\" y=\"-610.3\" font-family=\"Helvetica,sans-Serif\" font-size=\"14.00\">value = [250.579, 12.724]</text>\r\n",
       "<text text-anchor=\"start\" x=\"849\" y=\"-595.3\" font-family=\"Helvetica,sans-Serif\" font-size=\"14.00\">class = no left</text>\r\n",
       "</g>\r\n",
       "<!-- 32&#45;&gt;33 -->\r\n",
       "<g id=\"edge33\" class=\"edge\"><title>32&#45;&gt;33</title>\r\n",
       "<path fill=\"none\" stroke=\"black\" d=\"M906.714,-698.907C904.793,-688.204 902.713,-676.615 900.768,-665.776\"/>\r\n",
       "<polygon fill=\"black\" stroke=\"black\" points=\"904.165,-664.891 898.953,-655.667 897.275,-666.128 904.165,-664.891\"/>\r\n",
       "</g>\r\n",
       "<!-- 34 -->\r\n",
       "<g id=\"node35\" class=\"node\"><title>34</title>\r\n",
       "<path fill=\"#f1ba93\" stroke=\"black\" d=\"M1165.5,-663C1165.5,-663 1012.5,-663 1012.5,-663 1006.5,-663 1000.5,-657 1000.5,-651 1000.5,-651 1000.5,-592 1000.5,-592 1000.5,-586 1006.5,-580 1012.5,-580 1012.5,-580 1165.5,-580 1165.5,-580 1171.5,-580 1177.5,-586 1177.5,-592 1177.5,-592 1177.5,-651 1177.5,-651 1177.5,-657 1171.5,-663 1165.5,-663\"/>\r\n",
       "<text text-anchor=\"start\" x=\"1008.5\" y=\"-647.8\" font-family=\"Helvetica,sans-Serif\" font-size=\"14.00\">satisfaction_level ≤ 0.335</text>\r\n",
       "<text text-anchor=\"start\" x=\"1055.5\" y=\"-632.8\" font-family=\"Helvetica,sans-Serif\" font-size=\"14.00\">gini = 0.43</text>\r\n",
       "<text text-anchor=\"start\" x=\"1041.5\" y=\"-617.8\" font-family=\"Helvetica,sans-Serif\" font-size=\"14.00\">samples = 154</text>\r\n",
       "<text text-anchor=\"start\" x=\"1012\" y=\"-602.8\" font-family=\"Helvetica,sans-Serif\" font-size=\"14.00\">value = [88.324, 40.294]</text>\r\n",
       "<text text-anchor=\"start\" x=\"1045\" y=\"-587.8\" font-family=\"Helvetica,sans-Serif\" font-size=\"14.00\">class = no left</text>\r\n",
       "</g>\r\n",
       "<!-- 32&#45;&gt;34 -->\r\n",
       "<g id=\"edge34\" class=\"edge\"><title>32&#45;&gt;34</title>\r\n",
       "<path fill=\"none\" stroke=\"black\" d=\"M974.715,-698.907C989.239,-689.197 1004.85,-678.758 1019.73,-668.811\"/>\r\n",
       "<polygon fill=\"black\" stroke=\"black\" points=\"1022.02,-671.488 1028.39,-663.021 1018.13,-665.669 1022.02,-671.488\"/>\r\n",
       "</g>\r\n",
       "<!-- 35 -->\r\n",
       "<g id=\"node36\" class=\"node\"><title>35</title>\r\n",
       "<path fill=\"#d7ebfa\" stroke=\"black\" d=\"M1162,-544C1162,-544 1016,-544 1016,-544 1010,-544 1004,-538 1004,-532 1004,-532 1004,-473 1004,-473 1004,-467 1010,-461 1016,-461 1016,-461 1162,-461 1162,-461 1168,-461 1174,-467 1174,-473 1174,-473 1174,-532 1174,-532 1174,-538 1168,-544 1162,-544\"/>\r\n",
       "<text text-anchor=\"start\" x=\"1023\" y=\"-528.8\" font-family=\"Helvetica,sans-Serif\" font-size=\"14.00\">salary_medium ≤ 0.5</text>\r\n",
       "<text text-anchor=\"start\" x=\"1051.5\" y=\"-513.8\" font-family=\"Helvetica,sans-Serif\" font-size=\"14.00\">gini = 0.494</text>\r\n",
       "<text text-anchor=\"start\" x=\"1045.5\" y=\"-498.8\" font-family=\"Helvetica,sans-Serif\" font-size=\"14.00\">samples = 43</text>\r\n",
       "<text text-anchor=\"start\" x=\"1012\" y=\"-483.8\" font-family=\"Helvetica,sans-Serif\" font-size=\"14.00\">value = [20.282, 25.449]</text>\r\n",
       "<text text-anchor=\"start\" x=\"1054.5\" y=\"-468.8\" font-family=\"Helvetica,sans-Serif\" font-size=\"14.00\">class = left</text>\r\n",
       "</g>\r\n",
       "<!-- 34&#45;&gt;35 -->\r\n",
       "<g id=\"edge35\" class=\"edge\"><title>34&#45;&gt;35</title>\r\n",
       "<path fill=\"none\" stroke=\"black\" d=\"M1089,-579.907C1089,-571.649 1089,-562.864 1089,-554.302\"/>\r\n",
       "<polygon fill=\"black\" stroke=\"black\" points=\"1092.5,-554.021 1089,-544.021 1085.5,-554.021 1092.5,-554.021\"/>\r\n",
       "</g>\r\n",
       "<!-- 40 -->\r\n",
       "<g id=\"node41\" class=\"node\"><title>40</title>\r\n",
       "<path fill=\"#eb9c64\" stroke=\"black\" d=\"M1350,-536.5C1350,-536.5 1204,-536.5 1204,-536.5 1198,-536.5 1192,-530.5 1192,-524.5 1192,-524.5 1192,-480.5 1192,-480.5 1192,-474.5 1198,-468.5 1204,-468.5 1204,-468.5 1350,-468.5 1350,-468.5 1356,-468.5 1362,-474.5 1362,-480.5 1362,-480.5 1362,-524.5 1362,-524.5 1362,-530.5 1356,-536.5 1350,-536.5\"/>\r\n",
       "<text text-anchor=\"start\" x=\"1239.5\" y=\"-521.3\" font-family=\"Helvetica,sans-Serif\" font-size=\"14.00\">gini = 0.294</text>\r\n",
       "<text text-anchor=\"start\" x=\"1229.5\" y=\"-506.3\" font-family=\"Helvetica,sans-Serif\" font-size=\"14.00\">samples = 111</text>\r\n",
       "<text text-anchor=\"start\" x=\"1200\" y=\"-491.3\" font-family=\"Helvetica,sans-Serif\" font-size=\"14.00\">value = [68.042, 14.845]</text>\r\n",
       "<text text-anchor=\"start\" x=\"1233\" y=\"-476.3\" font-family=\"Helvetica,sans-Serif\" font-size=\"14.00\">class = no left</text>\r\n",
       "</g>\r\n",
       "<!-- 34&#45;&gt;40 -->\r\n",
       "<g id=\"edge40\" class=\"edge\"><title>34&#45;&gt;40</title>\r\n",
       "<path fill=\"none\" stroke=\"black\" d=\"M1154.23,-579.907C1174,-567.604 1195.64,-554.131 1215.18,-541.971\"/>\r\n",
       "<polygon fill=\"black\" stroke=\"black\" points=\"1217.07,-544.922 1223.71,-536.667 1213.37,-538.979 1217.07,-544.922\"/>\r\n",
       "</g>\r\n",
       "<!-- 36 -->\r\n",
       "<g id=\"node37\" class=\"node\"><title>36</title>\r\n",
       "<path fill=\"#8ac5f0\" stroke=\"black\" d=\"M1173.5,-425C1173.5,-425 1004.5,-425 1004.5,-425 998.5,-425 992.5,-419 992.5,-413 992.5,-413 992.5,-354 992.5,-354 992.5,-348 998.5,-342 1004.5,-342 1004.5,-342 1173.5,-342 1173.5,-342 1179.5,-342 1185.5,-348 1185.5,-354 1185.5,-354 1185.5,-413 1185.5,-413 1185.5,-419 1179.5,-425 1173.5,-425\"/>\r\n",
       "<text text-anchor=\"start\" x=\"1000.5\" y=\"-409.8\" font-family=\"Helvetica,sans-Serif\" font-size=\"14.00\">time_spend_company ≤ 5.5</text>\r\n",
       "<text text-anchor=\"start\" x=\"1051.5\" y=\"-394.8\" font-family=\"Helvetica,sans-Serif\" font-size=\"14.00\">gini = 0.413</text>\r\n",
       "<text text-anchor=\"start\" x=\"1045.5\" y=\"-379.8\" font-family=\"Helvetica,sans-Serif\" font-size=\"14.00\">samples = 28</text>\r\n",
       "<text text-anchor=\"start\" x=\"1012\" y=\"-364.8\" font-family=\"Helvetica,sans-Serif\" font-size=\"14.00\">value = [10.468, 25.449]</text>\r\n",
       "<text text-anchor=\"start\" x=\"1054.5\" y=\"-349.8\" font-family=\"Helvetica,sans-Serif\" font-size=\"14.00\">class = left</text>\r\n",
       "</g>\r\n",
       "<!-- 35&#45;&gt;36 -->\r\n",
       "<g id=\"edge36\" class=\"edge\"><title>35&#45;&gt;36</title>\r\n",
       "<path fill=\"none\" stroke=\"black\" d=\"M1089,-460.907C1089,-452.649 1089,-443.864 1089,-435.302\"/>\r\n",
       "<polygon fill=\"black\" stroke=\"black\" points=\"1092.5,-435.021 1089,-425.021 1085.5,-435.021 1092.5,-435.021\"/>\r\n",
       "</g>\r\n",
       "<!-- 39 -->\r\n",
       "<g id=\"node40\" class=\"node\"><title>39</title>\r\n",
       "<path fill=\"#e58139\" stroke=\"black\" d=\"M1328.5,-417.5C1328.5,-417.5 1215.5,-417.5 1215.5,-417.5 1209.5,-417.5 1203.5,-411.5 1203.5,-405.5 1203.5,-405.5 1203.5,-361.5 1203.5,-361.5 1203.5,-355.5 1209.5,-349.5 1215.5,-349.5 1215.5,-349.5 1328.5,-349.5 1328.5,-349.5 1334.5,-349.5 1340.5,-355.5 1340.5,-361.5 1340.5,-361.5 1340.5,-405.5 1340.5,-405.5 1340.5,-411.5 1334.5,-417.5 1328.5,-417.5\"/>\r\n",
       "<text text-anchor=\"start\" x=\"1240.5\" y=\"-402.3\" font-family=\"Helvetica,sans-Serif\" font-size=\"14.00\">gini = &#45;0.0</text>\r\n",
       "<text text-anchor=\"start\" x=\"1228.5\" y=\"-387.3\" font-family=\"Helvetica,sans-Serif\" font-size=\"14.00\">samples = 15</text>\r\n",
       "<text text-anchor=\"start\" x=\"1211.5\" y=\"-372.3\" font-family=\"Helvetica,sans-Serif\" font-size=\"14.00\">value = [9.814, 0.0]</text>\r\n",
       "<text text-anchor=\"start\" x=\"1228\" y=\"-357.3\" font-family=\"Helvetica,sans-Serif\" font-size=\"14.00\">class = no left</text>\r\n",
       "</g>\r\n",
       "<!-- 35&#45;&gt;39 -->\r\n",
       "<g id=\"edge39\" class=\"edge\"><title>35&#45;&gt;39</title>\r\n",
       "<path fill=\"none\" stroke=\"black\" d=\"M1152.49,-460.907C1171.65,-448.659 1192.62,-435.252 1211.57,-423.135\"/>\r\n",
       "<polygon fill=\"black\" stroke=\"black\" points=\"1213.58,-426.002 1220.12,-417.667 1209.81,-420.105 1213.58,-426.002\"/>\r\n",
       "</g>\r\n",
       "<!-- 37 -->\r\n",
       "<g id=\"node38\" class=\"node\"><title>37</title>\r\n",
       "<path fill=\"#62b1ea\" stroke=\"black\" d=\"M1145,-298.5C1145,-298.5 1007,-298.5 1007,-298.5 1001,-298.5 995,-292.5 995,-286.5 995,-286.5 995,-242.5 995,-242.5 995,-236.5 1001,-230.5 1007,-230.5 1007,-230.5 1145,-230.5 1145,-230.5 1151,-230.5 1157,-236.5 1157,-242.5 1157,-242.5 1157,-286.5 1157,-286.5 1157,-292.5 1151,-298.5 1145,-298.5\"/>\r\n",
       "<text text-anchor=\"start\" x=\"1038.5\" y=\"-283.3\" font-family=\"Helvetica,sans-Serif\" font-size=\"14.00\">gini = 0.283</text>\r\n",
       "<text text-anchor=\"start\" x=\"1032.5\" y=\"-268.3\" font-family=\"Helvetica,sans-Serif\" font-size=\"14.00\">samples = 20</text>\r\n",
       "<text text-anchor=\"start\" x=\"1003\" y=\"-253.3\" font-family=\"Helvetica,sans-Serif\" font-size=\"14.00\">value = [5.234, 25.449]</text>\r\n",
       "<text text-anchor=\"start\" x=\"1041.5\" y=\"-238.3\" font-family=\"Helvetica,sans-Serif\" font-size=\"14.00\">class = left</text>\r\n",
       "</g>\r\n",
       "<!-- 36&#45;&gt;37 -->\r\n",
       "<g id=\"edge37\" class=\"edge\"><title>36&#45;&gt;37</title>\r\n",
       "<path fill=\"none\" stroke=\"black\" d=\"M1084.49,-341.907C1083.3,-331.204 1082.01,-319.615 1080.81,-308.776\"/>\r\n",
       "<polygon fill=\"black\" stroke=\"black\" points=\"1084.27,-308.219 1079.69,-298.667 1077.31,-308.992 1084.27,-308.219\"/>\r\n",
       "</g>\r\n",
       "<!-- 38 -->\r\n",
       "<g id=\"node39\" class=\"node\"><title>38</title>\r\n",
       "<path fill=\"#e58139\" stroke=\"black\" d=\"M1300.5,-298.5C1300.5,-298.5 1187.5,-298.5 1187.5,-298.5 1181.5,-298.5 1175.5,-292.5 1175.5,-286.5 1175.5,-286.5 1175.5,-242.5 1175.5,-242.5 1175.5,-236.5 1181.5,-230.5 1187.5,-230.5 1187.5,-230.5 1300.5,-230.5 1300.5,-230.5 1306.5,-230.5 1312.5,-236.5 1312.5,-242.5 1312.5,-242.5 1312.5,-286.5 1312.5,-286.5 1312.5,-292.5 1306.5,-298.5 1300.5,-298.5\"/>\r\n",
       "<text text-anchor=\"start\" x=\"1212.5\" y=\"-283.3\" font-family=\"Helvetica,sans-Serif\" font-size=\"14.00\">gini = &#45;0.0</text>\r\n",
       "<text text-anchor=\"start\" x=\"1204.5\" y=\"-268.3\" font-family=\"Helvetica,sans-Serif\" font-size=\"14.00\">samples = 8</text>\r\n",
       "<text text-anchor=\"start\" x=\"1183.5\" y=\"-253.3\" font-family=\"Helvetica,sans-Serif\" font-size=\"14.00\">value = [5.234, 0.0]</text>\r\n",
       "<text text-anchor=\"start\" x=\"1200\" y=\"-238.3\" font-family=\"Helvetica,sans-Serif\" font-size=\"14.00\">class = no left</text>\r\n",
       "</g>\r\n",
       "<!-- 36&#45;&gt;38 -->\r\n",
       "<g id=\"edge38\" class=\"edge\"><title>36&#45;&gt;38</title>\r\n",
       "<path fill=\"none\" stroke=\"black\" d=\"M1142.78,-341.907C1158.71,-329.88 1176.13,-316.735 1191.95,-304.791\"/>\r\n",
       "<polygon fill=\"black\" stroke=\"black\" points=\"1194.19,-307.485 1200.06,-298.667 1189.97,-301.898 1194.19,-307.485\"/>\r\n",
       "</g>\r\n",
       "<!-- 43 -->\r\n",
       "<g id=\"node44\" class=\"node\"><title>43</title>\r\n",
       "<path fill=\"#e68742\" stroke=\"black\" d=\"M1664.5,-1020C1664.5,-1020 1493.5,-1020 1493.5,-1020 1487.5,-1020 1481.5,-1014 1481.5,-1008 1481.5,-1008 1481.5,-949 1481.5,-949 1481.5,-943 1487.5,-937 1493.5,-937 1493.5,-937 1664.5,-937 1664.5,-937 1670.5,-937 1676.5,-943 1676.5,-949 1676.5,-949 1676.5,-1008 1676.5,-1008 1676.5,-1014 1670.5,-1020 1664.5,-1020\"/>\r\n",
       "<text text-anchor=\"start\" x=\"1511\" y=\"-1004.8\" font-family=\"Helvetica,sans-Serif\" font-size=\"14.00\">number_project ≤ 5.5</text>\r\n",
       "<text text-anchor=\"start\" x=\"1541.5\" y=\"-989.8\" font-family=\"Helvetica,sans-Serif\" font-size=\"14.00\">gini = 0.084</text>\r\n",
       "<text text-anchor=\"start\" x=\"1527.5\" y=\"-974.8\" font-family=\"Helvetica,sans-Serif\" font-size=\"14.00\">samples = 7097</text>\r\n",
       "<text text-anchor=\"start\" x=\"1489.5\" y=\"-959.8\" font-family=\"Helvetica,sans-Serif\" font-size=\"14.00\">value = [4578.462, 209.951]</text>\r\n",
       "<text text-anchor=\"start\" x=\"1535\" y=\"-944.8\" font-family=\"Helvetica,sans-Serif\" font-size=\"14.00\">class = no left</text>\r\n",
       "</g>\r\n",
       "<!-- 42&#45;&gt;43 -->\r\n",
       "<g id=\"edge43\" class=\"edge\"><title>42&#45;&gt;43</title>\r\n",
       "<path fill=\"none\" stroke=\"black\" d=\"M1579,-1055.91C1579,-1047.65 1579,-1038.86 1579,-1030.3\"/>\r\n",
       "<polygon fill=\"black\" stroke=\"black\" points=\"1582.5,-1030.02 1579,-1020.02 1575.5,-1030.02 1582.5,-1030.02\"/>\r\n",
       "</g>\r\n",
       "<!-- 58 -->\r\n",
       "<g id=\"node59\" class=\"node\"><title>58</title>\r\n",
       "<path fill=\"#81c1ee\" stroke=\"black\" d=\"M2193.5,-1020C2193.5,-1020 2022.5,-1020 2022.5,-1020 2016.5,-1020 2010.5,-1014 2010.5,-1008 2010.5,-1008 2010.5,-949 2010.5,-949 2010.5,-943 2016.5,-937 2022.5,-937 2022.5,-937 2193.5,-937 2193.5,-937 2199.5,-937 2205.5,-943 2205.5,-949 2205.5,-949 2205.5,-1008 2205.5,-1008 2205.5,-1014 2199.5,-1020 2193.5,-1020\"/>\r\n",
       "<text text-anchor=\"start\" x=\"2035.5\" y=\"-1004.8\" font-family=\"Helvetica,sans-Serif\" font-size=\"14.00\">last_evaluation ≤ 0.805</text>\r\n",
       "<text text-anchor=\"start\" x=\"2070.5\" y=\"-989.8\" font-family=\"Helvetica,sans-Serif\" font-size=\"14.00\">gini = 0.391</text>\r\n",
       "<text text-anchor=\"start\" x=\"2056.5\" y=\"-974.8\" font-family=\"Helvetica,sans-Serif\" font-size=\"14.00\">samples = 1569</text>\r\n",
       "<text text-anchor=\"start\" x=\"2018.5\" y=\"-959.8\" font-family=\"Helvetica,sans-Serif\" font-size=\"14.00\">value = [554.807, 1529.035]</text>\r\n",
       "<text text-anchor=\"start\" x=\"2073.5\" y=\"-944.8\" font-family=\"Helvetica,sans-Serif\" font-size=\"14.00\">class = left</text>\r\n",
       "</g>\r\n",
       "<!-- 42&#45;&gt;58 -->\r\n",
       "<g id=\"edge58\" class=\"edge\"><title>42&#45;&gt;58</title>\r\n",
       "<path fill=\"none\" stroke=\"black\" d=\"M1680.68,-1074.01C1772.43,-1053.72 1906.94,-1023.97 2000.45,-1003.29\"/>\r\n",
       "<polygon fill=\"black\" stroke=\"black\" points=\"2001.21,-1006.7 2010.22,-1001.13 1999.7,-999.868 2001.21,-1006.7\"/>\r\n",
       "</g>\r\n",
       "<!-- 44 -->\r\n",
       "<g id=\"node45\" class=\"node\"><title>44</title>\r\n",
       "<path fill=\"#e68641\" stroke=\"black\" d=\"M1569,-901C1569,-901 1381,-901 1381,-901 1375,-901 1369,-895 1369,-889 1369,-889 1369,-830 1369,-830 1369,-824 1375,-818 1381,-818 1381,-818 1569,-818 1569,-818 1575,-818 1581,-824 1581,-830 1581,-830 1581,-889 1581,-889 1581,-895 1575,-901 1569,-901\"/>\r\n",
       "<text text-anchor=\"start\" x=\"1377\" y=\"-885.8\" font-family=\"Helvetica,sans-Serif\" font-size=\"14.00\">average_montly_hours ≤ 290.5</text>\r\n",
       "<text text-anchor=\"start\" x=\"1437.5\" y=\"-870.8\" font-family=\"Helvetica,sans-Serif\" font-size=\"14.00\">gini = 0.071</text>\r\n",
       "<text text-anchor=\"start\" x=\"1423.5\" y=\"-855.8\" font-family=\"Helvetica,sans-Serif\" font-size=\"14.00\">samples = 6966</text>\r\n",
       "<text text-anchor=\"start\" x=\"1385.5\" y=\"-840.8\" font-family=\"Helvetica,sans-Serif\" font-size=\"14.00\">value = [4504.532, 171.778]</text>\r\n",
       "<text text-anchor=\"start\" x=\"1431\" y=\"-825.8\" font-family=\"Helvetica,sans-Serif\" font-size=\"14.00\">class = no left</text>\r\n",
       "</g>\r\n",
       "<!-- 43&#45;&gt;44 -->\r\n",
       "<g id=\"edge44\" class=\"edge\"><title>43&#45;&gt;44</title>\r\n",
       "<path fill=\"none\" stroke=\"black\" d=\"M1542.92,-936.907C1534.85,-927.832 1526.22,-918.121 1517.91,-908.769\"/>\r\n",
       "<polygon fill=\"black\" stroke=\"black\" points=\"1520.28,-906.17 1511.02,-901.021 1515.05,-910.82 1520.28,-906.17\"/>\r\n",
       "</g>\r\n",
       "<!-- 53 -->\r\n",
       "<g id=\"node54\" class=\"node\"><title>53</title>\r\n",
       "<path fill=\"#f2c29f\" stroke=\"black\" d=\"M1757,-901C1757,-901 1611,-901 1611,-901 1605,-901 1599,-895 1599,-889 1599,-889 1599,-830 1599,-830 1599,-824 1605,-818 1611,-818 1611,-818 1757,-818 1757,-818 1763,-818 1769,-824 1769,-830 1769,-830 1769,-889 1769,-889 1769,-895 1763,-901 1757,-901\"/>\r\n",
       "<text text-anchor=\"start\" x=\"1616\" y=\"-885.8\" font-family=\"Helvetica,sans-Serif\" font-size=\"14.00\">number_project ≤ 6.5</text>\r\n",
       "<text text-anchor=\"start\" x=\"1646.5\" y=\"-870.8\" font-family=\"Helvetica,sans-Serif\" font-size=\"14.00\">gini = 0.449</text>\r\n",
       "<text text-anchor=\"start\" x=\"1636.5\" y=\"-855.8\" font-family=\"Helvetica,sans-Serif\" font-size=\"14.00\">samples = 131</text>\r\n",
       "<text text-anchor=\"start\" x=\"1607\" y=\"-840.8\" font-family=\"Helvetica,sans-Serif\" font-size=\"14.00\">value = [73.931, 38.173]</text>\r\n",
       "<text text-anchor=\"start\" x=\"1640\" y=\"-825.8\" font-family=\"Helvetica,sans-Serif\" font-size=\"14.00\">class = no left</text>\r\n",
       "</g>\r\n",
       "<!-- 43&#45;&gt;53 -->\r\n",
       "<g id=\"edge53\" class=\"edge\"><title>43&#45;&gt;53</title>\r\n",
       "<path fill=\"none\" stroke=\"black\" d=\"M1615.43,-936.907C1623.65,-927.742 1632.46,-917.927 1640.93,-908.489\"/>\r\n",
       "<polygon fill=\"black\" stroke=\"black\" points=\"1643.56,-910.801 1647.64,-901.021 1638.35,-906.126 1643.56,-910.801\"/>\r\n",
       "</g>\r\n",
       "<!-- 45 -->\r\n",
       "<g id=\"node46\" class=\"node\"><title>45</title>\r\n",
       "<path fill=\"#e68640\" stroke=\"black\" d=\"M1389.5,-782C1389.5,-782 1218.5,-782 1218.5,-782 1212.5,-782 1206.5,-776 1206.5,-770 1206.5,-770 1206.5,-711 1206.5,-711 1206.5,-705 1212.5,-699 1218.5,-699 1218.5,-699 1389.5,-699 1389.5,-699 1395.5,-699 1401.5,-705 1401.5,-711 1401.5,-711 1401.5,-770 1401.5,-770 1401.5,-776 1395.5,-782 1389.5,-782\"/>\r\n",
       "<text text-anchor=\"start\" x=\"1215.5\" y=\"-766.8\" font-family=\"Helvetica,sans-Serif\" font-size=\"14.00\">time_spend_company ≤ 3.5</text>\r\n",
       "<text text-anchor=\"start\" x=\"1266.5\" y=\"-751.8\" font-family=\"Helvetica,sans-Serif\" font-size=\"14.00\">gini = 0.068</text>\r\n",
       "<text text-anchor=\"start\" x=\"1252.5\" y=\"-736.8\" font-family=\"Helvetica,sans-Serif\" font-size=\"14.00\">samples = 6962</text>\r\n",
       "<text text-anchor=\"start\" x=\"1214.5\" y=\"-721.8\" font-family=\"Helvetica,sans-Serif\" font-size=\"14.00\">value = [4504.532, 163.295]</text>\r\n",
       "<text text-anchor=\"start\" x=\"1260\" y=\"-706.8\" font-family=\"Helvetica,sans-Serif\" font-size=\"14.00\">class = no left</text>\r\n",
       "</g>\r\n",
       "<!-- 44&#45;&gt;45 -->\r\n",
       "<g id=\"edge45\" class=\"edge\"><title>44&#45;&gt;45</title>\r\n",
       "<path fill=\"none\" stroke=\"black\" d=\"M1415.67,-817.907C1401.48,-808.197 1386.22,-797.758 1371.69,-787.811\"/>\r\n",
       "<polygon fill=\"black\" stroke=\"black\" points=\"1373.45,-784.779 1363.22,-782.021 1369.5,-790.556 1373.45,-784.779\"/>\r\n",
       "</g>\r\n",
       "<!-- 52 -->\r\n",
       "<g id=\"node53\" class=\"node\"><title>52</title>\r\n",
       "<path fill=\"#399de5\" stroke=\"black\" d=\"M1544.5,-774.5C1544.5,-774.5 1431.5,-774.5 1431.5,-774.5 1425.5,-774.5 1419.5,-768.5 1419.5,-762.5 1419.5,-762.5 1419.5,-718.5 1419.5,-718.5 1419.5,-712.5 1425.5,-706.5 1431.5,-706.5 1431.5,-706.5 1544.5,-706.5 1544.5,-706.5 1550.5,-706.5 1556.5,-712.5 1556.5,-718.5 1556.5,-718.5 1556.5,-762.5 1556.5,-762.5 1556.5,-768.5 1550.5,-774.5 1544.5,-774.5\"/>\r\n",
       "<text text-anchor=\"start\" x=\"1456.5\" y=\"-759.3\" font-family=\"Helvetica,sans-Serif\" font-size=\"14.00\">gini = &#45;0.0</text>\r\n",
       "<text text-anchor=\"start\" x=\"1448.5\" y=\"-744.3\" font-family=\"Helvetica,sans-Serif\" font-size=\"14.00\">samples = 4</text>\r\n",
       "<text text-anchor=\"start\" x=\"1427.5\" y=\"-729.3\" font-family=\"Helvetica,sans-Serif\" font-size=\"14.00\">value = [0.0, 8.483]</text>\r\n",
       "<text text-anchor=\"start\" x=\"1453.5\" y=\"-714.3\" font-family=\"Helvetica,sans-Serif\" font-size=\"14.00\">class = left</text>\r\n",
       "</g>\r\n",
       "<!-- 44&#45;&gt;52 -->\r\n",
       "<g id=\"edge52\" class=\"edge\"><title>44&#45;&gt;52</title>\r\n",
       "<path fill=\"none\" stroke=\"black\" d=\"M1479.51,-817.907C1480.7,-807.204 1481.99,-795.615 1483.19,-784.776\"/>\r\n",
       "<polygon fill=\"black\" stroke=\"black\" points=\"1486.69,-784.992 1484.31,-774.667 1479.73,-784.219 1486.69,-784.992\"/>\r\n",
       "</g>\r\n",
       "<!-- 46 -->\r\n",
       "<g id=\"node47\" class=\"node\"><title>46</title>\r\n",
       "<path fill=\"#e6843e\" stroke=\"black\" d=\"M1370.5,-655.5C1370.5,-655.5 1207.5,-655.5 1207.5,-655.5 1201.5,-655.5 1195.5,-649.5 1195.5,-643.5 1195.5,-643.5 1195.5,-599.5 1195.5,-599.5 1195.5,-593.5 1201.5,-587.5 1207.5,-587.5 1207.5,-587.5 1370.5,-587.5 1370.5,-587.5 1376.5,-587.5 1382.5,-593.5 1382.5,-599.5 1382.5,-599.5 1382.5,-643.5 1382.5,-643.5 1382.5,-649.5 1376.5,-655.5 1370.5,-655.5\"/>\r\n",
       "<text text-anchor=\"start\" x=\"1251.5\" y=\"-640.3\" font-family=\"Helvetica,sans-Serif\" font-size=\"14.00\">gini = 0.045</text>\r\n",
       "<text text-anchor=\"start\" x=\"1237.5\" y=\"-625.3\" font-family=\"Helvetica,sans-Serif\" font-size=\"14.00\">samples = 5927</text>\r\n",
       "<text text-anchor=\"start\" x=\"1203.5\" y=\"-610.3\" font-family=\"Helvetica,sans-Serif\" font-size=\"14.00\">value = [3849.625, 91.191]</text>\r\n",
       "<text text-anchor=\"start\" x=\"1245\" y=\"-595.3\" font-family=\"Helvetica,sans-Serif\" font-size=\"14.00\">class = no left</text>\r\n",
       "</g>\r\n",
       "<!-- 45&#45;&gt;46 -->\r\n",
       "<g id=\"edge46\" class=\"edge\"><title>45&#45;&gt;46</title>\r\n",
       "<path fill=\"none\" stroke=\"black\" d=\"M1298.8,-698.907C1297.42,-688.204 1295.94,-676.615 1294.55,-665.776\"/>\r\n",
       "<polygon fill=\"black\" stroke=\"black\" points=\"1298,-665.141 1293.25,-655.667 1291.05,-666.031 1298,-665.141\"/>\r\n",
       "</g>\r\n",
       "<!-- 47 -->\r\n",
       "<g id=\"node48\" class=\"node\"><title>47</title>\r\n",
       "<path fill=\"#e88f4f\" stroke=\"black\" d=\"M1567.5,-663C1567.5,-663 1412.5,-663 1412.5,-663 1406.5,-663 1400.5,-657 1400.5,-651 1400.5,-651 1400.5,-592 1400.5,-592 1400.5,-586 1406.5,-580 1412.5,-580 1412.5,-580 1567.5,-580 1567.5,-580 1573.5,-580 1579.5,-586 1579.5,-592 1579.5,-592 1579.5,-651 1579.5,-651 1579.5,-657 1573.5,-663 1567.5,-663\"/>\r\n",
       "<text text-anchor=\"start\" x=\"1409.5\" y=\"-647.8\" font-family=\"Helvetica,sans-Serif\" font-size=\"14.00\">satisfaction_level ≤ 0.485</text>\r\n",
       "<text text-anchor=\"start\" x=\"1452.5\" y=\"-632.8\" font-family=\"Helvetica,sans-Serif\" font-size=\"14.00\">gini = 0.179</text>\r\n",
       "<text text-anchor=\"start\" x=\"1438.5\" y=\"-617.8\" font-family=\"Helvetica,sans-Serif\" font-size=\"14.00\">samples = 1035</text>\r\n",
       "<text text-anchor=\"start\" x=\"1408.5\" y=\"-602.8\" font-family=\"Helvetica,sans-Serif\" font-size=\"14.00\">value = [654.907, 72.104]</text>\r\n",
       "<text text-anchor=\"start\" x=\"1446\" y=\"-587.8\" font-family=\"Helvetica,sans-Serif\" font-size=\"14.00\">class = no left</text>\r\n",
       "</g>\r\n",
       "<!-- 45&#45;&gt;47 -->\r\n",
       "<g id=\"edge47\" class=\"edge\"><title>45&#45;&gt;47</title>\r\n",
       "<path fill=\"none\" stroke=\"black\" d=\"M1368.53,-698.907C1384.11,-689.106 1400.87,-678.563 1416.82,-668.533\"/>\r\n",
       "<polygon fill=\"black\" stroke=\"black\" points=\"1418.98,-671.308 1425.58,-663.021 1415.25,-665.383 1418.98,-671.308\"/>\r\n",
       "</g>\r\n",
       "<!-- 48 -->\r\n",
       "<g id=\"node49\" class=\"node\"><title>48</title>\r\n",
       "<path fill=\"#d8ecfa\" stroke=\"black\" d=\"M1582,-544C1582,-544 1394,-544 1394,-544 1388,-544 1382,-538 1382,-532 1382,-532 1382,-473 1382,-473 1382,-467 1388,-461 1394,-461 1394,-461 1582,-461 1582,-461 1588,-461 1594,-467 1594,-473 1594,-473 1594,-532 1594,-532 1594,-538 1588,-544 1582,-544\"/>\r\n",
       "<text text-anchor=\"start\" x=\"1390\" y=\"-528.8\" font-family=\"Helvetica,sans-Serif\" font-size=\"14.00\">average_montly_hours ≤ 232.5</text>\r\n",
       "<text text-anchor=\"start\" x=\"1450.5\" y=\"-513.8\" font-family=\"Helvetica,sans-Serif\" font-size=\"14.00\">gini = 0.494</text>\r\n",
       "<text text-anchor=\"start\" x=\"1444.5\" y=\"-498.8\" font-family=\"Helvetica,sans-Serif\" font-size=\"14.00\">samples = 18</text>\r\n",
       "<text text-anchor=\"start\" x=\"1415\" y=\"-483.8\" font-family=\"Helvetica,sans-Serif\" font-size=\"14.00\">value = [8.505, 10.604]</text>\r\n",
       "<text text-anchor=\"start\" x=\"1453.5\" y=\"-468.8\" font-family=\"Helvetica,sans-Serif\" font-size=\"14.00\">class = left</text>\r\n",
       "</g>\r\n",
       "<!-- 47&#45;&gt;48 -->\r\n",
       "<g id=\"edge48\" class=\"edge\"><title>47&#45;&gt;48</title>\r\n",
       "<path fill=\"none\" stroke=\"black\" d=\"M1489.31,-579.907C1489.16,-571.558 1489.01,-562.671 1488.86,-554.02\"/>\r\n",
       "<polygon fill=\"black\" stroke=\"black\" points=\"1492.36,-553.959 1488.69,-544.021 1485.36,-554.079 1492.36,-553.959\"/>\r\n",
       "</g>\r\n",
       "<!-- 51 -->\r\n",
       "<g id=\"node52\" class=\"node\"><title>51</title>\r\n",
       "<path fill=\"#e78d4c\" stroke=\"black\" d=\"M1779.5,-536.5C1779.5,-536.5 1624.5,-536.5 1624.5,-536.5 1618.5,-536.5 1612.5,-530.5 1612.5,-524.5 1612.5,-524.5 1612.5,-480.5 1612.5,-480.5 1612.5,-474.5 1618.5,-468.5 1624.5,-468.5 1624.5,-468.5 1779.5,-468.5 1779.5,-468.5 1785.5,-468.5 1791.5,-474.5 1791.5,-480.5 1791.5,-480.5 1791.5,-524.5 1791.5,-524.5 1791.5,-530.5 1785.5,-536.5 1779.5,-536.5\"/>\r\n",
       "<text text-anchor=\"start\" x=\"1664.5\" y=\"-521.3\" font-family=\"Helvetica,sans-Serif\" font-size=\"14.00\">gini = 0.159</text>\r\n",
       "<text text-anchor=\"start\" x=\"1650.5\" y=\"-506.3\" font-family=\"Helvetica,sans-Serif\" font-size=\"14.00\">samples = 1017</text>\r\n",
       "<text text-anchor=\"start\" x=\"1620.5\" y=\"-491.3\" font-family=\"Helvetica,sans-Serif\" font-size=\"14.00\">value = [646.402, 61.501]</text>\r\n",
       "<text text-anchor=\"start\" x=\"1658\" y=\"-476.3\" font-family=\"Helvetica,sans-Serif\" font-size=\"14.00\">class = no left</text>\r\n",
       "</g>\r\n",
       "<!-- 47&#45;&gt;51 -->\r\n",
       "<g id=\"edge51\" class=\"edge\"><title>47&#45;&gt;51</title>\r\n",
       "<path fill=\"none\" stroke=\"black\" d=\"M1563.55,-579.907C1586.05,-567.494 1610.7,-553.889 1632.88,-541.644\"/>\r\n",
       "<polygon fill=\"black\" stroke=\"black\" points=\"1634.84,-544.563 1641.9,-536.667 1631.46,-538.435 1634.84,-544.563\"/>\r\n",
       "</g>\r\n",
       "<!-- 49 -->\r\n",
       "<g id=\"node50\" class=\"node\"><title>49</title>\r\n",
       "<path fill=\"#e58139\" stroke=\"black\" d=\"M1513.5,-417.5C1513.5,-417.5 1400.5,-417.5 1400.5,-417.5 1394.5,-417.5 1388.5,-411.5 1388.5,-405.5 1388.5,-405.5 1388.5,-361.5 1388.5,-361.5 1388.5,-355.5 1394.5,-349.5 1400.5,-349.5 1400.5,-349.5 1513.5,-349.5 1513.5,-349.5 1519.5,-349.5 1525.5,-355.5 1525.5,-361.5 1525.5,-361.5 1525.5,-405.5 1525.5,-405.5 1525.5,-411.5 1519.5,-417.5 1513.5,-417.5\"/>\r\n",
       "<text text-anchor=\"start\" x=\"1428\" y=\"-402.3\" font-family=\"Helvetica,sans-Serif\" font-size=\"14.00\">gini = 0.0</text>\r\n",
       "<text text-anchor=\"start\" x=\"1413.5\" y=\"-387.3\" font-family=\"Helvetica,sans-Serif\" font-size=\"14.00\">samples = 12</text>\r\n",
       "<text text-anchor=\"start\" x=\"1396.5\" y=\"-372.3\" font-family=\"Helvetica,sans-Serif\" font-size=\"14.00\">value = [7.851, 0.0]</text>\r\n",
       "<text text-anchor=\"start\" x=\"1413\" y=\"-357.3\" font-family=\"Helvetica,sans-Serif\" font-size=\"14.00\">class = no left</text>\r\n",
       "</g>\r\n",
       "<!-- 48&#45;&gt;49 -->\r\n",
       "<g id=\"edge49\" class=\"edge\"><title>48&#45;&gt;49</title>\r\n",
       "<path fill=\"none\" stroke=\"black\" d=\"M1477.24,-460.907C1474.38,-450.094 1471.27,-438.376 1468.38,-427.441\"/>\r\n",
       "<polygon fill=\"black\" stroke=\"black\" points=\"1471.73,-426.437 1465.79,-417.667 1464.97,-428.23 1471.73,-426.437\"/>\r\n",
       "</g>\r\n",
       "<!-- 50 -->\r\n",
       "<g id=\"node51\" class=\"node\"><title>50</title>\r\n",
       "<path fill=\"#45a3e7\" stroke=\"black\" d=\"M1694,-417.5C1694,-417.5 1556,-417.5 1556,-417.5 1550,-417.5 1544,-411.5 1544,-405.5 1544,-405.5 1544,-361.5 1544,-361.5 1544,-355.5 1550,-349.5 1556,-349.5 1556,-349.5 1694,-349.5 1694,-349.5 1700,-349.5 1706,-355.5 1706,-361.5 1706,-361.5 1706,-405.5 1706,-405.5 1706,-411.5 1700,-417.5 1694,-417.5\"/>\r\n",
       "<text text-anchor=\"start\" x=\"1587.5\" y=\"-402.3\" font-family=\"Helvetica,sans-Serif\" font-size=\"14.00\">gini = 0.109</text>\r\n",
       "<text text-anchor=\"start\" x=\"1585.5\" y=\"-387.3\" font-family=\"Helvetica,sans-Serif\" font-size=\"14.00\">samples = 6</text>\r\n",
       "<text text-anchor=\"start\" x=\"1552\" y=\"-372.3\" font-family=\"Helvetica,sans-Serif\" font-size=\"14.00\">value = [0.654, 10.604]</text>\r\n",
       "<text text-anchor=\"start\" x=\"1590.5\" y=\"-357.3\" font-family=\"Helvetica,sans-Serif\" font-size=\"14.00\">class = left</text>\r\n",
       "</g>\r\n",
       "<!-- 48&#45;&gt;50 -->\r\n",
       "<g id=\"edge50\" class=\"edge\"><title>48&#45;&gt;50</title>\r\n",
       "<path fill=\"none\" stroke=\"black\" d=\"M1535.53,-460.907C1549.36,-449.101 1564.44,-436.217 1578.22,-424.45\"/>\r\n",
       "<polygon fill=\"black\" stroke=\"black\" points=\"1580.83,-426.823 1586.16,-417.667 1576.29,-421.5 1580.83,-426.823\"/>\r\n",
       "</g>\r\n",
       "<!-- 54 -->\r\n",
       "<g id=\"node55\" class=\"node\"><title>54</title>\r\n",
       "<path fill=\"#efb489\" stroke=\"black\" d=\"M1740,-782C1740,-782 1602,-782 1602,-782 1596,-782 1590,-776 1590,-770 1590,-770 1590,-711 1590,-711 1590,-705 1596,-699 1602,-699 1602,-699 1740,-699 1740,-699 1746,-699 1752,-705 1752,-711 1752,-711 1752,-770 1752,-770 1752,-776 1746,-782 1740,-782\"/>\r\n",
       "<text text-anchor=\"start\" x=\"1598.5\" y=\"-766.8\" font-family=\"Helvetica,sans-Serif\" font-size=\"14.00\">last_evaluation ≤ 0.625</text>\r\n",
       "<text text-anchor=\"start\" x=\"1633.5\" y=\"-751.8\" font-family=\"Helvetica,sans-Serif\" font-size=\"14.00\">gini = 0.409</text>\r\n",
       "<text text-anchor=\"start\" x=\"1623.5\" y=\"-736.8\" font-family=\"Helvetica,sans-Serif\" font-size=\"14.00\">samples = 127</text>\r\n",
       "<text text-anchor=\"start\" x=\"1598\" y=\"-721.8\" font-family=\"Helvetica,sans-Serif\" font-size=\"14.00\">value = [73.931, 29.69]</text>\r\n",
       "<text text-anchor=\"start\" x=\"1627\" y=\"-706.8\" font-family=\"Helvetica,sans-Serif\" font-size=\"14.00\">class = no left</text>\r\n",
       "</g>\r\n",
       "<!-- 53&#45;&gt;54 -->\r\n",
       "<g id=\"edge54\" class=\"edge\"><title>53&#45;&gt;54</title>\r\n",
       "<path fill=\"none\" stroke=\"black\" d=\"M1679.49,-817.907C1678.56,-809.558 1677.57,-800.671 1676.61,-792.02\"/>\r\n",
       "<polygon fill=\"black\" stroke=\"black\" points=\"1680.09,-791.573 1675.5,-782.021 1673.13,-792.346 1680.09,-791.573\"/>\r\n",
       "</g>\r\n",
       "<!-- 57 -->\r\n",
       "<g id=\"node58\" class=\"node\"><title>57</title>\r\n",
       "<path fill=\"#399de5\" stroke=\"black\" d=\"M1895.5,-774.5C1895.5,-774.5 1782.5,-774.5 1782.5,-774.5 1776.5,-774.5 1770.5,-768.5 1770.5,-762.5 1770.5,-762.5 1770.5,-718.5 1770.5,-718.5 1770.5,-712.5 1776.5,-706.5 1782.5,-706.5 1782.5,-706.5 1895.5,-706.5 1895.5,-706.5 1901.5,-706.5 1907.5,-712.5 1907.5,-718.5 1907.5,-718.5 1907.5,-762.5 1907.5,-762.5 1907.5,-768.5 1901.5,-774.5 1895.5,-774.5\"/>\r\n",
       "<text text-anchor=\"start\" x=\"1810\" y=\"-759.3\" font-family=\"Helvetica,sans-Serif\" font-size=\"14.00\">gini = 0.0</text>\r\n",
       "<text text-anchor=\"start\" x=\"1799.5\" y=\"-744.3\" font-family=\"Helvetica,sans-Serif\" font-size=\"14.00\">samples = 4</text>\r\n",
       "<text text-anchor=\"start\" x=\"1778.5\" y=\"-729.3\" font-family=\"Helvetica,sans-Serif\" font-size=\"14.00\">value = [0.0, 8.483]</text>\r\n",
       "<text text-anchor=\"start\" x=\"1804.5\" y=\"-714.3\" font-family=\"Helvetica,sans-Serif\" font-size=\"14.00\">class = left</text>\r\n",
       "</g>\r\n",
       "<!-- 53&#45;&gt;57 -->\r\n",
       "<g id=\"edge57\" class=\"edge\"><title>53&#45;&gt;57</title>\r\n",
       "<path fill=\"none\" stroke=\"black\" d=\"M1737.78,-817.907C1753.71,-805.88 1771.13,-792.735 1786.95,-780.791\"/>\r\n",
       "<polygon fill=\"black\" stroke=\"black\" points=\"1789.19,-783.485 1795.06,-774.667 1784.97,-777.898 1789.19,-783.485\"/>\r\n",
       "</g>\r\n",
       "<!-- 55 -->\r\n",
       "<g id=\"node56\" class=\"node\"><title>55</title>\r\n",
       "<path fill=\"#e58139\" stroke=\"black\" d=\"M1732,-655.5C1732,-655.5 1610,-655.5 1610,-655.5 1604,-655.5 1598,-649.5 1598,-643.5 1598,-643.5 1598,-599.5 1598,-599.5 1598,-593.5 1604,-587.5 1610,-587.5 1610,-587.5 1732,-587.5 1732,-587.5 1738,-587.5 1744,-593.5 1744,-599.5 1744,-599.5 1744,-643.5 1744,-643.5 1744,-649.5 1738,-655.5 1732,-655.5\"/>\r\n",
       "<text text-anchor=\"start\" x=\"1642\" y=\"-640.3\" font-family=\"Helvetica,sans-Serif\" font-size=\"14.00\">gini = 0.0</text>\r\n",
       "<text text-anchor=\"start\" x=\"1627.5\" y=\"-625.3\" font-family=\"Helvetica,sans-Serif\" font-size=\"14.00\">samples = 53</text>\r\n",
       "<text text-anchor=\"start\" x=\"1606\" y=\"-610.3\" font-family=\"Helvetica,sans-Serif\" font-size=\"14.00\">value = [34.675, 0.0]</text>\r\n",
       "<text text-anchor=\"start\" x=\"1627\" y=\"-595.3\" font-family=\"Helvetica,sans-Serif\" font-size=\"14.00\">class = no left</text>\r\n",
       "</g>\r\n",
       "<!-- 54&#45;&gt;55 -->\r\n",
       "<g id=\"edge55\" class=\"edge\"><title>54&#45;&gt;55</title>\r\n",
       "<path fill=\"none\" stroke=\"black\" d=\"M1671,-698.907C1671,-688.204 1671,-676.615 1671,-665.776\"/>\r\n",
       "<polygon fill=\"black\" stroke=\"black\" points=\"1674.5,-665.667 1671,-655.667 1667.5,-665.667 1674.5,-665.667\"/>\r\n",
       "</g>\r\n",
       "<!-- 56 -->\r\n",
       "<g id=\"node57\" class=\"node\"><title>56</title>\r\n",
       "<path fill=\"#f9e0cf\" stroke=\"black\" d=\"M1912,-655.5C1912,-655.5 1774,-655.5 1774,-655.5 1768,-655.5 1762,-649.5 1762,-643.5 1762,-643.5 1762,-599.5 1762,-599.5 1762,-593.5 1768,-587.5 1774,-587.5 1774,-587.5 1912,-587.5 1912,-587.5 1918,-587.5 1924,-593.5 1924,-599.5 1924,-599.5 1924,-643.5 1924,-643.5 1924,-649.5 1918,-655.5 1912,-655.5\"/>\r\n",
       "<text text-anchor=\"start\" x=\"1809.5\" y=\"-640.3\" font-family=\"Helvetica,sans-Serif\" font-size=\"14.00\">gini = 0.49</text>\r\n",
       "<text text-anchor=\"start\" x=\"1799.5\" y=\"-625.3\" font-family=\"Helvetica,sans-Serif\" font-size=\"14.00\">samples = 74</text>\r\n",
       "<text text-anchor=\"start\" x=\"1770\" y=\"-610.3\" font-family=\"Helvetica,sans-Serif\" font-size=\"14.00\">value = [39.255, 29.69]</text>\r\n",
       "<text text-anchor=\"start\" x=\"1799\" y=\"-595.3\" font-family=\"Helvetica,sans-Serif\" font-size=\"14.00\">class = no left</text>\r\n",
       "</g>\r\n",
       "<!-- 54&#45;&gt;56 -->\r\n",
       "<g id=\"edge56\" class=\"edge\"><title>54&#45;&gt;56</title>\r\n",
       "<path fill=\"none\" stroke=\"black\" d=\"M1730.67,-698.907C1748.52,-686.769 1768.04,-673.493 1785.72,-661.462\"/>\r\n",
       "<polygon fill=\"black\" stroke=\"black\" points=\"1787.94,-664.185 1794.24,-655.667 1784,-658.397 1787.94,-664.185\"/>\r\n",
       "</g>\r\n",
       "<!-- 59 -->\r\n",
       "<g id=\"node60\" class=\"node\"><title>59</title>\r\n",
       "<path fill=\"#e89254\" stroke=\"black\" d=\"M2202,-901C2202,-901 2014,-901 2014,-901 2008,-901 2002,-895 2002,-889 2002,-889 2002,-830 2002,-830 2002,-824 2008,-818 2014,-818 2014,-818 2202,-818 2202,-818 2208,-818 2214,-824 2214,-830 2214,-830 2214,-889 2214,-889 2214,-895 2208,-901 2202,-901\"/>\r\n",
       "<text text-anchor=\"start\" x=\"2010\" y=\"-885.8\" font-family=\"Helvetica,sans-Serif\" font-size=\"14.00\">average_montly_hours ≤ 272.5</text>\r\n",
       "<text text-anchor=\"start\" x=\"2070.5\" y=\"-870.8\" font-family=\"Helvetica,sans-Serif\" font-size=\"14.00\">gini = 0.209</text>\r\n",
       "<text text-anchor=\"start\" x=\"2060.5\" y=\"-855.8\" font-family=\"Helvetica,sans-Serif\" font-size=\"14.00\">samples = 602</text>\r\n",
       "<text text-anchor=\"start\" x=\"2026.5\" y=\"-840.8\" font-family=\"Helvetica,sans-Serif\" font-size=\"14.00\">value = [378.158, 50.897]</text>\r\n",
       "<text text-anchor=\"start\" x=\"2064\" y=\"-825.8\" font-family=\"Helvetica,sans-Serif\" font-size=\"14.00\">class = no left</text>\r\n",
       "</g>\r\n",
       "<!-- 58&#45;&gt;59 -->\r\n",
       "<g id=\"edge59\" class=\"edge\"><title>58&#45;&gt;59</title>\r\n",
       "<path fill=\"none\" stroke=\"black\" d=\"M2108,-936.907C2108,-928.649 2108,-919.864 2108,-911.302\"/>\r\n",
       "<polygon fill=\"black\" stroke=\"black\" points=\"2111.5,-911.021 2108,-901.021 2104.5,-911.021 2111.5,-911.021\"/>\r\n",
       "</g>\r\n",
       "<!-- 64 -->\r\n",
       "<g id=\"node65\" class=\"node\"><title>64</title>\r\n",
       "<path fill=\"#51a9e8\" stroke=\"black\" d=\"M2509.5,-901C2509.5,-901 2338.5,-901 2338.5,-901 2332.5,-901 2326.5,-895 2326.5,-889 2326.5,-889 2326.5,-830 2326.5,-830 2326.5,-824 2332.5,-818 2338.5,-818 2338.5,-818 2509.5,-818 2509.5,-818 2515.5,-818 2521.5,-824 2521.5,-830 2521.5,-830 2521.5,-889 2521.5,-889 2521.5,-895 2515.5,-901 2509.5,-901\"/>\r\n",
       "<text text-anchor=\"start\" x=\"2335.5\" y=\"-885.8\" font-family=\"Helvetica,sans-Serif\" font-size=\"14.00\">time_spend_company ≤ 6.5</text>\r\n",
       "<text text-anchor=\"start\" x=\"2386.5\" y=\"-870.8\" font-family=\"Helvetica,sans-Serif\" font-size=\"14.00\">gini = 0.191</text>\r\n",
       "<text text-anchor=\"start\" x=\"2376.5\" y=\"-855.8\" font-family=\"Helvetica,sans-Serif\" font-size=\"14.00\">samples = 967</text>\r\n",
       "<text text-anchor=\"start\" x=\"2334.5\" y=\"-840.8\" font-family=\"Helvetica,sans-Serif\" font-size=\"14.00\">value = [176.648, 1478.138]</text>\r\n",
       "<text text-anchor=\"start\" x=\"2389.5\" y=\"-825.8\" font-family=\"Helvetica,sans-Serif\" font-size=\"14.00\">class = left</text>\r\n",
       "</g>\r\n",
       "<!-- 58&#45;&gt;64 -->\r\n",
       "<g id=\"edge64\" class=\"edge\"><title>58&#45;&gt;64</title>\r\n",
       "<path fill=\"none\" stroke=\"black\" d=\"M2205.82,-941.282C2241.01,-928.252 2280.89,-913.488 2316.83,-900.179\"/>\r\n",
       "<polygon fill=\"black\" stroke=\"black\" points=\"2318.21,-903.402 2326.37,-896.648 2315.78,-896.838 2318.21,-903.402\"/>\r\n",
       "</g>\r\n",
       "<!-- 60 -->\r\n",
       "<g id=\"node61\" class=\"node\"><title>60</title>\r\n",
       "<path fill=\"#e88e4d\" stroke=\"black\" d=\"M2092.5,-774.5C2092.5,-774.5 1937.5,-774.5 1937.5,-774.5 1931.5,-774.5 1925.5,-768.5 1925.5,-762.5 1925.5,-762.5 1925.5,-718.5 1925.5,-718.5 1925.5,-712.5 1931.5,-706.5 1937.5,-706.5 1937.5,-706.5 2092.5,-706.5 2092.5,-706.5 2098.5,-706.5 2104.5,-712.5 2104.5,-718.5 2104.5,-718.5 2104.5,-762.5 2104.5,-762.5 2104.5,-768.5 2098.5,-774.5 2092.5,-774.5\"/>\r\n",
       "<text text-anchor=\"start\" x=\"1977.5\" y=\"-759.3\" font-family=\"Helvetica,sans-Serif\" font-size=\"14.00\">gini = 0.165</text>\r\n",
       "<text text-anchor=\"start\" x=\"1967.5\" y=\"-744.3\" font-family=\"Helvetica,sans-Serif\" font-size=\"14.00\">samples = 570</text>\r\n",
       "<text text-anchor=\"start\" x=\"1933.5\" y=\"-729.3\" font-family=\"Helvetica,sans-Serif\" font-size=\"14.00\">value = [361.802, 36.052]</text>\r\n",
       "<text text-anchor=\"start\" x=\"1971\" y=\"-714.3\" font-family=\"Helvetica,sans-Serif\" font-size=\"14.00\">class = no left</text>\r\n",
       "</g>\r\n",
       "<!-- 59&#45;&gt;60 -->\r\n",
       "<g id=\"edge60\" class=\"edge\"><title>59&#45;&gt;60</title>\r\n",
       "<path fill=\"none\" stroke=\"black\" d=\"M2075.73,-817.907C2066.7,-806.542 2056.87,-794.178 2047.81,-782.774\"/>\r\n",
       "<polygon fill=\"black\" stroke=\"black\" points=\"2050.33,-780.317 2041.36,-774.667 2044.85,-784.673 2050.33,-780.317\"/>\r\n",
       "</g>\r\n",
       "<!-- 61 -->\r\n",
       "<g id=\"node62\" class=\"node\"><title>61</title>\r\n",
       "<path fill=\"#fdf3ed\" stroke=\"black\" d=\"M2287.5,-782C2287.5,-782 2134.5,-782 2134.5,-782 2128.5,-782 2122.5,-776 2122.5,-770 2122.5,-770 2122.5,-711 2122.5,-711 2122.5,-705 2128.5,-699 2134.5,-699 2134.5,-699 2287.5,-699 2287.5,-699 2293.5,-699 2299.5,-705 2299.5,-711 2299.5,-711 2299.5,-770 2299.5,-770 2299.5,-776 2293.5,-782 2287.5,-782\"/>\r\n",
       "<text text-anchor=\"start\" x=\"2130.5\" y=\"-766.8\" font-family=\"Helvetica,sans-Serif\" font-size=\"14.00\">satisfaction_level ≤ 0.575</text>\r\n",
       "<text text-anchor=\"start\" x=\"2173.5\" y=\"-751.8\" font-family=\"Helvetica,sans-Serif\" font-size=\"14.00\">gini = 0.499</text>\r\n",
       "<text text-anchor=\"start\" x=\"2167.5\" y=\"-736.8\" font-family=\"Helvetica,sans-Serif\" font-size=\"14.00\">samples = 32</text>\r\n",
       "<text text-anchor=\"start\" x=\"2134\" y=\"-721.8\" font-family=\"Helvetica,sans-Serif\" font-size=\"14.00\">value = [16.356, 14.845]</text>\r\n",
       "<text text-anchor=\"start\" x=\"2167\" y=\"-706.8\" font-family=\"Helvetica,sans-Serif\" font-size=\"14.00\">class = no left</text>\r\n",
       "</g>\r\n",
       "<!-- 59&#45;&gt;61 -->\r\n",
       "<g id=\"edge61\" class=\"edge\"><title>59&#45;&gt;61</title>\r\n",
       "<path fill=\"none\" stroke=\"black\" d=\"M2143.74,-817.907C2151.72,-808.832 2160.27,-799.121 2168.51,-789.769\"/>\r\n",
       "<polygon fill=\"black\" stroke=\"black\" points=\"2171.35,-791.839 2175.33,-782.021 2166.09,-787.214 2171.35,-791.839\"/>\r\n",
       "</g>\r\n",
       "<!-- 62 -->\r\n",
       "<g id=\"node63\" class=\"node\"><title>62</title>\r\n",
       "<path fill=\"#7fc0ee\" stroke=\"black\" d=\"M2126,-655.5C2126,-655.5 1988,-655.5 1988,-655.5 1982,-655.5 1976,-649.5 1976,-643.5 1976,-643.5 1976,-599.5 1976,-599.5 1976,-593.5 1982,-587.5 1988,-587.5 1988,-587.5 2126,-587.5 2126,-587.5 2132,-587.5 2138,-593.5 2138,-599.5 2138,-599.5 2138,-643.5 2138,-643.5 2138,-649.5 2132,-655.5 2126,-655.5\"/>\r\n",
       "<text text-anchor=\"start\" x=\"2019.5\" y=\"-640.3\" font-family=\"Helvetica,sans-Serif\" font-size=\"14.00\">gini = 0.385</text>\r\n",
       "<text text-anchor=\"start\" x=\"2013.5\" y=\"-625.3\" font-family=\"Helvetica,sans-Serif\" font-size=\"14.00\">samples = 15</text>\r\n",
       "<text text-anchor=\"start\" x=\"1984\" y=\"-610.3\" font-family=\"Helvetica,sans-Serif\" font-size=\"14.00\">value = [5.234, 14.845]</text>\r\n",
       "<text text-anchor=\"start\" x=\"2022.5\" y=\"-595.3\" font-family=\"Helvetica,sans-Serif\" font-size=\"14.00\">class = left</text>\r\n",
       "</g>\r\n",
       "<!-- 61&#45;&gt;62 -->\r\n",
       "<g id=\"edge62\" class=\"edge\"><title>61&#45;&gt;62</title>\r\n",
       "<path fill=\"none\" stroke=\"black\" d=\"M2157.57,-698.907C2141.74,-686.88 2124.44,-673.735 2108.72,-661.791\"/>\r\n",
       "<polygon fill=\"black\" stroke=\"black\" points=\"2110.74,-658.93 2100.66,-655.667 2106.5,-664.503 2110.74,-658.93\"/>\r\n",
       "</g>\r\n",
       "<!-- 63 -->\r\n",
       "<g id=\"node64\" class=\"node\"><title>63</title>\r\n",
       "<path fill=\"#e58139\" stroke=\"black\" d=\"M2290,-655.5C2290,-655.5 2168,-655.5 2168,-655.5 2162,-655.5 2156,-649.5 2156,-643.5 2156,-643.5 2156,-599.5 2156,-599.5 2156,-593.5 2162,-587.5 2168,-587.5 2168,-587.5 2290,-587.5 2290,-587.5 2296,-587.5 2302,-593.5 2302,-599.5 2302,-599.5 2302,-643.5 2302,-643.5 2302,-649.5 2296,-655.5 2290,-655.5\"/>\r\n",
       "<text text-anchor=\"start\" x=\"2197.5\" y=\"-640.3\" font-family=\"Helvetica,sans-Serif\" font-size=\"14.00\">gini = &#45;0.0</text>\r\n",
       "<text text-anchor=\"start\" x=\"2185.5\" y=\"-625.3\" font-family=\"Helvetica,sans-Serif\" font-size=\"14.00\">samples = 17</text>\r\n",
       "<text text-anchor=\"start\" x=\"2164\" y=\"-610.3\" font-family=\"Helvetica,sans-Serif\" font-size=\"14.00\">value = [11.122, 0.0]</text>\r\n",
       "<text text-anchor=\"start\" x=\"2185\" y=\"-595.3\" font-family=\"Helvetica,sans-Serif\" font-size=\"14.00\">class = no left</text>\r\n",
       "</g>\r\n",
       "<!-- 61&#45;&gt;63 -->\r\n",
       "<g id=\"edge63\" class=\"edge\"><title>61&#45;&gt;63</title>\r\n",
       "<path fill=\"none\" stroke=\"black\" d=\"M2217.25,-698.907C2218.89,-688.204 2220.67,-676.615 2222.34,-665.776\"/>\r\n",
       "<polygon fill=\"black\" stroke=\"black\" points=\"2225.84,-666.083 2223.9,-655.667 2218.92,-665.018 2225.84,-666.083\"/>\r\n",
       "</g>\r\n",
       "<!-- 65 -->\r\n",
       "<g id=\"node66\" class=\"node\"><title>65</title>\r\n",
       "<path fill=\"#45a3e7\" stroke=\"black\" d=\"M2518,-782C2518,-782 2330,-782 2330,-782 2324,-782 2318,-776 2318,-770 2318,-770 2318,-711 2318,-711 2318,-705 2324,-699 2330,-699 2330,-699 2518,-699 2518,-699 2524,-699 2530,-705 2530,-711 2530,-711 2530,-770 2530,-770 2530,-776 2524,-782 2518,-782\"/>\r\n",
       "<text text-anchor=\"start\" x=\"2326\" y=\"-766.8\" font-family=\"Helvetica,sans-Serif\" font-size=\"14.00\">average_montly_hours ≤ 215.5</text>\r\n",
       "<text text-anchor=\"start\" x=\"2390.5\" y=\"-751.8\" font-family=\"Helvetica,sans-Serif\" font-size=\"14.00\">gini = 0.11</text>\r\n",
       "<text text-anchor=\"start\" x=\"2376.5\" y=\"-736.8\" font-family=\"Helvetica,sans-Serif\" font-size=\"14.00\">samples = 837</text>\r\n",
       "<text text-anchor=\"start\" x=\"2338.5\" y=\"-721.8\" font-family=\"Helvetica,sans-Serif\" font-size=\"14.00\">value = [91.595, 1478.138]</text>\r\n",
       "<text text-anchor=\"start\" x=\"2389.5\" y=\"-706.8\" font-family=\"Helvetica,sans-Serif\" font-size=\"14.00\">class = left</text>\r\n",
       "</g>\r\n",
       "<!-- 64&#45;&gt;65 -->\r\n",
       "<g id=\"edge65\" class=\"edge\"><title>64&#45;&gt;65</title>\r\n",
       "<path fill=\"none\" stroke=\"black\" d=\"M2424,-817.907C2424,-809.649 2424,-800.864 2424,-792.302\"/>\r\n",
       "<polygon fill=\"black\" stroke=\"black\" points=\"2427.5,-792.021 2424,-782.021 2420.5,-792.021 2427.5,-792.021\"/>\r\n",
       "</g>\r\n",
       "<!-- 80 -->\r\n",
       "<g id=\"node81\" class=\"node\"><title>80</title>\r\n",
       "<path fill=\"#e58139\" stroke=\"black\" d=\"M2682,-774.5C2682,-774.5 2560,-774.5 2560,-774.5 2554,-774.5 2548,-768.5 2548,-762.5 2548,-762.5 2548,-718.5 2548,-718.5 2548,-712.5 2554,-706.5 2560,-706.5 2560,-706.5 2682,-706.5 2682,-706.5 2688,-706.5 2694,-712.5 2694,-718.5 2694,-718.5 2694,-762.5 2694,-762.5 2694,-768.5 2688,-774.5 2682,-774.5\"/>\r\n",
       "<text text-anchor=\"start\" x=\"2589.5\" y=\"-759.3\" font-family=\"Helvetica,sans-Serif\" font-size=\"14.00\">gini = &#45;0.0</text>\r\n",
       "<text text-anchor=\"start\" x=\"2573.5\" y=\"-744.3\" font-family=\"Helvetica,sans-Serif\" font-size=\"14.00\">samples = 130</text>\r\n",
       "<text text-anchor=\"start\" x=\"2556\" y=\"-729.3\" font-family=\"Helvetica,sans-Serif\" font-size=\"14.00\">value = [85.053, 0.0]</text>\r\n",
       "<text text-anchor=\"start\" x=\"2577\" y=\"-714.3\" font-family=\"Helvetica,sans-Serif\" font-size=\"14.00\">class = no left</text>\r\n",
       "</g>\r\n",
       "<!-- 64&#45;&gt;80 -->\r\n",
       "<g id=\"edge80\" class=\"edge\"><title>64&#45;&gt;80</title>\r\n",
       "<path fill=\"none\" stroke=\"black\" d=\"M2492.35,-817.907C2513.16,-805.549 2535.95,-792.01 2556.5,-779.807\"/>\r\n",
       "<polygon fill=\"black\" stroke=\"black\" points=\"2558.34,-782.783 2565.15,-774.667 2554.77,-776.764 2558.34,-782.783\"/>\r\n",
       "</g>\r\n",
       "<!-- 66 -->\r\n",
       "<g id=\"node67\" class=\"node\"><title>66</title>\r\n",
       "<path fill=\"#f3c3a1\" stroke=\"black\" d=\"M2487,-663C2487,-663 2341,-663 2341,-663 2335,-663 2329,-657 2329,-651 2329,-651 2329,-592 2329,-592 2329,-586 2335,-580 2341,-580 2341,-580 2487,-580 2487,-580 2493,-580 2499,-586 2499,-592 2499,-592 2499,-651 2499,-651 2499,-657 2493,-663 2487,-663\"/>\r\n",
       "<text text-anchor=\"start\" x=\"2346\" y=\"-647.8\" font-family=\"Helvetica,sans-Serif\" font-size=\"14.00\">number_project ≤ 3.5</text>\r\n",
       "<text text-anchor=\"start\" x=\"2376.5\" y=\"-632.8\" font-family=\"Helvetica,sans-Serif\" font-size=\"14.00\">gini = 0.452</text>\r\n",
       "<text text-anchor=\"start\" x=\"2370.5\" y=\"-617.8\" font-family=\"Helvetica,sans-Serif\" font-size=\"14.00\">samples = 86</text>\r\n",
       "<text text-anchor=\"start\" x=\"2337\" y=\"-602.8\" font-family=\"Helvetica,sans-Serif\" font-size=\"14.00\">value = [48.415, 25.449]</text>\r\n",
       "<text text-anchor=\"start\" x=\"2370\" y=\"-587.8\" font-family=\"Helvetica,sans-Serif\" font-size=\"14.00\">class = no left</text>\r\n",
       "</g>\r\n",
       "<!-- 65&#45;&gt;66 -->\r\n",
       "<g id=\"edge66\" class=\"edge\"><title>65&#45;&gt;66</title>\r\n",
       "<path fill=\"none\" stroke=\"black\" d=\"M2420.53,-698.907C2419.82,-690.558 2419.06,-681.671 2418.32,-673.02\"/>\r\n",
       "<polygon fill=\"black\" stroke=\"black\" points=\"2421.8,-672.686 2417.46,-663.021 2414.83,-673.283 2421.8,-672.686\"/>\r\n",
       "</g>\r\n",
       "<!-- 73 -->\r\n",
       "<g id=\"node74\" class=\"node\"><title>73</title>\r\n",
       "<path fill=\"#3fa0e6\" stroke=\"black\" d=\"M2692.5,-663C2692.5,-663 2529.5,-663 2529.5,-663 2523.5,-663 2517.5,-657 2517.5,-651 2517.5,-651 2517.5,-592 2517.5,-592 2517.5,-586 2523.5,-580 2529.5,-580 2529.5,-580 2692.5,-580 2692.5,-580 2698.5,-580 2704.5,-586 2704.5,-592 2704.5,-592 2704.5,-651 2704.5,-651 2704.5,-657 2698.5,-663 2692.5,-663\"/>\r\n",
       "<text text-anchor=\"start\" x=\"2530.5\" y=\"-647.8\" font-family=\"Helvetica,sans-Serif\" font-size=\"14.00\">satisfaction_level ≤ 0.705</text>\r\n",
       "<text text-anchor=\"start\" x=\"2573.5\" y=\"-632.8\" font-family=\"Helvetica,sans-Serif\" font-size=\"14.00\">gini = 0.056</text>\r\n",
       "<text text-anchor=\"start\" x=\"2563.5\" y=\"-617.8\" font-family=\"Helvetica,sans-Serif\" font-size=\"14.00\">samples = 751</text>\r\n",
       "<text text-anchor=\"start\" x=\"2525.5\" y=\"-602.8\" font-family=\"Helvetica,sans-Serif\" font-size=\"14.00\">value = [43.181, 1452.689]</text>\r\n",
       "<text text-anchor=\"start\" x=\"2576.5\" y=\"-587.8\" font-family=\"Helvetica,sans-Serif\" font-size=\"14.00\">class = left</text>\r\n",
       "</g>\r\n",
       "<!-- 65&#45;&gt;73 -->\r\n",
       "<g id=\"edge73\" class=\"edge\"><title>65&#45;&gt;73</title>\r\n",
       "<path fill=\"none\" stroke=\"black\" d=\"M2488.88,-698.907C2504.54,-689.106 2521.4,-678.563 2537.43,-668.533\"/>\r\n",
       "<polygon fill=\"black\" stroke=\"black\" points=\"2539.61,-671.292 2546.24,-663.021 2535.9,-665.358 2539.61,-671.292\"/>\r\n",
       "</g>\r\n",
       "<!-- 67 -->\r\n",
       "<g id=\"node68\" class=\"node\"><title>67</title>\r\n",
       "<path fill=\"#b3d9f5\" stroke=\"black\" d=\"M2305.5,-544C2305.5,-544 2136.5,-544 2136.5,-544 2130.5,-544 2124.5,-538 2124.5,-532 2124.5,-532 2124.5,-473 2124.5,-473 2124.5,-467 2130.5,-461 2136.5,-461 2136.5,-461 2305.5,-461 2305.5,-461 2311.5,-461 2317.5,-467 2317.5,-473 2317.5,-473 2317.5,-532 2317.5,-532 2317.5,-538 2311.5,-544 2305.5,-544\"/>\r\n",
       "<text text-anchor=\"start\" x=\"2132.5\" y=\"-528.8\" font-family=\"Helvetica,sans-Serif\" font-size=\"14.00\">time_spend_company ≤ 5.5</text>\r\n",
       "<text text-anchor=\"start\" x=\"2183.5\" y=\"-513.8\" font-family=\"Helvetica,sans-Serif\" font-size=\"14.00\">gini = 0.472</text>\r\n",
       "<text text-anchor=\"start\" x=\"2177.5\" y=\"-498.8\" font-family=\"Helvetica,sans-Serif\" font-size=\"14.00\">samples = 33</text>\r\n",
       "<text text-anchor=\"start\" x=\"2144\" y=\"-483.8\" font-family=\"Helvetica,sans-Serif\" font-size=\"14.00\">value = [14.394, 23.328]</text>\r\n",
       "<text text-anchor=\"start\" x=\"2186.5\" y=\"-468.8\" font-family=\"Helvetica,sans-Serif\" font-size=\"14.00\">class = left</text>\r\n",
       "</g>\r\n",
       "<!-- 66&#45;&gt;67 -->\r\n",
       "<g id=\"edge67\" class=\"edge\"><title>66&#45;&gt;67</title>\r\n",
       "<path fill=\"none\" stroke=\"black\" d=\"M2347.04,-579.907C2330.72,-570.016 2313.16,-559.368 2296.47,-549.254\"/>\r\n",
       "<polygon fill=\"black\" stroke=\"black\" points=\"2298.21,-546.212 2287.84,-544.021 2294.58,-552.198 2298.21,-546.212\"/>\r\n",
       "</g>\r\n",
       "<!-- 72 -->\r\n",
       "<g id=\"node73\" class=\"node\"><title>72</title>\r\n",
       "<path fill=\"#e78945\" stroke=\"black\" d=\"M2486,-536.5C2486,-536.5 2348,-536.5 2348,-536.5 2342,-536.5 2336,-530.5 2336,-524.5 2336,-524.5 2336,-480.5 2336,-480.5 2336,-474.5 2342,-468.5 2348,-468.5 2348,-468.5 2486,-468.5 2486,-468.5 2492,-468.5 2498,-474.5 2498,-480.5 2498,-480.5 2498,-524.5 2498,-524.5 2498,-530.5 2492,-536.5 2486,-536.5\"/>\r\n",
       "<text text-anchor=\"start\" x=\"2383.5\" y=\"-521.3\" font-family=\"Helvetica,sans-Serif\" font-size=\"14.00\">gini = 0.11</text>\r\n",
       "<text text-anchor=\"start\" x=\"2373.5\" y=\"-506.3\" font-family=\"Helvetica,sans-Serif\" font-size=\"14.00\">samples = 53</text>\r\n",
       "<text text-anchor=\"start\" x=\"2344\" y=\"-491.3\" font-family=\"Helvetica,sans-Serif\" font-size=\"14.00\">value = [34.021, 2.121]</text>\r\n",
       "<text text-anchor=\"start\" x=\"2373\" y=\"-476.3\" font-family=\"Helvetica,sans-Serif\" font-size=\"14.00\">class = no left</text>\r\n",
       "</g>\r\n",
       "<!-- 66&#45;&gt;72 -->\r\n",
       "<g id=\"edge72\" class=\"edge\"><title>66&#45;&gt;72</title>\r\n",
       "<path fill=\"none\" stroke=\"black\" d=\"M2415.04,-579.907C2415.32,-569.204 2415.61,-557.615 2415.89,-546.776\"/>\r\n",
       "<polygon fill=\"black\" stroke=\"black\" points=\"2419.39,-546.753 2416.15,-536.667 2412.39,-546.574 2419.39,-546.753\"/>\r\n",
       "</g>\r\n",
       "<!-- 68 -->\r\n",
       "<g id=\"node69\" class=\"node\"><title>68</title>\r\n",
       "<path fill=\"#76bbed\" stroke=\"black\" d=\"M2141,-425C2141,-425 1953,-425 1953,-425 1947,-425 1941,-419 1941,-413 1941,-413 1941,-354 1941,-354 1941,-348 1947,-342 1953,-342 1953,-342 2141,-342 2141,-342 2147,-342 2153,-348 2153,-354 2153,-354 2153,-413 2153,-413 2153,-419 2147,-425 2141,-425\"/>\r\n",
       "<text text-anchor=\"start\" x=\"1949\" y=\"-409.8\" font-family=\"Helvetica,sans-Serif\" font-size=\"14.00\">average_montly_hours ≤ 142.0</text>\r\n",
       "<text text-anchor=\"start\" x=\"2013.5\" y=\"-394.8\" font-family=\"Helvetica,sans-Serif\" font-size=\"14.00\">gini = 0.36</text>\r\n",
       "<text text-anchor=\"start\" x=\"2003.5\" y=\"-379.8\" font-family=\"Helvetica,sans-Serif\" font-size=\"14.00\">samples = 22</text>\r\n",
       "<text text-anchor=\"start\" x=\"1974\" y=\"-364.8\" font-family=\"Helvetica,sans-Serif\" font-size=\"14.00\">value = [7.197, 23.328]</text>\r\n",
       "<text text-anchor=\"start\" x=\"2012.5\" y=\"-349.8\" font-family=\"Helvetica,sans-Serif\" font-size=\"14.00\">class = left</text>\r\n",
       "</g>\r\n",
       "<!-- 67&#45;&gt;68 -->\r\n",
       "<g id=\"edge68\" class=\"edge\"><title>67&#45;&gt;68</title>\r\n",
       "<path fill=\"none\" stroke=\"black\" d=\"M2160.63,-460.907C2146.19,-451.197 2130.67,-440.758 2115.87,-430.811\"/>\r\n",
       "<polygon fill=\"black\" stroke=\"black\" points=\"2117.51,-427.696 2107.26,-425.021 2113.61,-433.505 2117.51,-427.696\"/>\r\n",
       "</g>\r\n",
       "<!-- 71 -->\r\n",
       "<g id=\"node72\" class=\"node\"><title>71</title>\r\n",
       "<path fill=\"#e58139\" stroke=\"black\" d=\"M2296.5,-417.5C2296.5,-417.5 2183.5,-417.5 2183.5,-417.5 2177.5,-417.5 2171.5,-411.5 2171.5,-405.5 2171.5,-405.5 2171.5,-361.5 2171.5,-361.5 2171.5,-355.5 2177.5,-349.5 2183.5,-349.5 2183.5,-349.5 2296.5,-349.5 2296.5,-349.5 2302.5,-349.5 2308.5,-355.5 2308.5,-361.5 2308.5,-361.5 2308.5,-405.5 2308.5,-405.5 2308.5,-411.5 2302.5,-417.5 2296.5,-417.5\"/>\r\n",
       "<text text-anchor=\"start\" x=\"2208.5\" y=\"-402.3\" font-family=\"Helvetica,sans-Serif\" font-size=\"14.00\">gini = &#45;0.0</text>\r\n",
       "<text text-anchor=\"start\" x=\"2196.5\" y=\"-387.3\" font-family=\"Helvetica,sans-Serif\" font-size=\"14.00\">samples = 11</text>\r\n",
       "<text text-anchor=\"start\" x=\"2179.5\" y=\"-372.3\" font-family=\"Helvetica,sans-Serif\" font-size=\"14.00\">value = [7.197, 0.0]</text>\r\n",
       "<text text-anchor=\"start\" x=\"2196\" y=\"-357.3\" font-family=\"Helvetica,sans-Serif\" font-size=\"14.00\">class = no left</text>\r\n",
       "</g>\r\n",
       "<!-- 67&#45;&gt;71 -->\r\n",
       "<g id=\"edge71\" class=\"edge\"><title>67&#45;&gt;71</title>\r\n",
       "<path fill=\"none\" stroke=\"black\" d=\"M2227.59,-460.907C2229.33,-450.204 2231.21,-438.615 2232.97,-427.776\"/>\r\n",
       "<polygon fill=\"black\" stroke=\"black\" points=\"2236.47,-428.099 2234.61,-417.667 2229.56,-426.977 2236.47,-428.099\"/>\r\n",
       "</g>\r\n",
       "<!-- 69 -->\r\n",
       "<g id=\"node70\" class=\"node\"><title>69</title>\r\n",
       "<path fill=\"#e58139\" stroke=\"black\" d=\"M2017.5,-298.5C2017.5,-298.5 1912.5,-298.5 1912.5,-298.5 1906.5,-298.5 1900.5,-292.5 1900.5,-286.5 1900.5,-286.5 1900.5,-242.5 1900.5,-242.5 1900.5,-236.5 1906.5,-230.5 1912.5,-230.5 1912.5,-230.5 2017.5,-230.5 2017.5,-230.5 2023.5,-230.5 2029.5,-236.5 2029.5,-242.5 2029.5,-242.5 2029.5,-286.5 2029.5,-286.5 2029.5,-292.5 2023.5,-298.5 2017.5,-298.5\"/>\r\n",
       "<text text-anchor=\"start\" x=\"1936\" y=\"-283.3\" font-family=\"Helvetica,sans-Serif\" font-size=\"14.00\">gini = 0.0</text>\r\n",
       "<text text-anchor=\"start\" x=\"1925.5\" y=\"-268.3\" font-family=\"Helvetica,sans-Serif\" font-size=\"14.00\">samples = 7</text>\r\n",
       "<text text-anchor=\"start\" x=\"1908.5\" y=\"-253.3\" font-family=\"Helvetica,sans-Serif\" font-size=\"14.00\">value = [4.58, 0.0]</text>\r\n",
       "<text text-anchor=\"start\" x=\"1921\" y=\"-238.3\" font-family=\"Helvetica,sans-Serif\" font-size=\"14.00\">class = no left</text>\r\n",
       "</g>\r\n",
       "<!-- 68&#45;&gt;69 -->\r\n",
       "<g id=\"edge69\" class=\"edge\"><title>68&#45;&gt;69</title>\r\n",
       "<path fill=\"none\" stroke=\"black\" d=\"M2018.55,-341.907C2010.66,-330.652 2002.09,-318.418 1994.16,-307.106\"/>\r\n",
       "<polygon fill=\"black\" stroke=\"black\" points=\"1996.85,-304.847 1988.25,-298.667 1991.12,-308.865 1996.85,-304.847\"/>\r\n",
       "</g>\r\n",
       "<!-- 70 -->\r\n",
       "<g id=\"node71\" class=\"node\"><title>70</title>\r\n",
       "<path fill=\"#4fa8e8\" stroke=\"black\" d=\"M2198,-298.5C2198,-298.5 2060,-298.5 2060,-298.5 2054,-298.5 2048,-292.5 2048,-286.5 2048,-286.5 2048,-242.5 2048,-242.5 2048,-236.5 2054,-230.5 2060,-230.5 2060,-230.5 2198,-230.5 2198,-230.5 2204,-230.5 2210,-236.5 2210,-242.5 2210,-242.5 2210,-286.5 2210,-286.5 2210,-292.5 2204,-298.5 2198,-298.5\"/>\r\n",
       "<text text-anchor=\"start\" x=\"2091.5\" y=\"-283.3\" font-family=\"Helvetica,sans-Serif\" font-size=\"14.00\">gini = 0.181</text>\r\n",
       "<text text-anchor=\"start\" x=\"2085.5\" y=\"-268.3\" font-family=\"Helvetica,sans-Serif\" font-size=\"14.00\">samples = 15</text>\r\n",
       "<text text-anchor=\"start\" x=\"2056\" y=\"-253.3\" font-family=\"Helvetica,sans-Serif\" font-size=\"14.00\">value = [2.617, 23.328]</text>\r\n",
       "<text text-anchor=\"start\" x=\"2094.5\" y=\"-238.3\" font-family=\"Helvetica,sans-Serif\" font-size=\"14.00\">class = left</text>\r\n",
       "</g>\r\n",
       "<!-- 68&#45;&gt;70 -->\r\n",
       "<g id=\"edge70\" class=\"edge\"><title>68&#45;&gt;70</title>\r\n",
       "<path fill=\"none\" stroke=\"black\" d=\"M2075.45,-341.907C2083.34,-330.652 2091.91,-318.418 2099.84,-307.106\"/>\r\n",
       "<polygon fill=\"black\" stroke=\"black\" points=\"2102.88,-308.865 2105.75,-298.667 2097.15,-304.847 2102.88,-308.865\"/>\r\n",
       "</g>\r\n",
       "<!-- 74 -->\r\n",
       "<g id=\"node75\" class=\"node\"><title>74</title>\r\n",
       "<path fill=\"#fefcfa\" stroke=\"black\" d=\"M2680,-544C2680,-544 2534,-544 2534,-544 2528,-544 2522,-538 2522,-532 2522,-532 2522,-473 2522,-473 2522,-467 2528,-461 2534,-461 2534,-461 2680,-461 2680,-461 2686,-461 2692,-467 2692,-473 2692,-473 2692,-532 2692,-532 2692,-538 2686,-544 2680,-544\"/>\r\n",
       "<text text-anchor=\"start\" x=\"2556\" y=\"-528.8\" font-family=\"Helvetica,sans-Serif\" font-size=\"14.00\">salary_low ≤ 0.5</text>\r\n",
       "<text text-anchor=\"start\" x=\"2578\" y=\"-513.8\" font-family=\"Helvetica,sans-Serif\" font-size=\"14.00\">gini = 0.5</text>\r\n",
       "<text text-anchor=\"start\" x=\"2563.5\" y=\"-498.8\" font-family=\"Helvetica,sans-Serif\" font-size=\"14.00\">samples = 39</text>\r\n",
       "<text text-anchor=\"start\" x=\"2530\" y=\"-483.8\" font-family=\"Helvetica,sans-Serif\" font-size=\"14.00\">value = [19.628, 19.086]</text>\r\n",
       "<text text-anchor=\"start\" x=\"2563\" y=\"-468.8\" font-family=\"Helvetica,sans-Serif\" font-size=\"14.00\">class = no left</text>\r\n",
       "</g>\r\n",
       "<!-- 73&#45;&gt;74 -->\r\n",
       "<g id=\"edge74\" class=\"edge\"><title>73&#45;&gt;74</title>\r\n",
       "<path fill=\"none\" stroke=\"black\" d=\"M2609.61,-579.907C2609.33,-571.558 2609.02,-562.671 2608.73,-554.02\"/>\r\n",
       "<polygon fill=\"black\" stroke=\"black\" points=\"2612.23,-553.895 2608.39,-544.021 2605.23,-554.135 2612.23,-553.895\"/>\r\n",
       "</g>\r\n",
       "<!-- 77 -->\r\n",
       "<g id=\"node78\" class=\"node\"><title>77</title>\r\n",
       "<path fill=\"#3c9fe5\" stroke=\"black\" d=\"M2885.5,-544C2885.5,-544 2722.5,-544 2722.5,-544 2716.5,-544 2710.5,-538 2710.5,-532 2710.5,-532 2710.5,-473 2710.5,-473 2710.5,-467 2716.5,-461 2722.5,-461 2722.5,-461 2885.5,-461 2885.5,-461 2891.5,-461 2897.5,-467 2897.5,-473 2897.5,-473 2897.5,-532 2897.5,-532 2897.5,-538 2891.5,-544 2885.5,-544\"/>\r\n",
       "<text text-anchor=\"start\" x=\"2736\" y=\"-528.8\" font-family=\"Helvetica,sans-Serif\" font-size=\"14.00\">number_project ≤ 3.5</text>\r\n",
       "<text text-anchor=\"start\" x=\"2766.5\" y=\"-513.8\" font-family=\"Helvetica,sans-Serif\" font-size=\"14.00\">gini = 0.032</text>\r\n",
       "<text text-anchor=\"start\" x=\"2756.5\" y=\"-498.8\" font-family=\"Helvetica,sans-Serif\" font-size=\"14.00\">samples = 712</text>\r\n",
       "<text text-anchor=\"start\" x=\"2718.5\" y=\"-483.8\" font-family=\"Helvetica,sans-Serif\" font-size=\"14.00\">value = [23.553, 1433.603]</text>\r\n",
       "<text text-anchor=\"start\" x=\"2769.5\" y=\"-468.8\" font-family=\"Helvetica,sans-Serif\" font-size=\"14.00\">class = left</text>\r\n",
       "</g>\r\n",
       "<!-- 73&#45;&gt;77 -->\r\n",
       "<g id=\"edge77\" class=\"edge\"><title>73&#45;&gt;77</title>\r\n",
       "<path fill=\"none\" stroke=\"black\" d=\"M2677.96,-579.907C2694.28,-570.016 2711.84,-559.368 2728.53,-549.254\"/>\r\n",
       "<polygon fill=\"black\" stroke=\"black\" points=\"2730.42,-552.198 2737.16,-544.021 2726.79,-546.212 2730.42,-552.198\"/>\r\n",
       "</g>\r\n",
       "<!-- 75 -->\r\n",
       "<g id=\"node76\" class=\"node\"><title>75</title>\r\n",
       "<path fill=\"#e99458\" stroke=\"black\" d=\"M2500,-417.5C2500,-417.5 2362,-417.5 2362,-417.5 2356,-417.5 2350,-411.5 2350,-405.5 2350,-405.5 2350,-361.5 2350,-361.5 2350,-355.5 2356,-349.5 2362,-349.5 2362,-349.5 2500,-349.5 2500,-349.5 2506,-349.5 2512,-355.5 2512,-361.5 2512,-361.5 2512,-405.5 2512,-405.5 2512,-411.5 2506,-417.5 2500,-417.5\"/>\r\n",
       "<text text-anchor=\"start\" x=\"2393.5\" y=\"-402.3\" font-family=\"Helvetica,sans-Serif\" font-size=\"14.00\">gini = 0.232</text>\r\n",
       "<text text-anchor=\"start\" x=\"2387.5\" y=\"-387.3\" font-family=\"Helvetica,sans-Serif\" font-size=\"14.00\">samples = 22</text>\r\n",
       "<text text-anchor=\"start\" x=\"2358\" y=\"-372.3\" font-family=\"Helvetica,sans-Serif\" font-size=\"14.00\">value = [13.739, 2.121]</text>\r\n",
       "<text text-anchor=\"start\" x=\"2387\" y=\"-357.3\" font-family=\"Helvetica,sans-Serif\" font-size=\"14.00\">class = no left</text>\r\n",
       "</g>\r\n",
       "<!-- 74&#45;&gt;75 -->\r\n",
       "<g id=\"edge75\" class=\"edge\"><title>74&#45;&gt;75</title>\r\n",
       "<path fill=\"none\" stroke=\"black\" d=\"M2545.94,-460.907C2527.68,-448.769 2507.71,-435.493 2489.61,-423.462\"/>\r\n",
       "<polygon fill=\"black\" stroke=\"black\" points=\"2491.16,-420.288 2480.89,-417.667 2487.28,-426.118 2491.16,-420.288\"/>\r\n",
       "</g>\r\n",
       "<!-- 76 -->\r\n",
       "<g id=\"node77\" class=\"node\"><title>76</title>\r\n",
       "<path fill=\"#7ebfee\" stroke=\"black\" d=\"M2680,-417.5C2680,-417.5 2542,-417.5 2542,-417.5 2536,-417.5 2530,-411.5 2530,-405.5 2530,-405.5 2530,-361.5 2530,-361.5 2530,-355.5 2536,-349.5 2542,-349.5 2542,-349.5 2680,-349.5 2680,-349.5 2686,-349.5 2692,-355.5 2692,-361.5 2692,-361.5 2692,-405.5 2692,-405.5 2692,-411.5 2686,-417.5 2680,-417.5\"/>\r\n",
       "<text text-anchor=\"start\" x=\"2573.5\" y=\"-402.3\" font-family=\"Helvetica,sans-Serif\" font-size=\"14.00\">gini = 0.383</text>\r\n",
       "<text text-anchor=\"start\" x=\"2567.5\" y=\"-387.3\" font-family=\"Helvetica,sans-Serif\" font-size=\"14.00\">samples = 17</text>\r\n",
       "<text text-anchor=\"start\" x=\"2538\" y=\"-372.3\" font-family=\"Helvetica,sans-Serif\" font-size=\"14.00\">value = [5.888, 16.966]</text>\r\n",
       "<text text-anchor=\"start\" x=\"2576.5\" y=\"-357.3\" font-family=\"Helvetica,sans-Serif\" font-size=\"14.00\">class = left</text>\r\n",
       "</g>\r\n",
       "<!-- 74&#45;&gt;76 -->\r\n",
       "<g id=\"edge76\" class=\"edge\"><title>74&#45;&gt;76</title>\r\n",
       "<path fill=\"none\" stroke=\"black\" d=\"M2608.39,-460.907C2608.75,-450.204 2609.15,-438.615 2609.52,-427.776\"/>\r\n",
       "<polygon fill=\"black\" stroke=\"black\" points=\"2613.02,-427.781 2609.87,-417.667 2606.03,-427.541 2613.02,-427.781\"/>\r\n",
       "</g>\r\n",
       "<!-- 78 -->\r\n",
       "<g id=\"node79\" class=\"node\"><title>78</title>\r\n",
       "<path fill=\"#ea995f\" stroke=\"black\" d=\"M2868,-417.5C2868,-417.5 2730,-417.5 2730,-417.5 2724,-417.5 2718,-411.5 2718,-405.5 2718,-405.5 2718,-361.5 2718,-361.5 2718,-355.5 2724,-349.5 2730,-349.5 2730,-349.5 2868,-349.5 2868,-349.5 2874,-349.5 2880,-355.5 2880,-361.5 2880,-361.5 2880,-405.5 2880,-405.5 2880,-411.5 2874,-417.5 2868,-417.5\"/>\r\n",
       "<text text-anchor=\"start\" x=\"2761.5\" y=\"-402.3\" font-family=\"Helvetica,sans-Serif\" font-size=\"14.00\">gini = 0.269</text>\r\n",
       "<text text-anchor=\"start\" x=\"2755.5\" y=\"-387.3\" font-family=\"Helvetica,sans-Serif\" font-size=\"14.00\">samples = 18</text>\r\n",
       "<text text-anchor=\"start\" x=\"2726\" y=\"-372.3\" font-family=\"Helvetica,sans-Serif\" font-size=\"14.00\">value = [11.122, 2.121]</text>\r\n",
       "<text text-anchor=\"start\" x=\"2755\" y=\"-357.3\" font-family=\"Helvetica,sans-Serif\" font-size=\"14.00\">class = no left</text>\r\n",
       "</g>\r\n",
       "<!-- 77&#45;&gt;78 -->\r\n",
       "<g id=\"edge78\" class=\"edge\"><title>77&#45;&gt;78</title>\r\n",
       "<path fill=\"none\" stroke=\"black\" d=\"M2802.27,-460.907C2801.81,-450.204 2801.31,-438.615 2800.85,-427.776\"/>\r\n",
       "<polygon fill=\"black\" stroke=\"black\" points=\"2804.34,-427.508 2800.42,-417.667 2797.35,-427.807 2804.34,-427.508\"/>\r\n",
       "</g>\r\n",
       "<!-- 79 -->\r\n",
       "<g id=\"node80\" class=\"node\"><title>79</title>\r\n",
       "<path fill=\"#3b9ee5\" stroke=\"black\" d=\"M3073.5,-417.5C3073.5,-417.5 2910.5,-417.5 2910.5,-417.5 2904.5,-417.5 2898.5,-411.5 2898.5,-405.5 2898.5,-405.5 2898.5,-361.5 2898.5,-361.5 2898.5,-355.5 2904.5,-349.5 2910.5,-349.5 2910.5,-349.5 3073.5,-349.5 3073.5,-349.5 3079.5,-349.5 3085.5,-355.5 3085.5,-361.5 3085.5,-361.5 3085.5,-405.5 3085.5,-405.5 3085.5,-411.5 3079.5,-417.5 3073.5,-417.5\"/>\r\n",
       "<text text-anchor=\"start\" x=\"2954.5\" y=\"-402.3\" font-family=\"Helvetica,sans-Serif\" font-size=\"14.00\">gini = 0.017</text>\r\n",
       "<text text-anchor=\"start\" x=\"2944.5\" y=\"-387.3\" font-family=\"Helvetica,sans-Serif\" font-size=\"14.00\">samples = 694</text>\r\n",
       "<text text-anchor=\"start\" x=\"2906.5\" y=\"-372.3\" font-family=\"Helvetica,sans-Serif\" font-size=\"14.00\">value = [12.431, 1431.482]</text>\r\n",
       "<text text-anchor=\"start\" x=\"2957.5\" y=\"-357.3\" font-family=\"Helvetica,sans-Serif\" font-size=\"14.00\">class = left</text>\r\n",
       "</g>\r\n",
       "<!-- 77&#45;&gt;79 -->\r\n",
       "<g id=\"edge79\" class=\"edge\"><title>77&#45;&gt;79</title>\r\n",
       "<path fill=\"none\" stroke=\"black\" d=\"M2869.23,-460.907C2889,-448.604 2910.64,-435.131 2930.18,-422.971\"/>\r\n",
       "<polygon fill=\"black\" stroke=\"black\" points=\"2932.07,-425.922 2938.71,-417.667 2928.37,-419.979 2932.07,-425.922\"/>\r\n",
       "</g>\r\n",
       "</g>\r\n",
       "</svg>\r\n"
      ],
      "text/plain": [
       "<graphviz.files.Source at 0x25f18e3c188>"
      ]
     },
     "execution_count": 68,
     "metadata": {},
     "output_type": "execute_result"
    }
   ],
   "source": [
    "# visualize the graph for the tree\n",
    "with open(\"model_tree_tuned.dot\") as f:\n",
    "    dot_graph = f.read()\n",
    "graphviz.Source(dot_graph)"
   ]
  },
  {
   "cell_type": "markdown",
   "metadata": {},
   "source": [
    "#### Model tree 2"
   ]
  },
  {
   "cell_type": "code",
   "execution_count": 79,
   "metadata": {},
   "outputs": [
    {
     "data": {
      "text/plain": [
       "DecisionTreeClassifier(class_weight='balanced', max_depth=3,\n",
       "                       min_impurity_decrease=0.0005)"
      ]
     },
     "execution_count": 79,
     "metadata": {},
     "output_type": "execute_result"
    }
   ],
   "source": [
    "# show used parameters for DecisionTreeClassifier()\n",
    "model_tree_tuned = DecisionTreeClassifier(class_weight='balanced', criterion='gini', max_depth=3, min_impurity_decrease=0.0005, splitter='best')\n",
    "\n",
    "# fit the model\n",
    "model_tree_tuned.fit(X_train, y_train)"
   ]
  },
  {
   "cell_type": "code",
   "execution_count": 80,
   "metadata": {},
   "outputs": [],
   "source": [
    "y_pred_tuned = model_tree_tuned.predict(X_test)"
   ]
  },
  {
   "cell_type": "code",
   "execution_count": 81,
   "metadata": {},
   "outputs": [
    {
     "name": "stdout",
     "output_type": "stream",
     "text": [
      "Confusion matrix:\n",
      "[[2022  236]\n",
      " [  50  692]]\n"
     ]
    }
   ],
   "source": [
    "confusion = confusion_matrix(y_test, y_pred_tuned)\n",
    "print('Confusion matrix:\\n{}'.format(confusion))"
   ]
  },
  {
   "cell_type": "code",
   "execution_count": 82,
   "metadata": {},
   "outputs": [
    {
     "name": "stdout",
     "output_type": "stream",
     "text": [
      "Comparing logistic regression models\n",
      "                        Tunned     Default\n",
      "Accuracy:               0.9047     0.7953\n",
      "Sensitivity:            0.9326     0.3787\n",
      "Precision:              0.7457     0.6475\n",
      "Specificity:            0.8955     0.9322\n",
      "F1 Score:               0.8287     0.4779\n",
      "MCC Score:               0.773     0.3814\n"
     ]
    }
   ],
   "source": [
    "print('Comparing logistic regression models')\n",
    "print(f'                        Tunned     Default')\n",
    "print(f'Accuracy: {np.around(accuracy_score(y_test, y_pred_tuned),4):20} {np.around(accuracy_score(y_test, y_pred),4):10}')\n",
    "print(f'Sensitivity:  {np.around(recall_score(y_test, y_pred_tuned),4):16} {np.around(recall_score(y_test, y_pred),4):10}')\n",
    "print(f'Precision:  {np.around(precision_score(y_test, y_pred_tuned),4):18} {np.around(precision_score(y_test, y_pred),4):10}')\n",
    "print(f'Specificity: {np.around(recall_score(y_test, y_pred_tuned, pos_label=0),4):17} {np.around(recall_score(y_test, y_pred, pos_label=0),4):10}')\n",
    "print(f'F1 Score:  {np.around(f1_score(y_test, y_pred_tuned),4):19} {np.around(f1_score(y_test, y_pred),4):10}')\n",
    "print(f'MCC Score: {np.around(matthews_corrcoef(y_test, y_pred_tuned), 4):19} {np.around(matthews_corrcoef(y_test, y_pred), 4):10}')"
   ]
  },
  {
   "cell_type": "code",
   "execution_count": 83,
   "metadata": {},
   "outputs": [
    {
     "data": {
      "image/png": "[encoded data removed]",
      "text/plain": [
       "<Figure size 720x576 with 1 Axes>"
      ]
     },
     "metadata": {},
     "output_type": "display_data"
    }
   ],
   "source": [
    "# calculate the fpr and tpr for all thresholds of the classification\n",
    "probs = model_tree_tuned.predict_proba(X_test)\n",
    "preds = probs[:,1]\n",
    "fpr3, tpr3, threshold3 = metrics.roc_curve(y_test, preds)\n",
    "roc_auc3 = metrics.auc(fpr3, tpr3)\n",
    "\n",
    "# method: plt\n",
    "\n",
    "plt.figure(figsize=(10,8))\n",
    "plt.title('Receiver Operating Characteristic (ROC)', size=20)\n",
    "plt.plot(fpr3, tpr3, 'b', label = 'AUC = %0.2f' % roc_auc3)\n",
    "plt.legend(loc = 'lower right')\n",
    "plt.plot([0, 1], [0, 1],'r--')\n",
    "plt.xlim([0, 1])\n",
    "plt.ylim([0, 1])\n",
    "plt.ylabel('True Positive Rate (Sensitivity)', size=18)\n",
    "plt.xlabel('False Positive Rate (1 - Specificity)', size=18)\n",
    "plt.show()"
   ]
  },
  {
   "cell_type": "code",
   "execution_count": 84,
   "metadata": {},
   "outputs": [],
   "source": [
    "from sklearn.tree import export_graphviz\n",
    "import graphviz\n",
    "\n",
    "# generate the graph for the tree\n",
    "dot_data= export_graphviz(model_tree_tuned, out_file='model_tree_tuned2.dot', \n",
    "                          feature_names=X_test.columns,  \n",
    "#                          class_names=['0', '1'],  \n",
    "                          class_names=['no left', 'left'],\n",
    "                          filled=True, rounded=True,  \n",
    "                          special_characters=True) "
   ]
  },
  {
   "cell_type": "code",
   "execution_count": 85,
   "metadata": {},
   "outputs": [
    {
     "data": {
      "image/svg+xml": [
       "<?xml version=\"1.0\" encoding=\"UTF-8\" standalone=\"no\"?>\r\n",
       "<!DOCTYPE svg PUBLIC \"-//W3C//DTD SVG 1.1//EN\"\r\n",
       " \"http://www.w3.org/Graphics/SVG/1.1/DTD/svg11.dtd\">\r\n",
       "<!-- Generated by graphviz version 2.38.0 (20140413.2041)\r\n",
       " -->\r\n",
       "<!-- Title: Tree Pages: 1 -->\r\n",
       "<svg width=\"1582pt\" height=\"433pt\"\r\n",
       " viewBox=\"0.00 0.00 1582.00 433.00\" xmlns=\"http://www.w3.org/2000/svg\" xmlns:xlink=\"http://www.w3.org/1999/xlink\">\r\n",
       "<g id=\"graph0\" class=\"graph\" transform=\"scale(1 1) rotate(0) translate(4 429)\">\r\n",
       "<title>Tree</title>\r\n",
       "<polygon fill=\"white\" stroke=\"none\" points=\"-4,4 -4,-429 1578,-429 1578,4 -4,4\"/>\r\n",
       "<!-- 0 -->\r\n",
       "<g id=\"node1\" class=\"node\"><title>0</title>\r\n",
       "<path fill=\"#ffffff\" stroke=\"black\" d=\"M851,-425C851,-425 698,-425 698,-425 692,-425 686,-419 686,-413 686,-413 686,-354 686,-354 686,-348 692,-342 698,-342 698,-342 851,-342 851,-342 857,-342 863,-348 863,-354 863,-354 863,-413 863,-413 863,-419 857,-425 851,-425\"/>\r\n",
       "<text text-anchor=\"start\" x=\"694\" y=\"-409.8\" font-family=\"Helvetica,sans-Serif\" font-size=\"14.00\">satisfaction_level ≤ 0.465</text>\r\n",
       "<text text-anchor=\"start\" x=\"745.5\" y=\"-394.8\" font-family=\"Helvetica,sans-Serif\" font-size=\"14.00\">gini = 0.5</text>\r\n",
       "<text text-anchor=\"start\" x=\"718.5\" y=\"-379.8\" font-family=\"Helvetica,sans-Serif\" font-size=\"14.00\">samples = 11999</text>\r\n",
       "<text text-anchor=\"start\" x=\"697.5\" y=\"-364.8\" font-family=\"Helvetica,sans-Serif\" font-size=\"14.00\">value = [5999.5, 5999.5]</text>\r\n",
       "<text text-anchor=\"start\" x=\"740\" y=\"-349.8\" font-family=\"Helvetica,sans-Serif\" font-size=\"14.00\">class = left</text>\r\n",
       "</g>\r\n",
       "<!-- 1 -->\r\n",
       "<g id=\"node2\" class=\"node\"><title>1</title>\r\n",
       "<path fill=\"#61b1ea\" stroke=\"black\" d=\"M713,-306C713,-306 542,-306 542,-306 536,-306 530,-300 530,-294 530,-294 530,-235 530,-235 530,-229 536,-223 542,-223 542,-223 713,-223 713,-223 719,-223 725,-229 725,-235 725,-235 725,-294 725,-294 725,-300 719,-306 713,-306\"/>\r\n",
       "<text text-anchor=\"start\" x=\"539\" y=\"-290.8\" font-family=\"Helvetica,sans-Serif\" font-size=\"14.00\">time_spend_company ≤ 4.5</text>\r\n",
       "<text text-anchor=\"start\" x=\"590\" y=\"-275.8\" font-family=\"Helvetica,sans-Serif\" font-size=\"14.00\">gini = 0.281</text>\r\n",
       "<text text-anchor=\"start\" x=\"576\" y=\"-260.8\" font-family=\"Helvetica,sans-Serif\" font-size=\"14.00\">samples = 3333</text>\r\n",
       "<text text-anchor=\"start\" x=\"538\" y=\"-245.8\" font-family=\"Helvetica,sans-Serif\" font-size=\"14.00\">value = [866.231, 4260.514]</text>\r\n",
       "<text text-anchor=\"start\" x=\"593\" y=\"-230.8\" font-family=\"Helvetica,sans-Serif\" font-size=\"14.00\">class = left</text>\r\n",
       "</g>\r\n",
       "<!-- 0&#45;&gt;1 -->\r\n",
       "<g id=\"edge1\" class=\"edge\"><title>0&#45;&gt;1</title>\r\n",
       "<path fill=\"none\" stroke=\"black\" d=\"M723.499,-341.907C711.527,-332.379 698.673,-322.148 686.387,-312.37\"/>\r\n",
       "<polygon fill=\"black\" stroke=\"black\" points=\"688.415,-309.51 678.411,-306.021 684.055,-314.987 688.415,-309.51\"/>\r\n",
       "<text text-anchor=\"middle\" x=\"681.234\" y=\"-327.161\" font-family=\"Helvetica,sans-Serif\" font-size=\"14.00\">True</text>\r\n",
       "</g>\r\n",
       "<!-- 8 -->\r\n",
       "<g id=\"node9\" class=\"node\"><title>8</title>\r\n",
       "<path fill=\"#eeac7c\" stroke=\"black\" d=\"M1012,-306C1012,-306 833,-306 833,-306 827,-306 821,-300 821,-294 821,-294 821,-235 821,-235 821,-229 827,-223 833,-223 833,-223 1012,-223 1012,-223 1018,-223 1024,-229 1024,-235 1024,-235 1024,-294 1024,-294 1024,-300 1018,-306 1012,-306\"/>\r\n",
       "<text text-anchor=\"start\" x=\"834\" y=\"-290.8\" font-family=\"Helvetica,sans-Serif\" font-size=\"14.00\">time_spend_company ≤ 4.5</text>\r\n",
       "<text text-anchor=\"start\" x=\"885\" y=\"-275.8\" font-family=\"Helvetica,sans-Serif\" font-size=\"14.00\">gini = 0.378</text>\r\n",
       "<text text-anchor=\"start\" x=\"871\" y=\"-260.8\" font-family=\"Helvetica,sans-Serif\" font-size=\"14.00\">samples = 8666</text>\r\n",
       "<text text-anchor=\"start\" x=\"829\" y=\"-245.8\" font-family=\"Helvetica,sans-Serif\" font-size=\"14.00\">value = [5133.269, 1738.986]</text>\r\n",
       "<text text-anchor=\"start\" x=\"878.5\" y=\"-230.8\" font-family=\"Helvetica,sans-Serif\" font-size=\"14.00\">class = no left</text>\r\n",
       "</g>\r\n",
       "<!-- 0&#45;&gt;8 -->\r\n",
       "<g id=\"edge8\" class=\"edge\"><title>0&#45;&gt;8</title>\r\n",
       "<path fill=\"none\" stroke=\"black\" d=\"M825.848,-341.907C837.901,-332.379 850.842,-322.148 863.212,-312.37\"/>\r\n",
       "<polygon fill=\"black\" stroke=\"black\" points=\"865.569,-314.968 871.243,-306.021 861.228,-309.477 865.569,-314.968\"/>\r\n",
       "<text text-anchor=\"middle\" x=\"868.338\" y=\"-327.151\" font-family=\"Helvetica,sans-Serif\" font-size=\"14.00\">False</text>\r\n",
       "</g>\r\n",
       "<!-- 2 -->\r\n",
       "<g id=\"node3\" class=\"node\"><title>2</title>\r\n",
       "<path fill=\"#53aae8\" stroke=\"black\" d=\"M380,-187C380,-187 209,-187 209,-187 203,-187 197,-181 197,-175 197,-175 197,-116 197,-116 197,-110 203,-104 209,-104 209,-104 380,-104 380,-104 386,-104 392,-110 392,-116 392,-116 392,-175 392,-175 392,-181 386,-187 380,-187\"/>\r\n",
       "<text text-anchor=\"start\" x=\"206\" y=\"-171.8\" font-family=\"Helvetica,sans-Serif\" font-size=\"14.00\">time_spend_company ≤ 2.5</text>\r\n",
       "<text text-anchor=\"start\" x=\"257\" y=\"-156.8\" font-family=\"Helvetica,sans-Serif\" font-size=\"14.00\">gini = 0.204</text>\r\n",
       "<text text-anchor=\"start\" x=\"243\" y=\"-141.8\" font-family=\"Helvetica,sans-Serif\" font-size=\"14.00\">samples = 2718</text>\r\n",
       "<text text-anchor=\"start\" x=\"205\" y=\"-126.8\" font-family=\"Helvetica,sans-Serif\" font-size=\"14.00\">value = [527.328, 4054.805]</text>\r\n",
       "<text text-anchor=\"start\" x=\"260\" y=\"-111.8\" font-family=\"Helvetica,sans-Serif\" font-size=\"14.00\">class = left</text>\r\n",
       "</g>\r\n",
       "<!-- 1&#45;&gt;2 -->\r\n",
       "<g id=\"edge2\" class=\"edge\"><title>1&#45;&gt;2</title>\r\n",
       "<path fill=\"none\" stroke=\"black\" d=\"M529.839,-229.187C489.601,-215.049 442.853,-198.624 401.675,-184.156\"/>\r\n",
       "<polygon fill=\"black\" stroke=\"black\" points=\"402.754,-180.826 392.159,-180.813 400.434,-187.43 402.754,-180.826\"/>\r\n",
       "</g>\r\n",
       "<!-- 5 -->\r\n",
       "<g id=\"node6\" class=\"node\"><title>5</title>\r\n",
       "<path fill=\"#f5cdb1\" stroke=\"black\" d=\"M709,-187C709,-187 546,-187 546,-187 540,-187 534,-181 534,-175 534,-175 534,-116 534,-116 534,-110 540,-104 546,-104 546,-104 709,-104 709,-104 715,-104 721,-110 721,-116 721,-116 721,-175 721,-175 721,-181 715,-187 709,-187\"/>\r\n",
       "<text text-anchor=\"start\" x=\"547\" y=\"-171.8\" font-family=\"Helvetica,sans-Serif\" font-size=\"14.00\">satisfaction_level ≤ 0.115</text>\r\n",
       "<text text-anchor=\"start\" x=\"594\" y=\"-156.8\" font-family=\"Helvetica,sans-Serif\" font-size=\"14.00\">gini = 0.47</text>\r\n",
       "<text text-anchor=\"start\" x=\"580\" y=\"-141.8\" font-family=\"Helvetica,sans-Serif\" font-size=\"14.00\">samples = 615</text>\r\n",
       "<text text-anchor=\"start\" x=\"542\" y=\"-126.8\" font-family=\"Helvetica,sans-Serif\" font-size=\"14.00\">value = [338.903, 205.709]</text>\r\n",
       "<text text-anchor=\"start\" x=\"583.5\" y=\"-111.8\" font-family=\"Helvetica,sans-Serif\" font-size=\"14.00\">class = no left</text>\r\n",
       "</g>\r\n",
       "<!-- 1&#45;&gt;5 -->\r\n",
       "<g id=\"edge5\" class=\"edge\"><title>1&#45;&gt;5</title>\r\n",
       "<path fill=\"none\" stroke=\"black\" d=\"M627.5,-222.907C627.5,-214.649 627.5,-205.864 627.5,-197.302\"/>\r\n",
       "<polygon fill=\"black\" stroke=\"black\" points=\"631,-197.021 627.5,-187.021 624,-197.021 631,-197.021\"/>\r\n",
       "</g>\r\n",
       "<!-- 3 -->\r\n",
       "<g id=\"node4\" class=\"node\"><title>3</title>\r\n",
       "<path fill=\"#eb9f68\" stroke=\"black\" d=\"M167,-68C167,-68 12,-68 12,-68 6,-68 0,-62 0,-56 0,-56 0,-12 0,-12 0,-6 6,-0 12,-0 12,-0 167,-0 167,-0 173,-0 179,-6 179,-12 179,-12 179,-56 179,-56 179,-62 173,-68 167,-68\"/>\r\n",
       "<text text-anchor=\"start\" x=\"52\" y=\"-52.8\" font-family=\"Helvetica,sans-Serif\" font-size=\"14.00\">gini = 0.309</text>\r\n",
       "<text text-anchor=\"start\" x=\"42\" y=\"-37.8\" font-family=\"Helvetica,sans-Serif\" font-size=\"14.00\">samples = 221</text>\r\n",
       "<text text-anchor=\"start\" x=\"8\" y=\"-22.8\" font-family=\"Helvetica,sans-Serif\" font-size=\"14.00\">value = [134.776, 31.811]</text>\r\n",
       "<text text-anchor=\"start\" x=\"45.5\" y=\"-7.8\" font-family=\"Helvetica,sans-Serif\" font-size=\"14.00\">class = no left</text>\r\n",
       "</g>\r\n",
       "<!-- 2&#45;&gt;3 -->\r\n",
       "<g id=\"edge3\" class=\"edge\"><title>2&#45;&gt;3</title>\r\n",
       "<path fill=\"none\" stroke=\"black\" d=\"M218.457,-103.882C199.46,-93.7346 179.161,-82.8922 160.423,-72.8832\"/>\r\n",
       "<polygon fill=\"black\" stroke=\"black\" points=\"161.832,-69.6676 151.362,-68.0433 158.533,-75.842 161.832,-69.6676\"/>\r\n",
       "</g>\r\n",
       "<!-- 4 -->\r\n",
       "<g id=\"node5\" class=\"node\"><title>4</title>\r\n",
       "<path fill=\"#4ca7e8\" stroke=\"black\" d=\"M380,-68C380,-68 209,-68 209,-68 203,-68 197,-62 197,-56 197,-56 197,-12 197,-12 197,-6 203,-0 209,-0 209,-0 380,-0 380,-0 386,-0 392,-6 392,-12 392,-12 392,-56 392,-56 392,-62 386,-68 380,-68\"/>\r\n",
       "<text text-anchor=\"start\" x=\"257\" y=\"-52.8\" font-family=\"Helvetica,sans-Serif\" font-size=\"14.00\">gini = 0.162</text>\r\n",
       "<text text-anchor=\"start\" x=\"243\" y=\"-37.8\" font-family=\"Helvetica,sans-Serif\" font-size=\"14.00\">samples = 2497</text>\r\n",
       "<text text-anchor=\"start\" x=\"205\" y=\"-22.8\" font-family=\"Helvetica,sans-Serif\" font-size=\"14.00\">value = [392.552, 4022.995]</text>\r\n",
       "<text text-anchor=\"start\" x=\"260\" y=\"-7.8\" font-family=\"Helvetica,sans-Serif\" font-size=\"14.00\">class = left</text>\r\n",
       "</g>\r\n",
       "<!-- 2&#45;&gt;4 -->\r\n",
       "<g id=\"edge4\" class=\"edge\"><title>2&#45;&gt;4</title>\r\n",
       "<path fill=\"none\" stroke=\"black\" d=\"M294.5,-103.726C294.5,-95.5175 294.5,-86.8595 294.5,-78.56\"/>\r\n",
       "<polygon fill=\"black\" stroke=\"black\" points=\"298,-78.2996 294.5,-68.2996 291,-78.2996 298,-78.2996\"/>\r\n",
       "</g>\r\n",
       "<!-- 6 -->\r\n",
       "<g id=\"node7\" class=\"node\"><title>6</title>\r\n",
       "<path fill=\"#399de5\" stroke=\"black\" d=\"M552.5,-68C552.5,-68 422.5,-68 422.5,-68 416.5,-68 410.5,-62 410.5,-56 410.5,-56 410.5,-12 410.5,-12 410.5,-6 416.5,-0 422.5,-0 422.5,-0 552.5,-0 552.5,-0 558.5,-0 564.5,-6 564.5,-12 564.5,-12 564.5,-56 564.5,-56 564.5,-62 558.5,-68 552.5,-68\"/>\r\n",
       "<text text-anchor=\"start\" x=\"458.5\" y=\"-52.8\" font-family=\"Helvetica,sans-Serif\" font-size=\"14.00\">gini = 0.0</text>\r\n",
       "<text text-anchor=\"start\" x=\"444\" y=\"-37.8\" font-family=\"Helvetica,sans-Serif\" font-size=\"14.00\">samples = 67</text>\r\n",
       "<text text-anchor=\"start\" x=\"418.5\" y=\"-22.8\" font-family=\"Helvetica,sans-Serif\" font-size=\"14.00\">value = [0.0, 142.088]</text>\r\n",
       "<text text-anchor=\"start\" x=\"453\" y=\"-7.8\" font-family=\"Helvetica,sans-Serif\" font-size=\"14.00\">class = left</text>\r\n",
       "</g>\r\n",
       "<!-- 5&#45;&gt;6 -->\r\n",
       "<g id=\"edge6\" class=\"edge\"><title>5&#45;&gt;6</title>\r\n",
       "<path fill=\"none\" stroke=\"black\" d=\"M575.369,-103.726C563.241,-94.2406 550.347,-84.1551 538.278,-74.7159\"/>\r\n",
       "<polygon fill=\"black\" stroke=\"black\" points=\"540.108,-71.7035 530.075,-68.2996 535.795,-77.2173 540.108,-71.7035\"/>\r\n",
       "</g>\r\n",
       "<!-- 7 -->\r\n",
       "<g id=\"node8\" class=\"node\"><title>7</title>\r\n",
       "<path fill=\"#ea995e\" stroke=\"black\" d=\"M750,-68C750,-68 595,-68 595,-68 589,-68 583,-62 583,-56 583,-56 583,-12 583,-12 583,-6 589,-0 595,-0 595,-0 750,-0 750,-0 756,-0 762,-6 762,-12 762,-12 762,-56 762,-56 762,-62 756,-68 750,-68\"/>\r\n",
       "<text text-anchor=\"start\" x=\"635\" y=\"-52.8\" font-family=\"Helvetica,sans-Serif\" font-size=\"14.00\">gini = 0.266</text>\r\n",
       "<text text-anchor=\"start\" x=\"625\" y=\"-37.8\" font-family=\"Helvetica,sans-Serif\" font-size=\"14.00\">samples = 548</text>\r\n",
       "<text text-anchor=\"start\" x=\"591\" y=\"-22.8\" font-family=\"Helvetica,sans-Serif\" font-size=\"14.00\">value = [338.903, 63.621]</text>\r\n",
       "<text text-anchor=\"start\" x=\"628.5\" y=\"-7.8\" font-family=\"Helvetica,sans-Serif\" font-size=\"14.00\">class = no left</text>\r\n",
       "</g>\r\n",
       "<!-- 5&#45;&gt;7 -->\r\n",
       "<g id=\"edge7\" class=\"edge\"><title>5&#45;&gt;7</title>\r\n",
       "<path fill=\"none\" stroke=\"black\" d=\"M644.256,-103.726C647.742,-95.2439 651.425,-86.2819 654.939,-77.7312\"/>\r\n",
       "<polygon fill=\"black\" stroke=\"black\" points=\"658.251,-78.8794 658.815,-68.2996 651.777,-76.2186 658.251,-78.8794\"/>\r\n",
       "</g>\r\n",
       "<!-- 9 -->\r\n",
       "<g id=\"node10\" class=\"node\"><title>9</title>\r\n",
       "<path fill=\"#e68742\" stroke=\"black\" d=\"M1008,-187C1008,-187 837,-187 837,-187 831,-187 825,-181 825,-175 825,-175 825,-116 825,-116 825,-110 831,-104 837,-104 837,-104 1008,-104 1008,-104 1014,-104 1020,-110 1020,-116 1020,-116 1020,-175 1020,-175 1020,-181 1014,-187 1008,-187\"/>\r\n",
       "<text text-anchor=\"start\" x=\"854.5\" y=\"-171.8\" font-family=\"Helvetica,sans-Serif\" font-size=\"14.00\">number_project ≤ 5.5</text>\r\n",
       "<text text-anchor=\"start\" x=\"885\" y=\"-156.8\" font-family=\"Helvetica,sans-Serif\" font-size=\"14.00\">gini = 0.084</text>\r\n",
       "<text text-anchor=\"start\" x=\"871\" y=\"-141.8\" font-family=\"Helvetica,sans-Serif\" font-size=\"14.00\">samples = 7097</text>\r\n",
       "<text text-anchor=\"start\" x=\"833\" y=\"-126.8\" font-family=\"Helvetica,sans-Serif\" font-size=\"14.00\">value = [4578.462, 209.951]</text>\r\n",
       "<text text-anchor=\"start\" x=\"878.5\" y=\"-111.8\" font-family=\"Helvetica,sans-Serif\" font-size=\"14.00\">class = no left</text>\r\n",
       "</g>\r\n",
       "<!-- 8&#45;&gt;9 -->\r\n",
       "<g id=\"edge9\" class=\"edge\"><title>8&#45;&gt;9</title>\r\n",
       "<path fill=\"none\" stroke=\"black\" d=\"M922.5,-222.907C922.5,-214.649 922.5,-205.864 922.5,-197.302\"/>\r\n",
       "<polygon fill=\"black\" stroke=\"black\" points=\"926,-197.021 922.5,-187.021 919,-197.021 926,-197.021\"/>\r\n",
       "</g>\r\n",
       "<!-- 12 -->\r\n",
       "<g id=\"node13\" class=\"node\"><title>12</title>\r\n",
       "<path fill=\"#81c1ee\" stroke=\"black\" d=\"M1357,-187C1357,-187 1186,-187 1186,-187 1180,-187 1174,-181 1174,-175 1174,-175 1174,-116 1174,-116 1174,-110 1180,-104 1186,-104 1186,-104 1357,-104 1357,-104 1363,-104 1369,-110 1369,-116 1369,-116 1369,-175 1369,-175 1369,-181 1363,-187 1357,-187\"/>\r\n",
       "<text text-anchor=\"start\" x=\"1199\" y=\"-171.8\" font-family=\"Helvetica,sans-Serif\" font-size=\"14.00\">last_evaluation ≤ 0.805</text>\r\n",
       "<text text-anchor=\"start\" x=\"1234\" y=\"-156.8\" font-family=\"Helvetica,sans-Serif\" font-size=\"14.00\">gini = 0.391</text>\r\n",
       "<text text-anchor=\"start\" x=\"1220\" y=\"-141.8\" font-family=\"Helvetica,sans-Serif\" font-size=\"14.00\">samples = 1569</text>\r\n",
       "<text text-anchor=\"start\" x=\"1182\" y=\"-126.8\" font-family=\"Helvetica,sans-Serif\" font-size=\"14.00\">value = [554.807, 1529.035]</text>\r\n",
       "<text text-anchor=\"start\" x=\"1237\" y=\"-111.8\" font-family=\"Helvetica,sans-Serif\" font-size=\"14.00\">class = left</text>\r\n",
       "</g>\r\n",
       "<!-- 8&#45;&gt;12 -->\r\n",
       "<g id=\"edge12\" class=\"edge\"><title>8&#45;&gt;12</title>\r\n",
       "<path fill=\"none\" stroke=\"black\" d=\"M1024.38,-229.344C1068.34,-214.609 1119.78,-197.365 1164.31,-182.436\"/>\r\n",
       "<polygon fill=\"black\" stroke=\"black\" points=\"1165.62,-185.686 1173.99,-179.189 1163.4,-179.049 1165.62,-185.686\"/>\r\n",
       "</g>\r\n",
       "<!-- 10 -->\r\n",
       "<g id=\"node11\" class=\"node\"><title>10</title>\r\n",
       "<path fill=\"#e68641\" stroke=\"black\" d=\"M963,-68C963,-68 792,-68 792,-68 786,-68 780,-62 780,-56 780,-56 780,-12 780,-12 780,-6 786,-0 792,-0 792,-0 963,-0 963,-0 969,-0 975,-6 975,-12 975,-12 975,-56 975,-56 975,-62 969,-68 963,-68\"/>\r\n",
       "<text text-anchor=\"start\" x=\"840\" y=\"-52.8\" font-family=\"Helvetica,sans-Serif\" font-size=\"14.00\">gini = 0.071</text>\r\n",
       "<text text-anchor=\"start\" x=\"826\" y=\"-37.8\" font-family=\"Helvetica,sans-Serif\" font-size=\"14.00\">samples = 6966</text>\r\n",
       "<text text-anchor=\"start\" x=\"788\" y=\"-22.8\" font-family=\"Helvetica,sans-Serif\" font-size=\"14.00\">value = [4504.532, 171.778]</text>\r\n",
       "<text text-anchor=\"start\" x=\"833.5\" y=\"-7.8\" font-family=\"Helvetica,sans-Serif\" font-size=\"14.00\">class = no left</text>\r\n",
       "</g>\r\n",
       "<!-- 9&#45;&gt;10 -->\r\n",
       "<g id=\"edge10\" class=\"edge\"><title>9&#45;&gt;10</title>\r\n",
       "<path fill=\"none\" stroke=\"black\" d=\"M905.744,-103.726C902.258,-95.2439 898.575,-86.2819 895.061,-77.7312\"/>\r\n",
       "<polygon fill=\"black\" stroke=\"black\" points=\"898.223,-76.2186 891.185,-68.2996 891.749,-78.8794 898.223,-76.2186\"/>\r\n",
       "</g>\r\n",
       "<!-- 11 -->\r\n",
       "<g id=\"node12\" class=\"node\"><title>11</title>\r\n",
       "<path fill=\"#f2c29f\" stroke=\"black\" d=\"M1151.5,-68C1151.5,-68 1005.5,-68 1005.5,-68 999.5,-68 993.5,-62 993.5,-56 993.5,-56 993.5,-12 993.5,-12 993.5,-6 999.5,-0 1005.5,-0 1005.5,-0 1151.5,-0 1151.5,-0 1157.5,-0 1163.5,-6 1163.5,-12 1163.5,-12 1163.5,-56 1163.5,-56 1163.5,-62 1157.5,-68 1151.5,-68\"/>\r\n",
       "<text text-anchor=\"start\" x=\"1041\" y=\"-52.8\" font-family=\"Helvetica,sans-Serif\" font-size=\"14.00\">gini = 0.449</text>\r\n",
       "<text text-anchor=\"start\" x=\"1031\" y=\"-37.8\" font-family=\"Helvetica,sans-Serif\" font-size=\"14.00\">samples = 131</text>\r\n",
       "<text text-anchor=\"start\" x=\"1001.5\" y=\"-22.8\" font-family=\"Helvetica,sans-Serif\" font-size=\"14.00\">value = [73.931, 38.173]</text>\r\n",
       "<text text-anchor=\"start\" x=\"1034.5\" y=\"-7.8\" font-family=\"Helvetica,sans-Serif\" font-size=\"14.00\">class = no left</text>\r\n",
       "</g>\r\n",
       "<!-- 9&#45;&gt;11 -->\r\n",
       "<g id=\"edge11\" class=\"edge\"><title>9&#45;&gt;11</title>\r\n",
       "<path fill=\"none\" stroke=\"black\" d=\"M980.589,-103.726C994.362,-94.0582 1009.02,-83.767 1022.69,-74.172\"/>\r\n",
       "<polygon fill=\"black\" stroke=\"black\" points=\"1024.89,-76.9096 1031.06,-68.2996 1020.86,-71.1801 1024.89,-76.9096\"/>\r\n",
       "</g>\r\n",
       "<!-- 13 -->\r\n",
       "<g id=\"node14\" class=\"node\"><title>13</title>\r\n",
       "<path fill=\"#e89254\" stroke=\"black\" d=\"M1349,-68C1349,-68 1194,-68 1194,-68 1188,-68 1182,-62 1182,-56 1182,-56 1182,-12 1182,-12 1182,-6 1188,-0 1194,-0 1194,-0 1349,-0 1349,-0 1355,-0 1361,-6 1361,-12 1361,-12 1361,-56 1361,-56 1361,-62 1355,-68 1349,-68\"/>\r\n",
       "<text text-anchor=\"start\" x=\"1234\" y=\"-52.8\" font-family=\"Helvetica,sans-Serif\" font-size=\"14.00\">gini = 0.209</text>\r\n",
       "<text text-anchor=\"start\" x=\"1224\" y=\"-37.8\" font-family=\"Helvetica,sans-Serif\" font-size=\"14.00\">samples = 602</text>\r\n",
       "<text text-anchor=\"start\" x=\"1190\" y=\"-22.8\" font-family=\"Helvetica,sans-Serif\" font-size=\"14.00\">value = [378.158, 50.897]</text>\r\n",
       "<text text-anchor=\"start\" x=\"1227.5\" y=\"-7.8\" font-family=\"Helvetica,sans-Serif\" font-size=\"14.00\">class = no left</text>\r\n",
       "</g>\r\n",
       "<!-- 12&#45;&gt;13 -->\r\n",
       "<g id=\"edge13\" class=\"edge\"><title>12&#45;&gt;13</title>\r\n",
       "<path fill=\"none\" stroke=\"black\" d=\"M1271.5,-103.726C1271.5,-95.5175 1271.5,-86.8595 1271.5,-78.56\"/>\r\n",
       "<polygon fill=\"black\" stroke=\"black\" points=\"1275,-78.2996 1271.5,-68.2996 1268,-78.2996 1275,-78.2996\"/>\r\n",
       "</g>\r\n",
       "<!-- 14 -->\r\n",
       "<g id=\"node15\" class=\"node\"><title>14</title>\r\n",
       "<path fill=\"#51a9e8\" stroke=\"black\" d=\"M1562,-68C1562,-68 1391,-68 1391,-68 1385,-68 1379,-62 1379,-56 1379,-56 1379,-12 1379,-12 1379,-6 1385,-0 1391,-0 1391,-0 1562,-0 1562,-0 1568,-0 1574,-6 1574,-12 1574,-12 1574,-56 1574,-56 1574,-62 1568,-68 1562,-68\"/>\r\n",
       "<text text-anchor=\"start\" x=\"1439\" y=\"-52.8\" font-family=\"Helvetica,sans-Serif\" font-size=\"14.00\">gini = 0.191</text>\r\n",
       "<text text-anchor=\"start\" x=\"1429\" y=\"-37.8\" font-family=\"Helvetica,sans-Serif\" font-size=\"14.00\">samples = 967</text>\r\n",
       "<text text-anchor=\"start\" x=\"1387\" y=\"-22.8\" font-family=\"Helvetica,sans-Serif\" font-size=\"14.00\">value = [176.648, 1478.138]</text>\r\n",
       "<text text-anchor=\"start\" x=\"1442\" y=\"-7.8\" font-family=\"Helvetica,sans-Serif\" font-size=\"14.00\">class = left</text>\r\n",
       "</g>\r\n",
       "<!-- 12&#45;&gt;14 -->\r\n",
       "<g id=\"edge14\" class=\"edge\"><title>12&#45;&gt;14</title>\r\n",
       "<path fill=\"none\" stroke=\"black\" d=\"M1347.54,-103.882C1366.54,-93.7346 1386.84,-82.8922 1405.58,-72.8832\"/>\r\n",
       "<polygon fill=\"black\" stroke=\"black\" points=\"1407.47,-75.842 1414.64,-68.0433 1404.17,-69.6676 1407.47,-75.842\"/>\r\n",
       "</g>\r\n",
       "</g>\r\n",
       "</svg>\r\n"
      ],
      "text/plain": [
       "<graphviz.files.Source at 0x25f1d27c7c8>"
      ]
     },
     "execution_count": 85,
     "metadata": {},
     "output_type": "execute_result"
    }
   ],
   "source": [
    "# visualize the graph for the tree\n",
    "with open(\"model_tree_tuned2.dot\") as f:\n",
    "    dot_graph = f.read()\n",
    "graphviz.Source(dot_graph)"
   ]
  }
 ],
 "metadata": {
  "kernelspec": {
   "display_name": "Python 3",
   "language": "python",
   "name": "python3"
  },
  "language_info": {
   "codemirror_mode": {
    "name": "ipython",
    "version": 3
   },
   "file_extension": ".py",
   "mimetype": "text/x-python",
   "name": "python",
   "nbconvert_exporter": "python",
   "pygments_lexer": "ipython3",
   "version": "3.7.7"
  }
 },
 "nbformat": 4,
 "nbformat_minor": 4
}
